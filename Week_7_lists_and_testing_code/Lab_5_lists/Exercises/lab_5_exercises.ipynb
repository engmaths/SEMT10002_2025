{
 "cells": [
  {
   "cell_type": "markdown",
   "id": "9389380f",
   "metadata": {},
   "source": [
    "# Lab 5 Exercises - Lists"
   ]
  },
  {
   "cell_type": "markdown",
   "id": "d091464d",
   "metadata": {},
   "source": [
    "## Comprehension Checks"
   ]
  },
  {
   "cell_type": "markdown",
   "id": "d38e3525",
   "metadata": {},
   "source": [
    "Before starting today's exercises, please spend 10 minutes to run through these comprehension checks with a partner. Each check contains a few line of Python code that you can run to get some output. Before running each piece of code, discuss with your partner what you think the output will be and why. Then run the code- is it what you expected? If not, why? Discuss with your partner, and TA if you are unsure."
   ]
  },
  {
   "cell_type": "code",
   "execution_count": null,
   "id": "6646c859",
   "metadata": {},
   "outputs": [],
   "source": [
    "names = [\"Martin\", \"Hemma\", \"Arthur\", \"Josh\"]\n",
    "print(names[1])"
   ]
  },
  {
   "cell_type": "code",
   "execution_count": null,
   "id": "fa94ba98",
   "metadata": {},
   "outputs": [],
   "source": [
    "names = [\"Martin\", \"Hemma\", \"Arthur\", \"Josh\"]\n",
    "print(names[3])"
   ]
  },
  {
   "cell_type": "code",
   "execution_count": null,
   "id": "dbff1250",
   "metadata": {},
   "outputs": [],
   "source": [
    "names = [\"Martin\", \"Hemma\", \"Arthur\", \"Josh\"]\n",
    "print(names[4])"
   ]
  },
  {
   "cell_type": "code",
   "execution_count": null,
   "id": "65cfc884",
   "metadata": {},
   "outputs": [],
   "source": [
    "names = [\"Martin\", \"Hemma\", \"Arthur\", \"Josh\"]\n",
    "print(names[-1])"
   ]
  },
  {
   "cell_type": "code",
   "execution_count": null,
   "id": "ec7b637d",
   "metadata": {},
   "outputs": [],
   "source": [
    "names = [\"Martin\", \"Hemma\", \"Arthur\", \"Josh\"]\n",
    "print(names[-5])"
   ]
  },
  {
   "cell_type": "code",
   "execution_count": null,
   "id": "f8317c79",
   "metadata": {},
   "outputs": [],
   "source": [
    "names = [\"Martin\", \"Hemma\", \"Arthur\", \"Josh\"]\n",
    "print(names[3]==names[0])"
   ]
  },
  {
   "cell_type": "code",
   "execution_count": null,
   "id": "0dc6ee34",
   "metadata": {},
   "outputs": [],
   "source": [
    "numbers = [1, 4, 9, 16, 25]\n",
    "print(numbers[:2])"
   ]
  },
  {
   "cell_type": "code",
   "execution_count": null,
   "id": "f70ff056",
   "metadata": {},
   "outputs": [],
   "source": [
    "numbers = [1, 4, 9, 16, 25]\n",
    "print(numbers[3:])"
   ]
  },
  {
   "cell_type": "code",
   "execution_count": null,
   "id": "243fe8e0",
   "metadata": {},
   "outputs": [],
   "source": [
    "numbers = [1, 4, 9, 16, 25]\n",
    "print(numbers[1:3])"
   ]
  },
  {
   "cell_type": "code",
   "execution_count": null,
   "id": "0c80c812",
   "metadata": {},
   "outputs": [],
   "source": [
    "numbers = [1, 4, 9, 16, 25]\n",
    "print(numbers[100:200])"
   ]
  },
  {
   "cell_type": "code",
   "execution_count": null,
   "id": "ad11db7a",
   "metadata": {},
   "outputs": [],
   "source": [
    "numbers = [1, 4, 9, 16, 25]\n",
    "print(numbers[:-2])"
   ]
  },
  {
   "cell_type": "code",
   "execution_count": null,
   "id": "5e09e550",
   "metadata": {},
   "outputs": [],
   "source": [
    "numbers = [1, 4, 9, 16, 25]\n",
    "print(numbers[:])"
   ]
  },
  {
   "cell_type": "code",
   "execution_count": null,
   "id": "b82add67",
   "metadata": {},
   "outputs": [],
   "source": [
    "numbers = [1, 4, 9, 16, 25]\n",
    "print(numbers[0:4:2])"
   ]
  },
  {
   "cell_type": "code",
   "execution_count": null,
   "id": "e09949fe",
   "metadata": {},
   "outputs": [],
   "source": [
    "numbers = [1, 4, 9, 16, 25]\n",
    "print(numbers[::-1])"
   ]
  },
  {
   "cell_type": "code",
   "execution_count": null,
   "id": "2c891113",
   "metadata": {},
   "outputs": [],
   "source": [
    "nested_numbers = [1, [2, 3], [4, 5, 6]]\n",
    "print(nested_numbers[1])\n",
    "print(nested_numbers[0] - nested_numbers[2][0])"
   ]
  },
  {
   "cell_type": "code",
   "execution_count": null,
   "id": "ef06f39b",
   "metadata": {},
   "outputs": [],
   "source": [
    "names = [\"Martin\", \"Hemma\", \"Arthur\", \"Josh\"]\n",
    "print('martin' in names)"
   ]
  },
  {
   "cell_type": "code",
   "execution_count": null,
   "id": "65866388",
   "metadata": {},
   "outputs": [],
   "source": [
    "names = [\"Martin\", \"Hemma\", \"Arthur\", \"Josh\"]\n",
    "print('Wilbur' not in names)"
   ]
  },
  {
   "cell_type": "code",
   "execution_count": null,
   "id": "2000354f",
   "metadata": {},
   "outputs": [],
   "source": [
    "numbers = [1, 2, 3, 4, 5, 6, 7, 8, 9]\n",
    "evens = [2, 4, 6, 8]\n",
    "for number in numbers:\n",
    "\tif number in evens:\n",
    "\t\tprint(number)"
   ]
  },
  {
   "cell_type": "markdown",
   "id": "ee8c3ffb",
   "metadata": {},
   "source": [
    "### Menti"
   ]
  },
  {
   "cell_type": "markdown",
   "id": "78593d8d",
   "metadata": {},
   "source": [
    "Once you've finished the comprehension checks, please use menti.com (code XXX) to share how you did. Which question(s) did you find difficult?"
   ]
  },
  {
   "cell_type": "markdown",
   "id": "de49a8c9",
   "metadata": {},
   "source": [
    "## Exercise 1"
   ]
  },
  {
   "cell_type": "markdown",
   "id": "ff9c28d9",
   "metadata": {},
   "source": [
    "1. Make two lists containing the values [1, 4, 9] and [1, 8, 27].\n",
    "2. Double the value of the first element in each list.\n",
    "3. Add the first element of the first list to the last element of the second list.\n",
    "4. Make a nested list that contains both lists."
   ]
  },
  {
   "cell_type": "markdown",
   "id": "862e1a83",
   "metadata": {},
   "source": [
    "## Exercise 2"
   ]
  },
  {
   "cell_type": "markdown",
   "id": "1b768bf1",
   "metadata": {},
   "source": [
    "1. The following table contains data from a recent assessment. Make some lists to store this data (one list per question) and then write a loop to calculate the average mark for each question. \n",
    "\n",
    "| Student | Question 1 | Question 2 | Question 3 |\n",
    "| :-: | :-: | :-: | :-: |\n",
    "| Martin | 6 | 1 | 4 |\n",
    "| Arthur | 3 | 8 | 4 |\n",
    "| Hemma | 7 | 4 | 5 |\n",
    "| Josh | 4 | 7 | 3 |\n",
    "\n",
    "2. Write a loop to calculate the sum of the values in 3 x 3 matrices. What is the sum of the values in the matrix below?\n",
    "\n",
    "$\n",
    "\\begin{bmatrix}\n",
    "5 & 3 & 4 \\\\\n",
    "3 & 4 & 2 \\\\\n",
    "4 & 3 & 1\n",
    "\\end{bmatrix}\n",
    "$\n",
    "\n",
    "3. Write a loop that replaces each value in a matrix with its square. i.e the top left value (5) should be replaced with $5^2=25$"
   ]
  },
  {
   "cell_type": "markdown",
   "id": "e1dadaaf",
   "metadata": {},
   "source": [
    "## Exercise 3"
   ]
  },
  {
   "cell_type": "markdown",
   "id": "f2b165f5",
   "metadata": {},
   "source": [
    "### cumulative sum\n",
    "\n",
    "Write some code that given a list of numbers will create a new list where each element is the cumulative sum of numbers in the first list. I.e if we have the list of numbers ```list_of_numbers = [1, 3, 6, 10]```, then our code should create a new list ```cumulative_sum = [1, 4, 10, 16]```"
   ]
  },
  {
   "cell_type": "markdown",
   "id": "d17f316d",
   "metadata": {},
   "source": [
    "## Exercise 4"
   ]
  },
  {
   "cell_type": "markdown",
   "id": "f511320a",
   "metadata": {},
   "source": [
    "1. Square numbers are defined as the numbers $n^2$ where $n$ is an integer. Write some code to create a list of all square numbers below 1000. How many are there? What is the largest number below 1000?\n",
    "\n",
    "2. Triangular numbers $T_n$ are defined as the number of objects in an equilateral triangle with side length $n$. They are given by the formula $T_n = n(n+1)/2$.  Write some code to create a list of all triangular numbers below 1000. How many are there? What is the largest number below 1000?\n",
    "\n",
    "3. Write some code to count how many square numbers (below 1000) are also triangular numbers."
   ]
  },
  {
   "cell_type": "markdown",
   "id": "df664d32",
   "metadata": {},
   "source": [
    "## Exercise 5"
   ]
  },
  {
   "cell_type": "markdown",
   "id": "c8064f27",
   "metadata": {},
   "source": [
    "### Planetary Data\n",
    "\n",
    "| Planet  | Diameter (km) | Mass  | Rotation period |\n",
    "|-----|-----|-----|-----|\n",
    "|Mercury | 4,878           | 0.06   |58.65 (d) | \n",
    " Venus   | 12,100          | 0.82  | 243 (d) |  \n",
    " Earth   | 12,756         | 1.00  | 23.934 (h) | \n",
    " Mars    | 6,794          | 0.11  | 24.623 (h) | \n",
    " Jupiter | 142,800        | 317.89 | 9.842  (h) | \n",
    " Saturn  | 120,000        | 95.17 | 10.233 (h) | \n",
    " Uranus  | 52,400         | 14.56| 16 (h) | \n",
    " Neptune | 48,400         | 17.24 | 18 (h) | \n",
    " Pluto   | 2,445          | 0.002 | 6.39 (d) | \n",
    "\n",
    "\n",
    "Planet data taken from: https://www.rmg.co.uk/stories/topics/solar-system-data}\n",
    "\n",
    "1. Write a program that identifies and prints the name and density  (in kg m$^{-3}$) of the planet with the lowest density. Assume each planet is a perfect sphere\n",
    "\n",
    "2. Write a program that identifies and outputs the names and rotation periods of planets with a rotation period shorter than Earth's."
   ]
  },
  {
   "cell_type": "markdown",
   "id": "b168e3a8",
   "metadata": {},
   "source": []
  }
 ],
 "metadata": {
  "kernelspec": {
   "display_name": "Python 3",
   "language": "python",
   "name": "python3"
  },
  "language_info": {
   "codemirror_mode": {
    "name": "ipython",
    "version": 3
   },
   "file_extension": ".py",
   "mimetype": "text/x-python",
   "name": "python",
   "nbconvert_exporter": "python",
   "pygments_lexer": "ipython3",
   "version": "3.9.13"
  }
 },
 "nbformat": 4,
 "nbformat_minor": 5
}
