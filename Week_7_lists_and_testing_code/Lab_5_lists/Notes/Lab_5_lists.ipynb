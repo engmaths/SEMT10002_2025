{
 "cells": [
  {
   "cell_type": "markdown",
   "id": "9020e57b",
   "metadata": {},
   "source": [
    "# Lists"
   ]
  },
  {
   "cell_type": "markdown",
   "id": "4afb2f02",
   "metadata": {},
   "source": [
    "So far in this course, you've seen:\n",
    "\n",
    "* 'Basic data types such as ints, floats, booleans and strings.'\n",
    "* Operators (such as >, <, ==) for comparing two values.\n",
    "* If, elif and else statements to control which sections of code are run.\n",
    "* Loops (such as for, while) to perform repeated instructions.\n",
    "* Functions for organising code into coherent blocks, potentially with inputs and outputs.\n",
    "\n",
    "Today, we will look at a new data type (the *list*) for working with sequences of data. By the end of this week, you will:\n",
    "\n",
    "+ Know how to create and add elements to a list.\n",
    "+ Know how to select both individual elements of a list and parts (known as *slices*) of a list.\n",
    "+ Know how to loop over the items in a list.\n",
    "+ Begin to understand how lists can be used in algorithms. "
   ]
  },
  {
   "cell_type": "markdown",
   "id": "cf64e34f",
   "metadata": {},
   "source": [
    "## Sequences of Data\n",
    "\n"
   ]
  },
  {
   "cell_type": "markdown",
   "id": "5d116717",
   "metadata": {},
   "source": [
    "Previously, we've introduced basic data types such as *int*, *boolean* and *string*. These can be used to store a single piece of information. e.g. We might store some data about a robot by writing\n",
    "\n",
    "```python\n",
    "robot_name = \"Martin\"\n",
    "robot_xpos = 0.0\n",
    "robot_ypos = 0.0\n",
    "```\n",
    "\n",
    "If we want a second robot, we could create some more variables- ```robot_name_2 = \"Hemma\"```, ```robot_name_3 = \"Arthur\"```. This is fine when we have small amounts of each variable- but what if we want to create and name 100 robots? \n",
    "\n",
    "Fortunately, Python has built-in data types for working with *sequences* of data, including *list*, *set*, *tuple* and *dictionary*. Today, we'll look at the *list* data type."
   ]
  },
  {
   "cell_type": "markdown",
   "id": "839f74b7",
   "metadata": {},
   "source": [
    "## Lists"
   ]
  },
  {
   "cell_type": "markdown",
   "id": "1474dc65",
   "metadata": {},
   "source": [
    "A list is a *mutable*, *ordered* data structure that can store multiple different data types. *Mutable* means that once we've created a list, we can change the values stored inside it. *Ordered* means that we have a labelling for elements in the list, such that we can say one element occurs before / after another. We can create an empty list by typing \n",
    "\n",
    "```my_list =  list() ``` \n",
    "\n",
    "or \n",
    "\n",
    "```my_list = []```\n",
    "\n",
    "We can also create a list by simply enclosing a list of objects in square brackets. i.e by writing"
   ]
  },
  {
   "cell_type": "code",
   "execution_count": null,
   "id": "702e744b",
   "metadata": {},
   "outputs": [],
   "source": [
    "robot_names = [\"Martin\", \"Hemma\", \"Arthur\", \"Josh\"]\n",
    "print(robot_names)\n",
    "type(robot_names)"
   ]
  },
  {
   "cell_type": "markdown",
   "id": "54cca90e",
   "metadata": {},
   "source": [
    "Each item in a list is called an element and is associated with an index, which denotes the position of that item in the list. It's important to remember that in Python, the first element in a list is at **index 0, not index 1**. \n",
    "\n",
    "<img src=\"https://github.com/engmaths/SEMT10002_2024/blob/main/img/lists_1.png?raw=true\" width=\"40%\">\n",
    "\n",
    "We can access an element in a list by writing the name of the list, followed by square brackets containing the index of the element. i.e To get the first element of our list of robot names, I would write:"
   ]
  },
  {
   "cell_type": "code",
   "execution_count": null,
   "id": "aedac861",
   "metadata": {},
   "outputs": [],
   "source": [
    "first_name = robot_names[0]\n",
    "print(first_name)"
   ]
  },
  {
   "cell_type": "markdown",
   "id": "adeef67a",
   "metadata": {},
   "source": [
    "**Comprehension Check** - Can you edit the code above to print the second element in the list?"
   ]
  },
  {
   "cell_type": "markdown",
   "id": "fe53039e",
   "metadata": {},
   "source": [
    "Python also allows us to access the elements of a list in reverse. If we write ```my_list[-1]```, we'll get the last element of the list, while ```my_list[-2]``` will get the second to last element of the list.\n",
    "\n",
    "<img src=\"https://github.com/engmaths/SEMT10002_2024/blob/main/img/lists_2.png?raw=true\" width=\"40%\">"
   ]
  },
  {
   "cell_type": "code",
   "execution_count": null,
   "id": "a2e78b71",
   "metadata": {},
   "outputs": [],
   "source": [
    "last_name = robot_names[-1]\n",
    "print(last_name)"
   ]
  },
  {
   "cell_type": "markdown",
   "id": "84de6c70",
   "metadata": {},
   "source": [
    "**Comprehension Check** - Can you edit the code above to print the second element in the list?"
   ]
  },
  {
   "cell_type": "markdown",
   "id": "6886cf34",
   "metadata": {},
   "source": [
    "In either case, if we try to access element that does not exist (i.e we try to access element 5 in a list that only has 4 elements), we'll get an error- specifically, an IndexError. "
   ]
  },
  {
   "cell_type": "code",
   "execution_count": null,
   "id": "cae367c2",
   "metadata": {},
   "outputs": [],
   "source": [
    "name = robot_names[5]"
   ]
  },
  {
   "cell_type": "markdown",
   "id": "919bc5d9",
   "metadata": {},
   "source": [
    "Just as we can use the index notation to access an element in a list, we can also use it to change the value of that element."
   ]
  },
  {
   "cell_type": "code",
   "execution_count": null,
   "id": "345a3d07",
   "metadata": {},
   "outputs": [],
   "source": [
    "robot_names[0] = \"Wilbur\"\n",
    "robot_names[-1] = \"Oscar\"\n",
    "print(robot_names)"
   ]
  },
  {
   "cell_type": "markdown",
   "id": "27ea16a9",
   "metadata": {},
   "source": [
    "**Comprehension Check** - Can you edit the code above to change the second element to \"Andrew\""
   ]
  },
  {
   "cell_type": "markdown",
   "id": "92f77e45",
   "metadata": {},
   "source": []
  },
  {
   "cell_type": "markdown",
   "id": "e49e9996",
   "metadata": {},
   "source": [
    "We can create a sub-list (or slice) from our list by placing a ':' inside the square brackets. For example, to get the first two elements of our list, I would write"
   ]
  },
  {
   "cell_type": "code",
   "execution_count": null,
   "id": "150b3579",
   "metadata": {},
   "outputs": [],
   "source": [
    "first_two_names = robot_names[0:2]\n",
    "print(first_two_names)\n",
    "type(first_two_names)"
   ]
  },
  {
   "cell_type": "markdown",
   "id": "1f95c409",
   "metadata": {},
   "source": [
    "**Comprehension Check** - Can you edit the code above to print the last two elements in the list?"
   ]
  },
  {
   "cell_type": "markdown",
   "id": "0522db12",
   "metadata": {},
   "source": [
    "Again, we need to note something important here- when we slice a list, the first number is the index of the first element we want, but the second number is the index **after** the element we want. When using the slice notation, we don't need to include a first number (Python will default to zero), a last number (Python will default to the end), and can optionally use reverse indices."
   ]
  },
  {
   "cell_type": "code",
   "execution_count": null,
   "id": "76ef82da",
   "metadata": {},
   "outputs": [],
   "source": [
    "print(robot_names[:2])   # Print first two names\n",
    "print(robot_names[2:])   # Print names at index two and beyond\n",
    "print(robot_names[:-2])  # Print all but the last two names\n",
    "print(robot_names[-2:])  # Print the last two names"
   ]
  },
  {
   "cell_type": "markdown",
   "id": "1deb2e29",
   "metadata": {},
   "source": [
    "That's it for the basic syntax of making, accessing and amending the elements of a list. "
   ]
  },
  {
   "cell_type": "markdown",
   "id": "4aada441",
   "metadata": {},
   "source": [
    "## Nested Lists"
   ]
  },
  {
   "cell_type": "markdown",
   "id": "4d18b858",
   "metadata": {},
   "source": [
    "The elements of a list in Python do not have to be the same data type- we could for example, write"
   ]
  },
  {
   "cell_type": "code",
   "execution_count": null,
   "id": "66d9b316",
   "metadata": {},
   "outputs": [],
   "source": [
    "my_list = [\"Hello\", 1, False]\n",
    "print(my_list)\n",
    "print(type(my_list[0]), type(my_list[1]), type(my_list[2]))"
   ]
  },
  {
   "cell_type": "markdown",
   "id": "40669e0b",
   "metadata": {},
   "source": [
    "This means that it is possible for one list to contain another list as an element. For example, we can write"
   ]
  },
  {
   "cell_type": "code",
   "execution_count": null,
   "id": "d39e7f59",
   "metadata": {},
   "outputs": [],
   "source": [
    "nested_list = [[1, 2], [3, 4]]\n",
    "print(nested_list)"
   ]
  },
  {
   "cell_type": "markdown",
   "id": "e306eea0",
   "metadata": {},
   "source": [
    "Here, our list contains only two elements, both lists. The first of these elements is the list [1, 2], while the second element is the list [3, 4]. Nested lists are often used to represent grids or matrices- the idea being that the first list ([1, 2]) represents the first row of the matrix, while the second list represents the second row of the matrix (and so on..). I.e our nested list is equivalent to the matrix\n",
    "\n",
    "$\n",
    "\\begin{bmatrix}\n",
    "1 & 2 \\\\\n",
    "3 & 4\n",
    "\\end{bmatrix}\n",
    "$\n",
    "\n",
    "To access an element in the outer list, we use the normal syntax- i.e "
   ]
  },
  {
   "cell_type": "code",
   "execution_count": null,
   "id": "831def00",
   "metadata": {},
   "outputs": [],
   "source": [
    "print(\"First element is \" + str(nested_list[0]))\n",
    "print(\"Second element is \" + str(nested_list[1]))"
   ]
  },
  {
   "cell_type": "markdown",
   "id": "51cf72b3",
   "metadata": {},
   "source": [
    "To access the elements of these lists directly, we can simply use two sets of square brackets. i.e"
   ]
  },
  {
   "cell_type": "code",
   "execution_count": null,
   "id": "08e5dc8b",
   "metadata": {},
   "outputs": [],
   "source": [
    "print(\"Top left is \" + str(nested_list[0][0]))\n",
    "print(\"Top right is \" + str(nested_list[0][1]))\n",
    "print(\"Bottom left is \" + str(nested_list[1][0]))\n",
    "print(\"Bottom right is \" + str(nested_list[1][1]))"
   ]
  },
  {
   "cell_type": "markdown",
   "id": "4db01e78",
   "metadata": {},
   "source": [
    "**Comprehension Check** - Can you use the code box below to write some code that creates and prints a 3 x 3 matrix, with every value equal to one?"
   ]
  },
  {
   "cell_type": "code",
   "execution_count": null,
   "id": "3b021632",
   "metadata": {},
   "outputs": [],
   "source": [
    "three_by_three_matrix = 'Put your code here to create a 3x3 matrix'"
   ]
  },
  {
   "cell_type": "markdown",
   "id": "ee85bb12",
   "metadata": {},
   "source": [
    "## Lists and Loops"
   ]
  },
  {
   "cell_type": "markdown",
   "id": "596bdca9",
   "metadata": {},
   "source": [
    "In week 4, we introduced *for* and *while* loops. The code for a basic for loop looked like:"
   ]
  },
  {
   "cell_type": "code",
   "execution_count": null,
   "id": "44dfe8ea",
   "metadata": {},
   "outputs": [],
   "source": [
    "for ii in range(10):\n",
    "    print('Step')\n",
    "    print('ii is', ii)\n",
    "print('Finished')"
   ]
  },
  {
   "cell_type": "markdown",
   "id": "36b28890",
   "metadata": {},
   "source": [
    "Remembering that Python uses indentation to determine scope (i.e what code is part of the loop). Here, ii is the *loop counter*, keeping track of which iteration we are on. It's very common to use a loop to process the data in a list. For example, we could write:"
   ]
  },
  {
   "cell_type": "code",
   "execution_count": null,
   "id": "8e40c446",
   "metadata": {},
   "outputs": [],
   "source": [
    "for ii in range(len(robot_names)):\n",
    "    print('robot name is', robot_names[ii])"
   ]
  },
  {
   "cell_type": "markdown",
   "id": "277a63d3",
   "metadata": {},
   "source": [
    "Here, i've used the built-in function *len* to tell me the length of the list- I could hardcode this as range(4), but it's good practice to avoid hardcoding as that makes my code more robust to things like e.g. the length of the list changing. \n",
    "\n",
    "In fact, the operation of looping through a list is so common that Python has some shorter syntax for acheiving the same thing. Instead of writing the code above, I can also write:"
   ]
  },
  {
   "cell_type": "code",
   "execution_count": null,
   "id": "0339aa5e",
   "metadata": {},
   "outputs": [],
   "source": [
    "for robot_name in robot_names:\n",
    "    print('robot name is', robot_name)"
   ]
  },
  {
   "cell_type": "markdown",
   "id": "e820113f",
   "metadata": {},
   "source": [
    "In this code, robot_name is sequentially assigned the value of each element in the list. I'm able to do this because a *list* is an *iterable* data type. In Python, that means I can iterate over it in a loop. *Tuples* and *Dicts* (which we'll see later) are also iterable data types. This is a really neat way to write a loop (because I don't have to worry about the getting the range right, or assigning robot_name within the loop). However, sometimes it's useful to also get the index of each element as we go through it. Python again helps us out here with the *enumerate* function, as seen below."
   ]
  },
  {
   "cell_type": "code",
   "execution_count": null,
   "id": "79553ba2",
   "metadata": {},
   "outputs": [],
   "source": [
    "for (ii, robot_name) in enumerate(robot_names):\n",
    "    print('robot name', ii, 'is', robot_name)"
   ]
  },
  {
   "cell_type": "markdown",
   "id": "85856e38",
   "metadata": {},
   "source": [
    "It's important to understand how the items of data in list behave within the for loop. \n",
    "\n",
    "Notice in the following example that, with each iteration, the loop counter represents the *value* only of the next element in the list. \n",
    "\n",
    "The loop counter does not represent the element in the list.\n",
    "\n",
    "Why does this matter?\n",
    "\n",
    "Consider the example below"
   ]
  },
  {
   "cell_type": "markdown",
   "id": "e2fd03c5",
   "metadata": {},
   "source": []
  },
  {
   "cell_type": "markdown",
   "id": "daa44ae4",
   "metadata": {},
   "source": [
    "In this course and beyond, you will likely see loops written in these three ways- it's important that you are comfortable with each form of the syntax."
   ]
  },
  {
   "cell_type": "markdown",
   "id": "4b70f4bd",
   "metadata": {},
   "source": [
    "**Comprehension Check** - The code below contains a list with 5 values in it. Can you write a loop to calculate the sum and average of the values in the list?"
   ]
  },
  {
   "cell_type": "code",
   "execution_count": null,
   "id": "d765fd38",
   "metadata": {},
   "outputs": [],
   "source": [
    "my_list = [3, 6, 4, 18, 4]\n",
    "sum_of_values = 0\n",
    "average_of_values = 0\n",
    "'''\n",
    "Put your code here\n",
    "'''\n",
    "\n",
    "print('Sum is', sum_of_values)\n",
    "print('Average is', average_of_values)"
   ]
  },
  {
   "cell_type": "markdown",
   "id": "caa30b47",
   "metadata": {},
   "source": [
    "## Lists Methods"
   ]
  },
  {
   "cell_type": "markdown",
   "id": "f570fea5",
   "metadata": {},
   "source": [
    "There are a number of helpful built-in functions that we might use when working with lists. We've already seen two of them- *len()*, which will return the length of a list and *enumerate()*, which will turn a list into an iterable containing each element of the list and its index as a tuple. Some other functions we might use with lists are:"
   ]
  },
  {
   "cell_type": "markdown",
   "id": "25ce08fc",
   "metadata": {},
   "source": [
    "### Append"
   ]
  },
  {
   "cell_type": "markdown",
   "id": "bf738095",
   "metadata": {},
   "source": [
    "To add an element to a list, we can use the append method. For example, to add a name to our list of robot names, we could write:"
   ]
  },
  {
   "cell_type": "code",
   "execution_count": null,
   "id": "38e7bb30",
   "metadata": {},
   "outputs": [],
   "source": [
    "robot_names.append(\"Bob\")\n",
    "print(robot_names)"
   ]
  },
  {
   "cell_type": "markdown",
   "id": "5459dbba",
   "metadata": {},
   "source": [
    "By default, append will add an element to the end of the list. If we want to add it somewhere else, we have to instead use the function *insert()*, which takes an index as its first argument."
   ]
  },
  {
   "cell_type": "code",
   "execution_count": null,
   "id": "c94060c4",
   "metadata": {},
   "outputs": [],
   "source": [
    "robot_names.insert(0, \"Bob\")\n",
    "print(robot_names)"
   ]
  },
  {
   "cell_type": "markdown",
   "id": "7c893b2c",
   "metadata": {},
   "source": [
    "**Comprehension Check** - Can you edit the code above to add the name \"James\" to the middle of the list?"
   ]
  },
  {
   "cell_type": "markdown",
   "id": "fa4b2c49",
   "metadata": {},
   "source": [
    "### In"
   ]
  },
  {
   "cell_type": "markdown",
   "id": "d9493d62",
   "metadata": {},
   "source": [
    "We can use the *in* keyword to check whether an element exists within a list."
   ]
  },
  {
   "cell_type": "code",
   "execution_count": null,
   "id": "06b9c98e",
   "metadata": {},
   "outputs": [],
   "source": [
    "print(\"Wilbur\" in robot_names)\n",
    "print(\"Errin\" in robot_names)"
   ]
  },
  {
   "cell_type": "markdown",
   "id": "bc4ba8fc",
   "metadata": {},
   "source": [
    "### Operators"
   ]
  },
  {
   "cell_type": "markdown",
   "id": "8e84c2a7",
   "metadata": {},
   "source": [
    "We can use certain operators (+, *) with lists. Adding (+) two lists together concatenates them, while multiplying a list by an integer N creates N copies of the list the concatenates them all together. What happens if you multiply two lists together? What happens if you multiply a list by a float? (Try it yourself!)"
   ]
  },
  {
   "cell_type": "code",
   "execution_count": 6,
   "id": "28659f7d",
   "metadata": {},
   "outputs": [
    {
     "name": "stdout",
     "output_type": "stream",
     "text": [
      "[1, 2, 3, 1, 2, 3]\n",
      "[1, 2, 3, 1, 2, 3, 1, 2, 3, 1, 2, 3, 1, 2, 3]\n"
     ]
    }
   ],
   "source": [
    "list1 = [1, 2, 3]\n",
    "print(list1 + list1)\n",
    "print(5 * list1)"
   ]
  },
  {
   "cell_type": "markdown",
   "id": "0d70ab45",
   "metadata": {},
   "source": [
    "There are many other useful functions (del, sum, pop, any, all) that you may want to use in your code.\n",
    "\n",
    "| function | effect | sample use | \n",
    "| :-: | :-: | :-: |\n",
    "| del | removes an element from a list | del robot_names[0] |\n",
    "| sum | calculates the sum of all elements in a list | sum([1, 2, 3]) # returns 6 | \n",
    "| any | returns True if any elements of a list are True | any([False, True, False])  # returns True| \n",
    "| all | return True if all elements of a list are True | all([False, True, False) # returns False |\n",
    "| max | returns the greatest element in a list | max([1, 2, 3]) # returns 3 |\n",
    "| min | returns the smallest element in a list | max([1, 2, 3]) # returns 1 |"
   ]
  },
  {
   "cell_type": "markdown",
   "id": "db58fbfc",
   "metadata": {},
   "source": [
    "## Summary"
   ]
  },
  {
   "cell_type": "markdown",
   "id": "f4ac8aa0",
   "metadata": {},
   "source": [
    "Lists are a Python data type for storing sequences of data. Python lists are *ordered* - Each element in the list is associated with an index, starting from 0. Python lists are *mutable* - We can access and modify elements (or slices) of a list.  Python lists are *iterable* - we will commonly use a list by looping over (and processing) its elements. We may use nested lists to represent a matrix (or 2D grid). There are many built-in functions (len, enumate, in, and many more) that can help us work with lists. \n",
    "\n",
    "Now that you've finished reading the notes, please do the comprehension checks for this week on Blackboard."
   ]
  }
 ],
 "metadata": {
  "kernelspec": {
   "display_name": "Python 3",
   "language": "python",
   "name": "python3"
  },
  "language_info": {
   "codemirror_mode": {
    "name": "ipython",
    "version": 3
   },
   "file_extension": ".py",
   "mimetype": "text/x-python",
   "name": "python",
   "nbconvert_exporter": "python",
   "pygments_lexer": "ipython3",
   "version": "3.12.5"
  }
 },
 "nbformat": 4,
 "nbformat_minor": 5
}
