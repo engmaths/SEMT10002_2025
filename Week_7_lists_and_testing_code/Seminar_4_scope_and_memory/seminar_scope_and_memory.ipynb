{
 "cells": [
  {
   "cell_type": "markdown",
   "id": "1a1d1bbd",
   "metadata": {},
   "source": [
    "# Seminar 4 - Scope and Memory"
   ]
  },
  {
   "cell_type": "markdown",
   "id": "d144b3a9",
   "metadata": {},
   "source": [
    "## Local scope"
   ]
  },
  {
   "cell_type": "markdown",
   "id": "0be3ee2f",
   "metadata": {},
   "source": [
    "The names `number` (function argument) and `result` (defined within function) have local scope within the function `square`\n",
    "\n",
    "They do not have global scope outside of the function"
   ]
  },
  {
   "cell_type": "code",
   "execution_count": 1,
   "id": "edc0f779",
   "metadata": {},
   "outputs": [
    {
     "name": "stdout",
     "output_type": "stream",
     "text": [
      "The square of 10 is 100\n"
     ]
    },
    {
     "ename": "NameError",
     "evalue": "name 'result' is not defined",
     "output_type": "error",
     "traceback": [
      "\u001b[31m---------------------------------------------------------------------------\u001b[39m",
      "\u001b[31mNameError\u001b[39m                                 Traceback (most recent call last)",
      "\u001b[36mCell\u001b[39m\u001b[36m \u001b[39m\u001b[32mIn[1]\u001b[39m\u001b[32m, line 7\u001b[39m\n\u001b[32m      3\u001b[39m     \u001b[38;5;28mprint\u001b[39m(\u001b[33m'\u001b[39m\u001b[33mThe square of\u001b[39m\u001b[33m'\u001b[39m, number, \u001b[33m'\u001b[39m\u001b[33mis\u001b[39m\u001b[33m'\u001b[39m, result)\n\u001b[32m      5\u001b[39m square(\u001b[32m10\u001b[39m)\n\u001b[32m----> \u001b[39m\u001b[32m7\u001b[39m \u001b[38;5;28mprint\u001b[39m(\u001b[43mresult\u001b[49m)\n",
      "\u001b[31mNameError\u001b[39m: name 'result' is not defined"
     ]
    }
   ],
   "source": [
    "def square(number):\n",
    "    result = number**2\n",
    "    print('The square of', number, 'is', result)\n",
    "\n",
    "square(10)\n",
    "\n",
    "print(result)"
   ]
  },
  {
   "cell_type": "markdown",
   "id": "0217acab",
   "metadata": {},
   "source": [
    "The `return` keyword is used to make local information accessible outside of a function"
   ]
  },
  {
   "cell_type": "code",
   "execution_count": 2,
   "id": "56bf7105",
   "metadata": {},
   "outputs": [
    {
     "name": "stdout",
     "output_type": "stream",
     "text": [
      "121\n"
     ]
    },
    {
     "ename": "NameError",
     "evalue": "name 'number' is not defined",
     "output_type": "error",
     "traceback": [
      "\u001b[31m---------------------------------------------------------------------------\u001b[39m",
      "\u001b[31mNameError\u001b[39m                                 Traceback (most recent call last)",
      "\u001b[36mCell\u001b[39m\u001b[36m \u001b[39m\u001b[32mIn[2]\u001b[39m\u001b[32m, line 8\u001b[39m\n\u001b[32m      5\u001b[39m result = square(\u001b[32m11\u001b[39m)\n\u001b[32m      7\u001b[39m \u001b[38;5;28mprint\u001b[39m(result)\n\u001b[32m----> \u001b[39m\u001b[32m8\u001b[39m \u001b[38;5;28mprint\u001b[39m(\u001b[43mnumber\u001b[49m)\n",
      "\u001b[31mNameError\u001b[39m: name 'number' is not defined"
     ]
    }
   ],
   "source": [
    "def square(number):\n",
    "    result = number**2\n",
    "    return result\n",
    "    \n",
    "result = square(11)\n",
    "\n",
    "print(result)\n",
    "print(number)"
   ]
  },
  {
   "cell_type": "markdown",
   "id": "0101e652",
   "metadata": {},
   "source": [
    "If a global variable is parsed as a function argument, the local variable effectively makes a copy of the global variable.\n",
    "\n",
    "The global variable is therefore unaffected by any modifications wihtin the function"
   ]
  },
  {
   "cell_type": "code",
   "execution_count": 4,
   "id": "52607724",
   "metadata": {},
   "outputs": [
    {
     "name": "stdout",
     "output_type": "stream",
     "text": [
      "11\n",
      "10\n"
     ]
    }
   ],
   "source": [
    "x = 10\n",
    "\n",
    "def add_one(x):\n",
    "    x = x+1\n",
    "    print(x)\n",
    "    \n",
    "add_one(x)\n",
    "\n",
    "print(x)"
   ]
  },
  {
   "cell_type": "markdown",
   "id": "484084fc",
   "metadata": {},
   "source": [
    "## Global scope"
   ]
  },
  {
   "cell_type": "markdown",
   "id": "0c7a98cf",
   "metadata": {},
   "source": [
    "The name `number` has global scope because it is defined at the top level of my program"
   ]
  },
  {
   "cell_type": "code",
   "execution_count": 12,
   "id": "8fa6d96f",
   "metadata": {},
   "outputs": [
    {
     "name": "stdout",
     "output_type": "stream",
     "text": [
      "The square of 10 is 100\n",
      "10\n"
     ]
    }
   ],
   "source": [
    "number = 10\n",
    "\n",
    "def square():\n",
    "    result = number**2\n",
    "    print('The square of', number, 'is', result)\n",
    "\n",
    "square()\n",
    "\n",
    "print(number)"
   ]
  },
  {
   "cell_type": "markdown",
   "id": "27870927",
   "metadata": {},
   "source": [
    "## Level of scope - LGB"
   ]
  },
  {
   "cell_type": "markdown",
   "id": "bd072a3f",
   "metadata": {},
   "source": [
    "When a name is referenced, the order of search for its value is LGB (Local-Global-Built) in\n",
    "\n",
    "The value of the **local** variable `number` is used *inside* of the function\n",
    "\n",
    "The value of the **global** variable `number` is used *outside* of the function\n",
    "\n"
   ]
  },
  {
   "cell_type": "code",
   "execution_count": 20,
   "id": "75120ee8",
   "metadata": {},
   "outputs": [
    {
     "name": "stdout",
     "output_type": "stream",
     "text": [
      "2\n",
      "10\n"
     ]
    }
   ],
   "source": [
    "number = 10\n",
    "\n",
    "def update_number():\n",
    "    number = 2\n",
    "    print(number)\n",
    "\n",
    "update_number()\n",
    "print(number)"
   ]
  },
  {
   "cell_type": "markdown",
   "id": "0951f474",
   "metadata": {},
   "source": [
    "If there is no local definition of `number`, the global value is accessed"
   ]
  },
  {
   "cell_type": "markdown",
   "id": "48d334a9",
   "metadata": {},
   "source": [
    "# Built-in scope"
   ]
  },
  {
   "cell_type": "markdown",
   "id": "ecab1164",
   "metadata": {},
   "source": [
    "`abs` is a **built-in** Python function that returns the absolute value of a number"
   ]
  },
  {
   "cell_type": "code",
   "execution_count": null,
   "id": "1f42c894",
   "metadata": {},
   "outputs": [
    {
     "name": "stdout",
     "output_type": "stream",
     "text": [
      "10\n"
     ]
    }
   ],
   "source": [
    "print(abs(-10))"
   ]
  },
  {
   "cell_type": "markdown",
   "id": "afb8f6df",
   "metadata": {},
   "source": [
    "If we define a **global** varibale `abs`, this will be used within the Python module and any functions within that module\n",
    "\n",
    "Other Python modules will use the built-in definition of `abs`"
   ]
  },
  {
   "cell_type": "code",
   "execution_count": 56,
   "id": "32587e05",
   "metadata": {},
   "outputs": [
    {
     "name": "stdout",
     "output_type": "stream",
     "text": [
      "10\n",
      "20\n"
     ]
    },
    {
     "ename": "TypeError",
     "evalue": "'int' object is not callable",
     "output_type": "error",
     "traceback": [
      "\u001b[31m---------------------------------------------------------------------------\u001b[39m",
      "\u001b[31mTypeError\u001b[39m                                 Traceback (most recent call last)",
      "\u001b[36mCell\u001b[39m\u001b[36m \u001b[39m\u001b[32mIn[56]\u001b[39m\u001b[32m, line 7\u001b[39m\n\u001b[32m      3\u001b[39m \u001b[38;5;28mabs\u001b[39m = \u001b[32m20\u001b[39m\n\u001b[32m      5\u001b[39m \u001b[38;5;28mprint\u001b[39m(\u001b[38;5;28mabs\u001b[39m)\n\u001b[32m----> \u001b[39m\u001b[32m7\u001b[39m \u001b[38;5;28mprint\u001b[39m(\u001b[38;5;28;43mabs\u001b[39;49m\u001b[43m(\u001b[49m\u001b[43m)\u001b[49m)\n",
      "\u001b[31mTypeError\u001b[39m: 'int' object is not callable"
     ]
    }
   ],
   "source": [
    "print(abs(-10))\n",
    "\n",
    "abs = 20\n",
    "\n",
    "print(abs)\n",
    "\n",
    "print(abs())"
   ]
  },
  {
   "cell_type": "markdown",
   "id": "a13f0c07",
   "metadata": {},
   "source": [
    "Runing the following cell restores the built-in definition of `abs` for use in this notebook file"
   ]
  },
  {
   "cell_type": "code",
   "execution_count": 57,
   "id": "ed6b90d6",
   "metadata": {},
   "outputs": [],
   "source": [
    "import builtins\n",
    "abs = builtins.abs\n"
   ]
  },
  {
   "cell_type": "markdown",
   "id": "4a1a5f49",
   "metadata": {},
   "source": [
    "## Bringing names to scope with import"
   ]
  },
  {
   "cell_type": "markdown",
   "id": "e5a9db02",
   "metadata": {},
   "source": [
    "The `import` keyword is used to load the names defined in a different pyhton file (module) into your current global scope."
   ]
  },
  {
   "cell_type": "code",
   "execution_count": 58,
   "id": "ccc294fe",
   "metadata": {},
   "outputs": [
    {
     "name": "stdout",
     "output_type": "stream",
     "text": [
      "3.141592653589793\n"
     ]
    }
   ],
   "source": [
    "from math import sin, cos, pi\n",
    "\n",
    "print(pi)"
   ]
  },
  {
   "cell_type": "markdown",
   "id": "35b23452",
   "metadata": {},
   "source": [
    "## Why do we use scope? "
   ]
  },
  {
   "cell_type": "markdown",
   "id": "2bdfb562",
   "metadata": {},
   "source": [
    "- Avoids accidental name conflicts\n",
    "- Ease of debugging\n",
    "- Modularity (functions can be reused)\n",
    "- Efficient use of computer memory"
   ]
  },
  {
   "cell_type": "markdown",
   "id": "1bd62f12",
   "metadata": {},
   "source": [
    "This example measures the time for different computer operations to run\n",
    "\n",
    "`perf_counter` gives the time in seconds since Jan 1, 1970 (the Unix epoch)\n"
   ]
  },
  {
   "cell_type": "code",
   "execution_count": 59,
   "id": "9dccb32e",
   "metadata": {},
   "outputs": [
    {
     "name": "stdout",
     "output_type": "stream",
     "text": [
      "operation 1 took 1.0001440839841962 seconds\n",
      "operation 2 took 3.0001238780096173 seconds\n",
      "The complete program took 4.002482366980985 seconds\n"
     ]
    }
   ],
   "source": [
    "from time import perf_counter, sleep\n",
    "\n",
    "start_time = perf_counter()\n",
    "\n",
    "def operation_1():\n",
    "    start_time = perf_counter()\n",
    "    sleep(1)\n",
    "    stop_time = perf_counter()\n",
    "    print('operation 1 took', stop_time-start_time, 'seconds')\n",
    "\n",
    "def operation_2():\n",
    "    start_time = perf_counter()\n",
    "    sleep(3)\n",
    "    stop_time = perf_counter()\n",
    "    print('operation 2 took', stop_time-start_time, 'seconds')\n",
    "\n",
    "operation_1()\n",
    "operation_2()\n",
    "\n",
    "stop_time = perf_counter()\n",
    "\n",
    "print('The complete program took', stop_time-start_time, 'seconds')"
   ]
  },
  {
   "cell_type": "markdown",
   "id": "bc3b6922",
   "metadata": {},
   "source": [
    "Accidental re-use of the names `start_time` and `stop_time` gives an unexpected outcome"
   ]
  },
  {
   "cell_type": "code",
   "execution_count": null,
   "id": "65bfd638",
   "metadata": {},
   "outputs": [
    {
     "name": "stdout",
     "output_type": "stream",
     "text": [
      "operation 1 took 1.0005308690015227 seconds\n",
      "operation 2 took 3.001385582028888 seconds\n",
      "The complete program took 3.00188663310837 seconds\n"
     ]
    }
   ],
   "source": [
    "from time import perf_counter, sleep\n",
    "\n",
    "start_time = perf_counter()\n",
    "\n",
    "start_time = perf_counter()\n",
    "sleep(1)\n",
    "stop_time = perf_counter()\n",
    "print('operation 1 took', stop_time-start_time, 'seconds')\n",
    "\n",
    "start_time = perf_counter()\n",
    "sleep(3)\n",
    "stop_time = perf_counter()\n",
    "print('operation 2 took', stop_time-start_time, 'seconds')\n",
    "\n",
    "stop_time = perf_counter()\n",
    "\n",
    "print('The complete program took', stop_time-start_time, 'seconds')"
   ]
  },
  {
   "cell_type": "markdown",
   "id": "06fc9d9d",
   "metadata": {},
   "source": [
    "## An exception"
   ]
  },
  {
   "cell_type": "markdown",
   "id": "6162840e",
   "metadata": {},
   "source": [
    "Recall ...\n",
    "\n",
    "If a global variable is parsed as a function argument, the local variable effectively makes a copy of the global variable.\n",
    "\n",
    "The global variable is therefore unaffected by any modifications wihtin the function"
   ]
  },
  {
   "cell_type": "code",
   "execution_count": null,
   "id": "5e58c3ee",
   "metadata": {},
   "outputs": [],
   "source": [
    "x = 10\n",
    "\n",
    "def add_one(x):\n",
    "    x = x+1\n",
    "    print(x)\n",
    "    \n",
    "add_one(x)\n",
    "\n",
    "print(x)"
   ]
  },
  {
   "cell_type": "markdown",
   "id": "ff0f18a6",
   "metadata": {},
   "source": [
    "Consider how a list behaves when given as a function argument "
   ]
  },
  {
   "cell_type": "code",
   "execution_count": 8,
   "id": "819386c9",
   "metadata": {},
   "outputs": [
    {
     "name": "stdout",
     "output_type": "stream",
     "text": [
      "[1, 4, 3, 4]\n"
     ]
    }
   ],
   "source": [
    "nums = [1, 2, 3]\n",
    "\n",
    "def modify_list(lst):\n",
    "    \n",
    "    lst.append(4)       # Global variable nums changed\n",
    "\n",
    "    lst[1] = 2*lst[1]   # Global variable nums changed\n",
    "\n",
    "    lst = lst + [9]     # Global variable nums unchanged \n",
    "\n",
    "modify_list(nums)\n",
    "\n",
    "print(nums)"
   ]
  },
  {
   "cell_type": "markdown",
   "id": "baffd753",
   "metadata": {},
   "source": [
    "*But I thought function arguments had local scope! Why has the global variable `nums` changed?*"
   ]
  },
  {
   "cell_type": "markdown",
   "id": "be78a156",
   "metadata": {},
   "source": [
    "## Memory"
   ]
  },
  {
   "cell_type": "markdown",
   "id": "2ff4b4ff",
   "metadata": {},
   "source": [
    "This behaviour is due to how objects are stored in computer memory. "
   ]
  },
  {
   "cell_type": "markdown",
   "id": "498af109",
   "metadata": {},
   "source": [
    "We learnt in week 1 that:\n",
    "\n",
    "1. Any item of data (e.g. some numbers, text, an image, etc) stored in computer memory is known as an *object*. \n",
    "\n",
    "2. We can think of computer memory as a set of boxes that we can use to hold data. Each box has 3 things associated with it:\n",
    "    - A name (which we use in code to refer to a specific box).\n",
    "    - A value (which is the actual data stored in the box).\n",
    "    - A data type (which stores whether the data is a number, text or something else)."
   ]
  },
  {
   "cell_type": "markdown",
   "id": "742a6e8d",
   "metadata": {},
   "source": [
    "<img src=\"https://github.com/engmaths/SEMT10002_2025/blob/main/media/week_1/Memory1.png?raw=true\" width=\"30%\">"
   ]
  },
  {
   "cell_type": "markdown",
   "id": "1539e729",
   "metadata": {},
   "source": [
    "A more accurate description is that:\n",
    "- the object is stored in computer memory \n",
    "- the name is a reference (pointer) to the location in computer memory  where the object is stored\n",
    "\n",
    "```python\n",
    "x = 1\n",
    "```\n",
    "\n",
    "<img src=\"https://github.com/engmaths/EMAT10007_2023/blob/main/weekly_content/img/assignment_b.png?raw=true\" width=\"20%\">\n",
    "</p>"
   ]
  },
  {
   "cell_type": "markdown",
   "id": "ab7a4076",
   "metadata": {},
   "source": [
    "Multiple names can point to the same object in computer memory\n",
    "```python\n",
    "y = 2\n",
    "```\n",
    "<img src=\"https://github.com/engmaths/SEMT10002_2024/blob/main/img/assignment_casting_b.png?raw=true\" width=\"20%\">\n",
    "</p>"
   ]
  },
  {
   "cell_type": "markdown",
   "id": "1ce546de",
   "metadata": {},
   "source": [
    "If a variable name is reassigned:\n",
    "\n",
    "- The original object remains in memory. \n",
    "- A new object with the new value is created in memory.\n",
    "- The varibale name points to the new value\n",
    "- Any other variable names that point to the original object are unaffected \n",
    "\n",
    "```python\n",
    "x = 2\n",
    "```\n",
    "\n",
    "<img src=\"https://github.com/engmaths/SEMT10002_2024/blob/main/img/assignment_casting_b.png?raw=true\" width=\"20%\">\n",
    "</p>"
   ]
  },
  {
   "cell_type": "markdown",
   "id": "94f0fa7f",
   "metadata": {},
   "source": [
    "When a global variable is parsed to a function as a function argument, what actually happens is that a local reference is created to the same location in computer memory\n",
    "\n",
    "<img src=\"https://github.com/engmaths/SEMT10002_2024/blob/main/img/assignment_casting_b.png?raw=true\" width=\"20%\">\n",
    "</p>"
   ]
  },
  {
   "cell_type": "markdown",
   "id": "5135a3c3",
   "metadata": {},
   "source": [
    "Any modifications within the funcion affect the local reference only, not the glocal reference\n",
    "\n",
    "<img src=\"https://github.com/engmaths/SEMT10002_2024/blob/main/img/assignment_casting_b.png?raw=true\" width=\"20%\">\n",
    "</p>"
   ]
  },
  {
   "cell_type": "markdown",
   "id": "ae44f668",
   "metadata": {},
   "source": [
    "In the case of a list, "
   ]
  }
 ],
 "metadata": {
  "kernelspec": {
   "display_name": "Python 3",
   "language": "python",
   "name": "python3"
  },
  "language_info": {
   "codemirror_mode": {
    "name": "ipython",
    "version": 3
   },
   "file_extension": ".py",
   "mimetype": "text/x-python",
   "name": "python",
   "nbconvert_exporter": "python",
   "pygments_lexer": "ipython3",
   "version": "3.12.5"
  }
 },
 "nbformat": 4,
 "nbformat_minor": 5
}
