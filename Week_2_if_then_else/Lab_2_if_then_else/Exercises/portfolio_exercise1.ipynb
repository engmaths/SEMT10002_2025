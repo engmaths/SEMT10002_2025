{
 "cells": [
  {
   "cell_type": "markdown",
   "id": "f8ba3580",
   "metadata": {},
   "source": [
    "# Portfolio exercise P1"
   ]
  },
  {
   "cell_type": "markdown",
   "id": "5651653f",
   "metadata": {},
   "source": [
    "This is your first assessed exercise to go in your portfolio.  We're continuing to build code that can simulates a two-wheeled mobile robot. \n",
    "\n",
    "<img src=\"https://github.com/engmaths/SEMT10002_2025/blob/main/media/week_1/romi.jpg?raw=true\" width=\"25%\" />\n",
    "<img src=\"https://github.com/engmaths/SEMT10002_2025/blob/main/media/week_1/robot_kinematics_2.png?raw=true\" width=\"30%\" style=\"background-color: white;\" />\n",
    "\n",
    "Recall you calculate the angle it would turn through if you asked it to move for period `delta_t` with left wheel turning at `ang_speed_left` and right wheel at `ang_speed_right`.\n",
    "\n",
    "> Start by making a copy of your `robot.py` file from Week 1 and call the new file `ExerciseP2.py`"
   ]
  },
  {
   "cell_type": "markdown",
   "id": "d86d204e",
   "metadata": {},
   "source": [
    "## Robot motion"
   ]
  },
  {
   "cell_type": "markdown",
   "id": "0d58e500",
   "metadata": {},
   "source": [
    "Supposing your robot starts at location $x,y$ and with heading $\\theta$ measured clockwise from the $y$-axis.  Again you drive it for time $\\delta t$ with speeds on either side as specified above, and the average of those two speeds is $v$.  Let the angle it turns through be called $\\phi$ for the sake of keeping the maths short.  Then the new position is given by:\n",
    "\n",
    "$ x_{new} = x + v \\ \\delta t \\ \\textrm{sinc} \\left(\\frac{\\phi}{2}\\right) \\sin \\left(\\theta + \\frac{\\phi}{2}\\right) $\n",
    "\n",
    "$ y_{new} = y + v \\ \\delta t \\ \\textrm{sinc} \\left(\\frac{\\phi}{2}\\right) \\cos \\left(\\theta + \\frac{\\phi}{2}\\right) $\n",
    "\n",
    "where the sinc function is defined as $\\textrm{sinc}(\\alpha) = \\frac{\\sin \\alpha}{\\alpha}$.\n",
    "\n",
    "> Please feel free to enjoy the puzzle of working this out... It's good for the soul, but it's not really part of your programming course."
   ]
  },
  {
   "cell_type": "markdown",
   "id": "8a020507",
   "metadata": {},
   "source": [
    "### Trigonometry in Python\n",
    "\n",
    "Python has trigonometric functions built in but we have to do a little magic to get to them.  The same is true in most languages.  We will come back to this, but for now, just copy what's below to use sin and cosine etc"
   ]
  },
  {
   "cell_type": "code",
   "execution_count": 12,
   "id": "8378e16e",
   "metadata": {},
   "outputs": [
    {
     "name": "stdout",
     "output_type": "stream",
     "text": [
      "sin pi/2 is 1.0\n",
      "cos pi/6 is 0.8660254037844387\n"
     ]
    }
   ],
   "source": [
    "from math import sin, cos, pi\n",
    "\n",
    "print('sin pi/2 is',sin(0.5*pi))\n",
    "print('cos pi/6 is',cos(pi/6))"
   ]
  },
  {
   "cell_type": "markdown",
   "id": "b71c3008",
   "metadata": {},
   "source": [
    "### Calculating sinc"
   ]
  },
  {
   "cell_type": "markdown",
   "id": "42130645",
   "metadata": {},
   "source": [
    "Here's the rub - sinc 0 gives us an error, because it involves dividing by zero."
   ]
  },
  {
   "cell_type": "code",
   "execution_count": 13,
   "id": "68a0a6a5",
   "metadata": {},
   "outputs": [
    {
     "ename": "ZeroDivisionError",
     "evalue": "float division by zero",
     "output_type": "error",
     "traceback": [
      "\u001b[1;31m---------------------------------------------------------------------------\u001b[0m",
      "\u001b[1;31mZeroDivisionError\u001b[0m                         Traceback (most recent call last)",
      "Cell \u001b[1;32mIn[13], line 1\u001b[0m\n\u001b[1;32m----> 1\u001b[0m \u001b[38;5;28mprint\u001b[39m(\u001b[38;5;124m'\u001b[39m\u001b[38;5;124msinc 0 is\u001b[39m\u001b[38;5;124m'\u001b[39m,\u001b[43msin\u001b[49m\u001b[43m(\u001b[49m\u001b[38;5;241;43m0.0\u001b[39;49m\u001b[43m)\u001b[49m\u001b[38;5;241;43m/\u001b[39;49m\u001b[38;5;241;43m0.0\u001b[39;49m)\n",
      "\u001b[1;31mZeroDivisionError\u001b[0m: float division by zero"
     ]
    }
   ],
   "source": [
    "print('sinc 0 is',sin(0.0)/0.0)"
   ]
  },
  {
   "cell_type": "markdown",
   "id": "1c2eabf5",
   "metadata": {},
   "source": [
    "<img src=\"https://raw.githubusercontent.com/engmaths/SEMT10002_2025/refs/heads/main/media/week_2/sinc.png\" width=\"25%\" align=\"right\" />\n",
    "\n",
    "But that's crazy because zero turn means we just drive in a straight line and the maths all turns out simple, so sinc 0 must be 1.  And it is.  Using Taylor series, for small values:\n",
    "\n",
    "$\\textrm{sinc}(\\alpha) \\approx 1 - \\frac{\\alpha^2}{6}$ \n",
    "\n",
    "> Again, feel free to prove this to yourself, but it's not essential for the lab"
   ]
  },
  {
   "cell_type": "markdown",
   "id": "2d9005a8",
   "metadata": {},
   "source": [
    "## Task\n",
    "\n",
    "Extend your code from Week 1 to calculate the new position and orientation of the robot using the expressions provided.\n",
    "\n",
    "For the sinc function, use the Taylor series approximation if the argument of the function is less than $0.1$ radians in magnitude, otherwise calculate it using `sin`."
   ]
  }
 ],
 "metadata": {
  "kernelspec": {
   "display_name": "Python 3",
   "language": "python",
   "name": "python3"
  },
  "language_info": {
   "codemirror_mode": {
    "name": "ipython",
    "version": 3
   },
   "file_extension": ".py",
   "mimetype": "text/x-python",
   "name": "python",
   "nbconvert_exporter": "python",
   "pygments_lexer": "ipython3",
   "version": "3.10.11"
  }
 },
 "nbformat": 4,
 "nbformat_minor": 5
}
