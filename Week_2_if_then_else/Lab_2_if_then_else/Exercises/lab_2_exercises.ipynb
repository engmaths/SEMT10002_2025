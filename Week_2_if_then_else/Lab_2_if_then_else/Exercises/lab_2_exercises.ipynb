{
 "cells": [
  {
   "cell_type": "markdown",
   "id": "9389380f",
   "metadata": {},
   "source": [
    "# Week 2 Exercises"
   ]
  },
  {
   "cell_type": "markdown",
   "id": "1944eaf2",
   "metadata": {},
   "source": [
    "## Comprehension Checks"
   ]
  },
  {
   "cell_type": "markdown",
   "id": "c478546f",
   "metadata": {},
   "source": [
    "Before starting today's exercises, please spend 10 minutes to run through these comprehension checks with a partner. Each check contains a few line of Python code that you can run to get some output. Before running each piece of code, discuss with your partner what you think the output will be and why. Then run the code- is it what you expected? If not, why? Discuss with your partner, and TA if you are unsure."
   ]
  },
  {
   "cell_type": "code",
   "execution_count": null,
   "id": "4d25d2c8",
   "metadata": {},
   "outputs": [],
   "source": [
    "if True:\n",
    "    print(\"You can't stop me!\")"
   ]
  },
  {
   "cell_type": "code",
   "execution_count": null,
   "id": "e3f24a1a",
   "metadata": {},
   "outputs": [],
   "source": [
    "if False:\n",
    "    print(\"Why is it never my turn?\")"
   ]
  },
  {
   "cell_type": "code",
   "execution_count": null,
   "id": "2564830e",
   "metadata": {},
   "outputs": [],
   "source": [
    "if 8 < 5:\n",
    "    print(\"Me either!\")"
   ]
  },
  {
   "cell_type": "code",
   "execution_count": null,
   "id": "9e3f6567",
   "metadata": {},
   "outputs": [],
   "source": [
    "if \"Banana\":\n",
    "    print(\"I printed?\")"
   ]
  },
  {
   "cell_type": "code",
   "execution_count": null,
   "id": "5760aaf7",
   "metadata": {},
   "outputs": [],
   "source": [
    "if 5:\n",
    "    print(\"Me too?\")"
   ]
  },
  {
   "cell_type": "code",
   "execution_count": null,
   "id": "47d3155f",
   "metadata": {},
   "outputs": [],
   "source": [
    "if 0:\n",
    "    print(\"And me?\")"
   ]
  },
  {
   "cell_type": "code",
   "execution_count": null,
   "id": "ee54c838",
   "metadata": {},
   "outputs": [],
   "source": [
    "a = 5\n",
    "b = 6\n",
    "\n",
    "if a > b:\n",
    "    print(\"A is less than B\")\n"
   ]
  },
  {
   "cell_type": "code",
   "execution_count": null,
   "id": "5ecfed47",
   "metadata": {},
   "outputs": [],
   "source": [
    "a = 5\n",
    "b = 6\n",
    "\n",
    "if a < b:\n",
    "    print(\"A is less than B\")"
   ]
  },
  {
   "cell_type": "code",
   "execution_count": null,
   "id": "23d6266c",
   "metadata": {},
   "outputs": [],
   "source": [
    "a = 5\n",
    "b = 5\n",
    "\n",
    "if a <= b:\n",
    "    print(\"Less than or equal\")\n",
    "\n",
    "if a < b:\n",
    "    print(\"Just less than)\")"
   ]
  },
  {
   "cell_type": "code",
   "execution_count": null,
   "id": "3ec67d06",
   "metadata": {},
   "outputs": [],
   "source": [
    "a = 5\n",
    "b = 6\n",
    "\n",
    "if a < b:\n",
    "    print (\"A is less than B\")\n",
    "    print (\"A is still less than B\")"
   ]
  },
  {
   "cell_type": "code",
   "execution_count": null,
   "id": "0f1d5061",
   "metadata": {},
   "outputs": [],
   "source": [
    "a = 5\n",
    "b = 6\n",
    "\n",
    "if a < b:\n",
    "    print (\"A is less than B\")\n",
    "    \n",
    "    print (\"A is still less than B\")"
   ]
  },
  {
   "cell_type": "code",
   "execution_count": null,
   "id": "9ca82ab5",
   "metadata": {},
   "outputs": [],
   "source": [
    "a = 5\n",
    "b = 6\n",
    "\n",
    "if a > b:\n",
    "    print (\"A is more than B\")\n",
    "\n",
    "\n",
    "\n",
    "    \n",
    "    print (\"A is still more than B\")"
   ]
  },
  {
   "cell_type": "code",
   "execution_count": null,
   "id": "8c0afde9",
   "metadata": {},
   "outputs": [],
   "source": [
    "a = 5\n",
    "b = 6\n",
    "\n",
    "if a > b:\n",
    "    print (\"Statement 1\")\n",
    "\n",
    "\n",
    "\n",
    "    \n",
    "    print (\"Statement 2\")\n",
    "print(\"Statement3\")"
   ]
  },
  {
   "cell_type": "code",
   "execution_count": null,
   "id": "3ca72348",
   "metadata": {},
   "outputs": [],
   "source": [
    "a = 5\n",
    "b = 6\n",
    "\n",
    "if a > b:\n",
    "    print (\"A is more than B\")\n",
    "print (\"A is less than B\")"
   ]
  },
  {
   "cell_type": "code",
   "execution_count": null,
   "id": "dbd0c18c",
   "metadata": {},
   "outputs": [],
   "source": [
    "a = 5\n",
    "b = 6\n",
    "if a > b:\n",
    "    print (\"A is more than B\")\n",
    "else:\n",
    "    print (\"A is less than B\") "
   ]
  },
  {
   "cell_type": "code",
   "execution_count": null,
   "id": "f9054243",
   "metadata": {},
   "outputs": [],
   "source": [
    "a = 5\n",
    "b = 6\n",
    "if a > b:\n",
    "    print(\"A is more than B\")\n",
    "elif a < b:\n",
    "    print(\"A is less than B\")\n",
    "else:\n",
    "    print (\"A and B are equal B\") "
   ]
  },
  {
   "cell_type": "code",
   "execution_count": null,
   "id": "52122998",
   "metadata": {},
   "outputs": [],
   "source": [
    "a = 5\n",
    "b = 6\n",
    "c = 7\n",
    "\n",
    "if b > a and c > b:\n",
    "    print(\"Statement 1\")"
   ]
  },
  {
   "cell_type": "code",
   "execution_count": null,
   "id": "771c4bee",
   "metadata": {},
   "outputs": [],
   "source": [
    "grade = 65 # try with numbers between 35 and 75\n",
    "\n",
    "if grade>=40:\n",
    "    print('3rd')\n",
    "elif grade>=50:\n",
    "    print('2:2')\n",
    "elif grade>=60:\n",
    "    print('2:1')\n",
    "elif grade>=70:\n",
    "    print('1st')\n",
    "else:\n",
    "    print('Fail')"
   ]
  },
  {
   "cell_type": "code",
   "execution_count": null,
   "id": "8e0ce1a1",
   "metadata": {},
   "outputs": [],
   "source": [
    "grade=65 # try with numbers between 35 and 75\n",
    "\n",
    "if grade>=70:\n",
    "    print('1st')\n",
    "elif grade>=60:\n",
    "    print('2:1')\n",
    "elif grade>=50:\n",
    "    print('2:2')\n",
    "elif grade>=40:\n",
    "    print('3rd')\n",
    "else:\n",
    "    print('Fail')"
   ]
  },
  {
   "cell_type": "code",
   "execution_count": null,
   "id": "2f50c810",
   "metadata": {},
   "outputs": [],
   "source": [
    "A = 5.0/9.0\n",
    "B = 1/3 * 5 * 1/3\n",
    "\n",
    "if A == B:\n",
    "    print(\"A equals B\")\n",
    "else:\n",
    "    print(\"A and B differ by\", A-B)"
   ]
  },
  {
   "cell_type": "code",
   "execution_count": null,
   "id": "4995d37d",
   "metadata": {},
   "outputs": [],
   "source": [
    "message = \"Hello \"\n",
    "\n",
    "if message == \"Hello\":\n",
    "    print(\"Hi!\")\n",
    "else:\n",
    "    print(\"Hey!\")"
   ]
  },
  {
   "cell_type": "code",
   "execution_count": null,
   "id": "23c4617e",
   "metadata": {},
   "outputs": [],
   "source": [
    "a = 1\n",
    "b = 2\n",
    "c = 3\n",
    "d = 4\n",
    "\n",
    "if a+b < c*d:\n",
    "    if a+c > b*d:\n",
    "        print(\"Statement 1\")\n",
    "    else:\n",
    "        print(\"Statement 2\")\n",
    "else:\n",
    "    print(\"Statement 3\")"
   ]
  },
  {
   "cell_type": "markdown",
   "id": "771810d7",
   "metadata": {},
   "source": [
    "## Exercise 1 - Circles"
   ]
  },
  {
   "cell_type": "markdown",
   "id": "3a9770d3",
   "metadata": {},
   "source": [
    "<img style=\"float: right;\" width=\"30%\" src=\"https://raw.githubusercontent.com/engmaths/SEMT10002_2025/refs/heads/main/media/week_2/circles.png\" />\n",
    "\n",
    "Suppose we have three circles in the $xy$-plane:\n",
    "\n",
    "- Circle $C_1$ is centred at $(0, 0)$ with radius of length 5.\n",
    "- Circle $C_2$ is centred at $(2, 1)$ and has radius of length 2.\n",
    "- Circle $C_3$ is centred at $(-5, 0)$ and has a radius of length 3.\n",
    "\n",
    "> Using conditional statements, write a program which takes in the variables $x$ and $y$ and tells the user which circle(s) the point $(x, y)$ is in.\n",
    "\n",
    "> Think about the order in which your program evaluates the expressions? Is this the most efficient way to structure the code?"
   ]
  },
  {
   "cell_type": "markdown",
   "id": "625451d5",
   "metadata": {},
   "source": [
    "## Exercise 2 - Robot Line Sensor"
   ]
  },
  {
   "cell_type": "markdown",
   "id": "1551106e",
   "metadata": {},
   "source": [
    "<img style=\"float: right;\" width=\"30%\" src=\"https://raw.githubusercontent.com/engmaths/SEMT10002_2025/refs/heads/main/media/week_2/robot_numbers.png\" />\n",
    "\n",
    "Lots of robots use light sensors to detect and follow marker lines on the floor.  Sometimes fancier sensors like magnetic detection of guide wires are used, but the principles are the same.  Consider a robot with three sensors, one on the centreline and one on either side.  A sensor returns `True` if it is over a line and `False` otherwise.  The useful combinations are:\n",
    "\n",
    "| Left sensor | Middle sensor | Right sensor | Meaning |\n",
    "| ---- | ---- | ---- | ---- |\n",
    "| False | True | False | Centred on line: drive straight |\n",
    "| True | True | False | Line is slightly to my left: turn left |\n",
    "| False | True | True | Line is slightly to my right: turn right |\n",
    "| True | False | False | Line is far to my left: slow and turn left |\n",
    "| False | False | True | Line is far to my right: slow and turn right |\n",
    "\n",
    "\n",
    "\n",
    "> Implement the control logic for the robot.  _There are lots of ways of doing this._\n",
    "\n",
    "> How many other possible readings are there?  And what might they mean?  Extend your code to handle everything."
   ]
  },
  {
   "cell_type": "markdown",
   "id": "f5e921c9",
   "metadata": {},
   "source": [
    "## Exercise 3 - "
   ]
  },
  {
   "cell_type": "markdown",
   "id": "9a82ab60",
   "metadata": {},
   "source": []
  },
  {
   "cell_type": "markdown",
   "id": "1d60703b",
   "metadata": {},
   "source": [
    "## Exercise 4 - "
   ]
  },
  {
   "cell_type": "markdown",
   "id": "19738746",
   "metadata": {},
   "source": []
  },
  {
   "cell_type": "markdown",
   "id": "98c7cad1",
   "metadata": {},
   "source": [
    "## Exercise 5 - "
   ]
  },
  {
   "cell_type": "markdown",
   "id": "79e51d63",
   "metadata": {},
   "source": []
  }
 ],
 "metadata": {
  "kernelspec": {
   "display_name": "Python 3",
   "language": "python",
   "name": "python3"
  },
  "language_info": {
   "codemirror_mode": {
    "name": "ipython",
    "version": 3
   },
   "file_extension": ".py",
   "mimetype": "text/x-python",
   "name": "python",
   "nbconvert_exporter": "python",
   "pygments_lexer": "ipython3",
   "version": "3.9.13"
  }
 },
 "nbformat": 4,
 "nbformat_minor": 5
}
