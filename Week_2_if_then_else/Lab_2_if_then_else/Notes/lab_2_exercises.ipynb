{
 "cells": [
  {
   "cell_type": "markdown",
   "id": "9389380f",
   "metadata": {},
   "source": [
    "# Week 2 Exercises"
   ]
  },
  {
   "cell_type": "markdown",
   "id": "1944eaf2",
   "metadata": {},
   "source": [
    "## Comprehension Checks"
   ]
  },
  {
   "cell_type": "markdown",
   "id": "c478546f",
   "metadata": {},
   "source": [
    "Before starting today's exercises, please spend 10 minutes to run through these comprehension checks with a partner. Each check contains a few line of Python code that you can run to get some output. Before running each piece of code, discuss with your partner what you think the output will be and why. Then run the code- is it what you expected? If not, why? Discuss with your partner, and TA if you are unsure."
   ]
  },
  {
   "cell_type": "code",
   "execution_count": 20,
   "id": "4d25d2c8",
   "metadata": {},
   "outputs": [
    {
     "name": "stdout",
     "output_type": "stream",
     "text": [
      "You can't stop me from printing!\n"
     ]
    }
   ],
   "source": [
    "if True:\n",
    "    print(\"You can't stop me from printing!\")"
   ]
  },
  {
   "cell_type": "code",
   "execution_count": 21,
   "id": "e3f24a1a",
   "metadata": {},
   "outputs": [],
   "source": [
    "if False:\n",
    "    print(\"Why is it never my turn?\")"
   ]
  },
  {
   "cell_type": "code",
   "execution_count": 22,
   "id": "2564830e",
   "metadata": {},
   "outputs": [],
   "source": [
    "if 8 < 5:\n",
    "    print(\"Me either!\")"
   ]
  },
  {
   "cell_type": "code",
   "execution_count": 23,
   "id": "9e3f6567",
   "metadata": {},
   "outputs": [
    {
     "name": "stdout",
     "output_type": "stream",
     "text": [
      "I printed?\n"
     ]
    }
   ],
   "source": [
    "if \"Banana\":\n",
    "    print(\"I printed?\")"
   ]
  },
  {
   "cell_type": "code",
   "execution_count": 24,
   "id": "5760aaf7",
   "metadata": {},
   "outputs": [
    {
     "name": "stdout",
     "output_type": "stream",
     "text": [
      "Me too?\n"
     ]
    }
   ],
   "source": [
    "if 5:\n",
    "    print(\"Me too?\")"
   ]
  },
  {
   "cell_type": "code",
   "execution_count": 25,
   "id": "47d3155f",
   "metadata": {},
   "outputs": [],
   "source": [
    "if 0:\n",
    "    print(\"And me?\")"
   ]
  },
  {
   "cell_type": "code",
   "execution_count": 1,
   "id": "ee54c838",
   "metadata": {},
   "outputs": [],
   "source": [
    "a = 5\n",
    "b = 6\n",
    "\n",
    "if a > b:\n",
    "    print(\"A is less than B\")\n"
   ]
  },
  {
   "cell_type": "code",
   "execution_count": 2,
   "id": "5ecfed47",
   "metadata": {},
   "outputs": [
    {
     "name": "stdout",
     "output_type": "stream",
     "text": [
      "A is less than B\n"
     ]
    }
   ],
   "source": [
    "a = 5\n",
    "b = 6\n",
    "\n",
    "if a < b:\n",
    "    print(\"A is less than B\")"
   ]
  },
  {
   "cell_type": "code",
   "execution_count": null,
   "id": "23d6266c",
   "metadata": {},
   "outputs": [],
   "source": [
    "'''Something with ge or le'''"
   ]
  },
  {
   "cell_type": "code",
   "execution_count": 3,
   "id": "3ec67d06",
   "metadata": {},
   "outputs": [
    {
     "name": "stdout",
     "output_type": "stream",
     "text": [
      "A is less than B\n",
      "A is still less than B\n"
     ]
    }
   ],
   "source": [
    "a = 5\n",
    "b = 6\n",
    "\n",
    "if a < b:\n",
    "    print (\"A is less than B\")\n",
    "    print (\"A is still less than B\")"
   ]
  },
  {
   "cell_type": "code",
   "execution_count": 9,
   "id": "0f1d5061",
   "metadata": {},
   "outputs": [
    {
     "name": "stdout",
     "output_type": "stream",
     "text": [
      "A is less than B\n",
      "A is still less than B\n"
     ]
    }
   ],
   "source": [
    "a = 5\n",
    "b = 6\n",
    "\n",
    "if a < b:\n",
    "    print (\"A is less than B\")\n",
    "    \n",
    "    print (\"A is still less than B\")"
   ]
  },
  {
   "cell_type": "code",
   "execution_count": 10,
   "id": "9ca82ab5",
   "metadata": {},
   "outputs": [],
   "source": [
    "a = 5\n",
    "b = 6\n",
    "\n",
    "if a > b:\n",
    "    print (\"A is more than B\")\n",
    "\n",
    "\n",
    "\n",
    "    \n",
    "    print (\"A is still more than B\")"
   ]
  },
  {
   "cell_type": "code",
   "execution_count": 11,
   "id": "8c0afde9",
   "metadata": {},
   "outputs": [
    {
     "name": "stdout",
     "output_type": "stream",
     "text": [
      "A is more than B\n"
     ]
    }
   ],
   "source": [
    "a = 5\n",
    "b = 6\n",
    "\n",
    "if a > b:\n",
    "    print (\"A is more than B\")\n",
    "\n",
    "\n",
    "\n",
    "    \n",
    "    print (\"A is still more than B\")\n",
    "print(\"A is more than B\")"
   ]
  },
  {
   "cell_type": "code",
   "execution_count": 5,
   "id": "3ca72348",
   "metadata": {},
   "outputs": [
    {
     "name": "stdout",
     "output_type": "stream",
     "text": [
      "A is still more than B\n"
     ]
    }
   ],
   "source": [
    "a = 5\n",
    "b = 6\n",
    "\n",
    "if a > b:\n",
    "    print (\"A is more than B\")\n",
    "print (\"A is less than B\")"
   ]
  },
  {
   "cell_type": "code",
   "execution_count": 6,
   "id": "dbd0c18c",
   "metadata": {},
   "outputs": [
    {
     "name": "stdout",
     "output_type": "stream",
     "text": [
      "A is less than B\n"
     ]
    }
   ],
   "source": [
    "a = 5\n",
    "b = 6\n",
    "if a > b:\n",
    "    print (\"A is more than B\")\n",
    "else:\n",
    "    print (\"A is less than B\") "
   ]
  },
  {
   "cell_type": "code",
   "execution_count": 8,
   "id": "f9054243",
   "metadata": {},
   "outputs": [
    {
     "name": "stdout",
     "output_type": "stream",
     "text": [
      "A is less than B\n"
     ]
    }
   ],
   "source": [
    "a = 5\n",
    "b = 6\n",
    "if a > b:\n",
    "    print(\"A is more than B\")\n",
    "elif a < b:\n",
    "    print(\"A is less than B\")\n",
    "else:\n",
    "    print (\"A and B are equal B\") "
   ]
  },
  {
   "cell_type": "code",
   "execution_count": null,
   "id": "52122998",
   "metadata": {},
   "outputs": [],
   "source": [
    "'''Something multiple clauses'''"
   ]
  },
  {
   "cell_type": "code",
   "execution_count": null,
   "id": "771c4bee",
   "metadata": {},
   "outputs": [],
   "source": [
    "grade = 65 # try with numbers between 35 and 75\n",
    "\n",
    "if grade>=40:\n",
    "    print('3rd')\n",
    "elif grade>=50:\n",
    "    print('2:2')\n",
    "elif grade>=60:\n",
    "    print('2:1')\n",
    "elif grade>=70:\n",
    "    print('1st')\n",
    "else:\n",
    "    print('Fail')"
   ]
  },
  {
   "cell_type": "code",
   "execution_count": 19,
   "id": "2f50c810",
   "metadata": {},
   "outputs": [
    {
     "name": "stdout",
     "output_type": "stream",
     "text": [
      "A and B differ by 1.1102230246251565e-16\n"
     ]
    }
   ],
   "source": [
    "A = 5.0/9.0\n",
    "B = 1/3 * 5 * 1/3\n",
    "\n",
    "if A == B:\n",
    "    print(\"A equals B\")\n",
    "else:\n",
    "    print(\"A and B differ by\", A-B)"
   ]
  },
  {
   "cell_type": "code",
   "execution_count": null,
   "id": "4995d37d",
   "metadata": {},
   "outputs": [],
   "source": [
    "'''Something with strings and ifs'''"
   ]
  },
  {
   "cell_type": "code",
   "execution_count": null,
   "id": "23c4617e",
   "metadata": {},
   "outputs": [],
   "source": [
    "'''Something with a nested if statement'''"
   ]
  }
 ],
 "metadata": {
  "kernelspec": {
   "display_name": "base",
   "language": "python",
   "name": "python3"
  },
  "language_info": {
   "codemirror_mode": {
    "name": "ipython",
    "version": 3
   },
   "file_extension": ".py",
   "mimetype": "text/x-python",
   "name": "python",
   "nbconvert_exporter": "python",
   "pygments_lexer": "ipython3",
   "version": "3.9.10"
  }
 },
 "nbformat": 4,
 "nbformat_minor": 5
}
