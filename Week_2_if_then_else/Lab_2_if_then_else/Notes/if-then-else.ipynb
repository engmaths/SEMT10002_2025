{
 "cells": [
  {
   "cell_type": "markdown",
   "id": "9ff59b3e",
   "metadata": {},
   "source": [
    "# Lab 2 - If-then-else"
   ]
  },
  {
   "cell_type": "markdown",
   "id": "2857887e",
   "metadata": {},
   "source": [
    "Previously, we saw how:\n",
    "- We can store information in the memory of a computer by creating a variable.\n",
    "- A variable has a name, a value and a data type (int, float, bool, etc).\n",
    "- Operators can be used to perform arithmetic (+, -, /, //, etc) or comparison (>, >=, ==, etc) operations.\n",
    "- A computer program is a sequence of instructions that are executed one after the other.\n",
    "\n",
    "By the end of this week, you should:\n",
    "- Know how to use *selection* or if-then-else statements to control program flow.\n",
    "- Understand how indentation is used to determine the *scope* of a statement.\n",
    "- Understand how if-then-else statements can be nested to form compound statements."
   ]
  },
  {
   "cell_type": "markdown",
   "id": "0517bbcd",
   "metadata": {},
   "source": [
    "## `If`"
   ]
  },
  {
   "cell_type": "markdown",
   "id": "a4c05379",
   "metadata": {},
   "source": [
    "Often in our code, we'll want certain instructions (or sequence of instructions) to execute conditionally-for example, we should only run the code for processing input if we've first checked whether we've actually got some input to process. We can do this in Python using the *if-then-else* syntax. \n",
    "\n",
    "In general:\n",
    "\n",
    "```python\n",
    "if (test expression):\n",
    "    # something that only gets done if the test expression returns True\n",
    "    # another thing that only happens if it's True\n",
    "# this expression happens anyway, True or False\n",
    "```\n",
    "This is your first sight of the famous python _indent_.  The block of code identified by being _indented_ is the bit that gets switched on or off by the `if`.  This will turn up over and over with different statements.  Let's try an example.\n",
    "\n",
    "**Comprehension check** Play with the numbers in the code below and see what happens."
   ]
  },
  {
   "cell_type": "code",
   "execution_count": null,
   "id": "cf59731d",
   "metadata": {},
   "outputs": [],
   "source": [
    "a = 5\n",
    "b = 3\n",
    "print('a is',a)\n",
    "print('b is',b)\n",
    "if a>=b:\n",
    "    print('a is greater than or equal to b')\n",
    "if a<=b:\n",
    "    print('a is less than or equal to b')\n",
    "print('Finished')"
   ]
  },
  {
   "cell_type": "markdown",
   "id": "aa6253a6",
   "metadata": {},
   "source": [
    "### Strings"
   ]
  },
  {
   "cell_type": "markdown",
   "id": "7dd97d60",
   "metadata": {},
   "source": [
    "We haven't played with the equal and not equal operators.  Let's use the opportunity to also mess around with text, which we can compare with `==` and `!=`.\n",
    "\n",
    "**Comprehension Check** Change the text and see what happens."
   ]
  },
  {
   "cell_type": "code",
   "execution_count": null,
   "id": "4d286070",
   "metadata": {},
   "outputs": [],
   "source": [
    "password = 'LionMug1986$'\n",
    "\n",
    "entered_text = 'LionMug1982%'\n",
    "\n",
    "if password == entered_text:\n",
    "    print('Login success')\n",
    "\n",
    "if password != entered_text:\n",
    "    print('Login failed')"
   ]
  },
  {
   "cell_type": "markdown",
   "id": "5b67ce9b",
   "metadata": {},
   "source": [
    "### Multiple conditions"
   ]
  },
  {
   "cell_type": "markdown",
   "id": "48906055",
   "metadata": {},
   "source": [
    "We can check multiple conditions using `and` and `or` operators to join different logical expressions together.\n",
    "\n",
    "`a and b` returns True if both `a` and `b` are True\n",
    "\n",
    "`a or b` returns True if either `a` or `b` is True\n",
    "\n",
    "**Comprehension Check** Extend the example below for a full mark scheme: 40 to pass, 50 for a 2:2, 60 for a 2:1, and 70 for a 1st. "
   ]
  },
  {
   "cell_type": "code",
   "execution_count": null,
   "id": "f0a602d0",
   "metadata": {},
   "outputs": [],
   "source": [
    "grade = 55.1\n",
    "print('Grade is',grade)\n",
    "if grade>=60 and grade<70:\n",
    "    print('Result is 2:1')"
   ]
  },
  {
   "cell_type": "markdown",
   "id": "f916f463",
   "metadata": {},
   "source": [
    "## `if` and `else`"
   ]
  },
  {
   "cell_type": "markdown",
   "id": "65f24c4e",
   "metadata": {},
   "source": [
    "You can have an `else` clause after each `if` that only runs its indented statements if the `if` test fails.  Here's an example:"
   ]
  },
  {
   "cell_type": "code",
   "execution_count": null,
   "id": "2605b11f",
   "metadata": {},
   "outputs": [],
   "source": [
    "a = -13.2\n",
    "if a>=0:\n",
    "    print('a is positive:', a)  #This will run if a >=0\n",
    "else:\n",
    "    print('a is negative:', a)  #This will run if a < 0"
   ]
  },
  {
   "cell_type": "markdown",
   "id": "4ae2b74a",
   "metadata": {},
   "source": [
    "**Comprehension Check** Extend this code an else clause so it prints \"not close to\"."
   ]
  },
  {
   "cell_type": "code",
   "execution_count": null,
   "id": "117bf447",
   "metadata": {},
   "outputs": [],
   "source": [
    "a = 99.1\n",
    "if (a-100)**2 < 1:\n",
    "    print('a is equal to 100 to within 1%:', a)\n",
    "    '???'"
   ]
  },
  {
   "cell_type": "markdown",
   "id": "37d50b08",
   "metadata": {},
   "source": [
    "## `if` `elif` and `else`"
   ]
  },
  {
   "cell_type": "markdown",
   "id": "4aa9aa63",
   "metadata": {},
   "source": [
    "`elif` is short for \"else if\"\n",
    "\n",
    "```Python\n",
    "if test1:\n",
    "    # this runs if test 1 passes, _i.e._ test1 is True\n",
    "elif test2:\n",
    "    # this runs if test 1 fails and then test 2 passes\n",
    "else:\n",
    "    # this runs if test 1 fails and then test 2 fails\n",
    "```\n",
    "\n",
    "You can have arbitrary numbers of `elif` statements after an `if`, and the final `else` is optional.  Let's see some examples.\n",
    "\n",
    "**Comprehension Check** Change the variable settings and see what happens"
   ]
  },
  {
   "cell_type": "code",
   "execution_count": null,
   "id": "aa01bc32",
   "metadata": {},
   "outputs": [],
   "source": [
    "detected_item = 'Mouse' # try also 'Dog' and 'Human'\n",
    "\n",
    "if detected_item=='Human':\n",
    "    print('Human detected: robot safety protocol engaged')\n",
    "elif detected_item=='Dog':\n",
    "    print('Dog detected: pet engagement protocol engaged')\n",
    "\n",
    "print('Carrying on')"
   ]
  },
  {
   "cell_type": "markdown",
   "id": "66243ccb",
   "metadata": {},
   "source": [
    "Next is an example with loads of `elif` statements to capture multiple cases, plus a final `else` to catch anything unexpected, which is good practice.\n",
    "\n",
    "This is an example of a _finite state machine_, which is a handy framework for stitching together different behaviours for some sort of artificial agent."
   ]
  },
  {
   "cell_type": "code",
   "execution_count": null,
   "id": "07b41342",
   "metadata": {},
   "outputs": [],
   "source": [
    "mode = 'drive' # try also 'explore', 'drive', 'goal', 'lost', and 'rubbish', or indeed anything else\n",
    "\n",
    "if mode=='avoid':\n",
    "    print('Backing up robot')\n",
    "    mode = 'explore'\n",
    "elif mode=='explore':\n",
    "    print('Random turn')\n",
    "    mode = 'drive'\n",
    "elif mode=='drive':\n",
    "    print('Going forwards')\n",
    "    mode = 'goal'\n",
    "elif mode=='goal':\n",
    "    print('Turning to goal')\n",
    "    mode = 'drive'\n",
    "elif mode=='lost':\n",
    "    print('Stop and reset')\n",
    "    mode = 'explore'\n",
    "else:\n",
    "    print('Unexpected mode:', mode)\n",
    "    raise ValueError('Unexpected mode value')"
   ]
  },
  {
   "cell_type": "markdown",
   "id": "07127217",
   "metadata": {},
   "source": [
    "The next two cells show two different ways of achieving the same thing.  The difference is slight, but the second version saves you a bit of computation in some cases.  Why bother to check if you're too small if you already know you're too big?"
   ]
  },
  {
   "cell_type": "code",
   "execution_count": null,
   "id": "5edb5ada",
   "metadata": {},
   "outputs": [],
   "source": [
    "q = 16.5 # try numbers between 10 and 20\n",
    "if q > 15.0:\n",
    "    print('Too big:', q)\n",
    "if q < 12.0:\n",
    "    print('Too small:', q)"
   ]
  },
  {
   "cell_type": "code",
   "execution_count": null,
   "id": "a4cb195e",
   "metadata": {},
   "outputs": [],
   "source": [
    "q = 16.5 # try numbers between 10 and 20\n",
    "if q > 15.0:\n",
    "    print('Too big:', q)\n",
    "elif q < 12.0:\n",
    "    print('Too small:', q)"
   ]
  },
  {
   "cell_type": "markdown",
   "id": "0f63fd63",
   "metadata": {},
   "source": [
    "Now another common situation - saturation or clipping.  Suppose we want to ensure that a value is always within a certain range.  If it goes too high, we limit to the upper limit, and if too low, we limit to the lower limit.  This is really common in control where actuators typically have a fixed range of operation, _e.g._ voltage outputs or motor speeds.\n",
    "\n",
    "**Comprehension Check** Can you make the code below a little more efficient?  How and why?"
   ]
  },
  {
   "cell_type": "code",
   "execution_count": null,
   "id": "b874254c",
   "metadata": {},
   "outputs": [],
   "source": [
    "command = -1.2 # test with values from -2.0 to 2.0\n",
    "print('Before saturation command is', command)\n",
    "\n",
    "if command > 1.0:\n",
    "    command = 1.0\n",
    "if command < -1.0:\n",
    "    command = -1.0\n",
    "\n",
    "print('After saturation command is', command)"
   ]
  },
  {
   "cell_type": "markdown",
   "id": "986dba72",
   "metadata": {},
   "source": [
    "So far, so good.  But `elif` can sometimes catch you out if you haven't thought through the logic.  With apologies for returning to the touchy subject of grades, can you fix this example?\n",
    "\n",
    "> Eh?  Why is 65 only getting me a '3rd'?  I should get a 2:1 for that..."
   ]
  },
  {
   "cell_type": "code",
   "execution_count": null,
   "id": "ef4ff8fe",
   "metadata": {},
   "outputs": [],
   "source": [
    "grade = 65 # try with numbers between 35 and 75\n",
    "\n",
    "if grade>=40:\n",
    "    print('3rd')\n",
    "elif grade>=50:\n",
    "    print('2:2')\n",
    "elif grade>=60:\n",
    "    print('2:1')\n",
    "elif grade>=70:\n",
    "    print('1st')\n",
    "else:\n",
    "    print('Fail')"
   ]
  },
  {
   "cell_type": "markdown",
   "id": "90f5ecd8",
   "metadata": {},
   "source": [
    "## Nesting"
   ]
  },
  {
   "cell_type": "markdown",
   "id": "2e9bc502",
   "metadata": {},
   "source": [
    "Remember that any statements in the indented bit after an `if` only runs if the `if` expression is `True`.  Now we will put more `if` statements in that indented area.\n",
    "\n",
    "```Python\n",
    "if test1:\n",
    "    if test2:\n",
    "        # this runs if test1 is True and test2 is True\n",
    "    else:\n",
    "        # this runs if test1 is True and test2 is False\n",
    "else:\n",
    "    # this runs if test1 is false, without even calculating test2\n",
    "```\n",
    "\n",
    "Hopefully you can start to see the point of the indent - it identifies a _scope_ for each statement, _i.e._ a parent statement that controls its execution, and makes that scope easy to read.\n",
    "\n",
    "An example, again back to grading."
   ]
  },
  {
   "cell_type": "markdown",
   "id": "eeb396da",
   "metadata": {},
   "source": [
    "**Comprehension Check** Can you add protection from silly numbers, _i.e._ over 100 or less than zero?"
   ]
  },
  {
   "cell_type": "code",
   "execution_count": null,
   "id": "8fcc689b",
   "metadata": {},
   "outputs": [],
   "source": [
    "grade = 105 # try from -5 to 105\n",
    "\n",
    "if grade < 40:\n",
    "    print('Fail')\n",
    "else:\n",
    "    print('Pass')\n",
    "    if grade < 50:\n",
    "        print('3rd')\n",
    "    elif grade < 60:\n",
    "        print('2:2')\n",
    "    elif grade < 70:\n",
    "        print('2:1')\n",
    "    else:\n",
    "        print('1st')"
   ]
  },
  {
   "cell_type": "markdown",
   "id": "01709d79",
   "metadata": {},
   "source": []
  }
 ],
 "metadata": {
  "kernelspec": {
   "display_name": "Python 3",
   "language": "python",
   "name": "python3"
  },
  "language_info": {
   "codemirror_mode": {
    "name": "ipython",
    "version": 3
   },
   "file_extension": ".py",
   "mimetype": "text/x-python",
   "name": "python",
   "nbconvert_exporter": "python",
   "pygments_lexer": "ipython3",
   "version": "3.9.13"
  }
 },
 "nbformat": 4,
 "nbformat_minor": 5
}
