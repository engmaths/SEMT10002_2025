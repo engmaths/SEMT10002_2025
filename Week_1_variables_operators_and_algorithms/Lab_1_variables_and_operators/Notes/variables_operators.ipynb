{
 "cells": [
  {
   "cell_type": "markdown",
   "id": "1a1d1bbd",
   "metadata": {},
   "source": [
    "# Lab 1 - Objects, Variables, and Operators"
   ]
  },
  {
   "cell_type": "markdown",
   "id": "d4b08aff",
   "metadata": {},
   "source": [
    "By the end of this week, you should:\n",
    "- Understand what the word *algorithm* means, both generally and in the context of computer programming.\n",
    "- Begin developing a simple mental model of a how a computer executes algorithms.\n",
    "- Understand the meaning of the terms *object*, *variable*, *operator*, *statement* and *expression* within the context of Python programming.\n",
    "- Know how to create and manipulate data (i.e objects) within the memory of a computer, including the importance of *data types*\n",
    "- Understand how numbers are represented within memory, particularly the difference between integer and floating point representations.\n",
    "- Know how to combine variables and operators into statements and expressions.\n",
    "- Know how to run Python code in the terminal and via an IDE (i.e VS code).\n"
   ]
  },
  {
   "cell_type": "markdown",
   "id": "d144b3a9",
   "metadata": {},
   "source": [
    "## Algorithms & Computer Programming"
   ]
  },
  {
   "cell_type": "markdown",
   "id": "ddef56a4",
   "metadata": {},
   "source": [
    "### Algorithms"
   ]
  },
  {
   "cell_type": "markdown",
   "id": "8b67e163",
   "metadata": {},
   "source": [
    "An *algorithm* is a set of instructions that can be followed to complete a task. For example, I might ask you to make me some jammie toast, by giving this set of instructions:\n",
    "\n",
    "1. Get some bread out of the bread basket.\n",
    "2. Put the bread into the toaster.\n",
    "3. Turn the toaster on by pressing the lever down.\n",
    "4. Wait until the toast pops up.\n",
    "5. Take the toast out of the toaster.\n",
    "6. Take the jam out of the fridge.\n",
    "7. Spread the jam on the toast using a kitchen knife.\n",
    "\n",
    "If you follow these instructions sequentially, then the result will be some delicious jammie toast. This is a relatively simple algorithm as we just follow the instructions one after the other- more complex algorithms may include *conditionals* or *loops*.  Our job when designing an algorithm will be to find the right set of smaller tasks. We'll take a deeper look at algorithms in this week's seminar- the important thing to understand for now is that an algorithm is just a sequence of instructions that break a bigger job (*make toast*) into a sequence of smaller jobs. "
   ]
  },
  {
   "cell_type": "markdown",
   "id": "4d139b6a",
   "metadata": {},
   "source": [
    "### Computer Programming"
   ]
  },
  {
   "cell_type": "markdown",
   "id": "ed423638",
   "metadata": {},
   "source": [
    "\n",
    "Now, typically, when we think of an algorithm, we are thinking of the kinds of algorithms that can be performed by a computer- what do we mean by a computer? In this course, we mean a digital electronic computer, composed of transistors, and similar to those that power our phones, tablets, televisions, and so on. Of course, all of these devices are slightly different, but we can think of them as really the same kind of thing, by adopting the view in the image below:\n",
    "\n",
    "![](../../../media/week_1/Cpu_diagram.png)\n",
    "\n",
    "Here, a computer consists of four things- input devices (i.e keyboards, mice, touchscreens), memory (for storing data), a central processing unit (CPU) for performing instructions, and an output device (typically a screen). A CPU is a digital electronic machine that can perform some simple operations. To *program* a computer to solve a task, we must design an algorithm which breaks that task down into a set of instructions that can be performed by the CPU. \n",
    "\n",
    "What sort of instructions can a CPU do? Well, broadly, four sorts of things:\n",
    "\n",
    "1. Store or read data from memory\n",
    "2. Perform arithmetic operations (2+2, 3x3)\n",
    "3. Perform logical operations (3>4)\n",
    "4. Read from an input device or write to an output device. \n",
    "\n",
    "We'll take a closer look at the first three of these today. Input and output will be covered in week 8. This week's seminar, we'll also return to the picture we're developing here to start building a mental model of what happens when we *execute* a computer program."
   ]
  },
  {
   "cell_type": "markdown",
   "id": "9c4fce37",
   "metadata": {},
   "source": [
    "## Computer Memory"
   ]
  },
  {
   "cell_type": "markdown",
   "id": "1db262f9",
   "metadata": {},
   "source": [
    "### Objects and Variables"
   ]
  },
  {
   "cell_type": "markdown",
   "id": "402f3157",
   "metadata": {},
   "source": [
    "We can use a computer's memory to store data. Any item of data (e.g. some numbers, text, an image, etc) stored in computer memory is known as an *object*. We can think of computer memory as a set of boxes that we can use to hold data. Each box has 3 things associated with it:\n",
    "\n",
    "- A name (which we use in code to refer to a specific box).\n",
    "- A value (which is the actual data stored in the box).\n",
    "- A data type (which stores whether the data is a number, text or something else).\n",
    "\n",
    "Conventionally, in Python, we call each individual box a *variable*, and usually refer to each variables by its *name*. For example,  we can create a variable by choosing a (previously unused) name and assigning it a value with the equals (=) symbol. For example, below we make a new variable (a), with a value of 1."
   ]
  },
  {
   "cell_type": "code",
   "execution_count": 17,
   "id": "4b76e5f2",
   "metadata": {},
   "outputs": [
    {
     "name": "stdout",
     "output_type": "stream",
     "text": [
      "1\n"
     ]
    }
   ],
   "source": [
    "a = 1\n",
    "print(a)"
   ]
  },
  {
   "cell_type": "markdown",
   "id": "ffafe4d5",
   "metadata": {},
   "source": [
    "<img src=\"../../../media/week_1/Memory1.png\">\n",
    "\n",
    "We can make a second *variable* in much the same way."
   ]
  },
  {
   "cell_type": "code",
   "execution_count": 18,
   "id": "1548f09e",
   "metadata": {},
   "outputs": [
    {
     "name": "stdout",
     "output_type": "stream",
     "text": [
      "2\n"
     ]
    }
   ],
   "source": [
    "b = 2\n",
    "print(b)\n"
   ]
  },
  {
   "cell_type": "markdown",
   "id": "57e768d3",
   "metadata": {},
   "source": [
    "<img src=\"../../../media/week_1/Memory2.png\">\n",
    "\n",
    "We can then retrieve and use the data stored in these variables (a and b) later in the program. For example, we could print their sum by writing the code below:"
   ]
  },
  {
   "cell_type": "code",
   "execution_count": 19,
   "id": "9b436778",
   "metadata": {},
   "outputs": [
    {
     "name": "stdout",
     "output_type": "stream",
     "text": [
      "3\n"
     ]
    }
   ],
   "source": [
    "print(a+b)"
   ]
  },
  {
   "cell_type": "markdown",
   "id": "6f7e8240",
   "metadata": {},
   "source": [
    "We can also  change or *re-assign* the value of a variable. For example, this code:"
   ]
  },
  {
   "cell_type": "code",
   "execution_count": 24,
   "id": "48634cbc",
   "metadata": {},
   "outputs": [
    {
     "name": "stdout",
     "output_type": "stream",
     "text": [
      "1\n",
      "Banana\n"
     ]
    }
   ],
   "source": [
    "a = 1\n",
    "print(a)\n",
    "a = \"Banana\"\n",
    "print(a)"
   ]
  },
  {
   "cell_type": "markdown",
   "id": "546f55df",
   "metadata": {},
   "source": [
    "will change the value of variable a from 1 to \"Banana\". Note that we've had to put the text in quotation marks (\"\") so that Python knows this is text data.\n",
    "\n",
    "<img src=\"../../../media/week_1/Memory3.png\">"
   ]
  },
  {
   "cell_type": "markdown",
   "id": "b1f5b7ba",
   "metadata": {},
   "source": [
    "We can also assign a variable by setting it equal to another variable, for instance, with the code:"
   ]
  },
  {
   "cell_type": "code",
   "execution_count": 21,
   "id": "5d337a68",
   "metadata": {},
   "outputs": [
    {
     "name": "stdout",
     "output_type": "stream",
     "text": [
      "2\n"
     ]
    }
   ],
   "source": [
    "a = b\n",
    "print(a)"
   ]
  },
  {
   "cell_type": "markdown",
   "id": "58b3caa9",
   "metadata": {},
   "source": [
    "**Comprehension Check** - Use the box below to make a variable \"name\" and assign it a value equal to your name. Remember we need to use quotations marks for text data!"
   ]
  },
  {
   "cell_type": "code",
   "execution_count": 22,
   "id": "1adb245a",
   "metadata": {},
   "outputs": [],
   "source": [
    "# Put your code here."
   ]
  },
  {
   "cell_type": "markdown",
   "id": "718ef7fe",
   "metadata": {},
   "source": [
    "### Data Types"
   ]
  },
  {
   "cell_type": "markdown",
   "id": "61893382",
   "metadata": {},
   "source": [
    "An object's data *type* determines what properties it has and how it behaves. Python has by default a number of in-built data types that we can use, such as:\n",
    "\n",
    "- integers (int) - used to store whole numbers (i.e 3, 88).\n",
    "- floating point numbers (floats) - used to store numbers with decimal points (e.g. 1.5, 99.9626).\n",
    "- strings (str) - used to store a sequence of characters (e.g. \"hello\").\n",
    "- booleans (bool) - either True or False.\n",
    "\n",
    "When we create a variable in Python, it will automatically assign a data type to a variable based on its value. Generally, this will work well, but sometimes it can cause trouble. You can check the type of a variable by writing type(<name of variable>) in your code. For example, the code below will create a variable with name \"test_int\" and value 5. It will then print out the data type of the variable \"test_int\""
   ]
  },
  {
   "cell_type": "code",
   "execution_count": 27,
   "id": "990e23b7",
   "metadata": {},
   "outputs": [
    {
     "name": "stdout",
     "output_type": "stream",
     "text": [
      "Var1 has value: a and is of type: <class 'str'>\n",
      "Var2 has value: 3 and is of type: <class 'int'>\n",
      "Var3 has value: 3.5 and is of type: <class 'float'>\n",
      "Var4 has value: True and is of type: <class 'bool'>\n"
     ]
    }
   ],
   "source": [
    "var1 = \"a\"\n",
    "print(\"Var1 has value: %s and is of type: %s\" % (var1, type(var1)))\n",
    "\n",
    "var2 = 3\n",
    "print(\"Var2 has value: %s and is of type: %s\" % (var2, type(var2)))\n",
    "\n",
    "var3 = 3.5\n",
    "print(\"Var3 has value: %s and is of type: %s\" % (var3, type(var3)))\n",
    "\n",
    "var4 = True\n",
    "print(\"Var4 has value: %s and is of type: %s\" % (var4, type(var4))) "
   ]
  },
  {
   "cell_type": "markdown",
   "id": "81fb6b4f",
   "metadata": {},
   "source": [
    "Generally, this will work well, but sometimes it can cause trouble- using a variable you think is a float but is actually an integer is a common source of errors.\n",
    "\n",
    " You can check the type of a variable by writing type(<name of variable>) in your code. For example, the code below will create a variable with name \"test_int\" and value 5. It will then print out the data type of the variable \"test_int\""
   ]
  },
  {
   "cell_type": "code",
   "execution_count": 20,
   "id": "0bddd5b0",
   "metadata": {},
   "outputs": [
    {
     "name": "stdout",
     "output_type": "stream",
     "text": [
      "5\n",
      "<class 'int'>\n"
     ]
    }
   ],
   "source": [
    "test_int = 5\n",
    "print(test_int)\n",
    "print(type(test_int))"
   ]
  },
  {
   "cell_type": "markdown",
   "id": "2a6791d9",
   "metadata": {},
   "source": [
    "If we want to change the type of a variable, we can *cast* it by using code like that shown below."
   ]
  },
  {
   "cell_type": "code",
   "execution_count": 29,
   "id": "f467aa1c",
   "metadata": {},
   "outputs": [
    {
     "name": "stdout",
     "output_type": "stream",
     "text": [
      "5.0\n",
      "<class 'float'>\n",
      "5\n",
      "<class 'str'>\n"
     ]
    }
   ],
   "source": [
    "test_int = float(5)\n",
    "print(test_int)\n",
    "print(type(test_int))\n",
    "\n",
    "test_int = str(5)\n",
    "print(test_int)\n",
    "print(type(test_int))\n"
   ]
  },
  {
   "cell_type": "markdown",
   "id": "96a98737",
   "metadata": {},
   "source": [
    "#### Casting to a Boolean"
   ]
  },
  {
   "cell_type": "markdown",
   "id": "0ef79a1d",
   "metadata": {},
   "source": [
    "We can cast ints, floats and strings to be Boolean (i.e True / False) values. The results of these operations are as follows:\n",
    "\n",
    "|Type | *True* | *False* |\n",
    "|-----| ------ | ------- |\n",
    "int | non-zero | zero (0) |\n",
    "float | non-zero | zero (0.0) |\n",
    "str | non-empty string | empty string ('') |"
   ]
  },
  {
   "cell_type": "markdown",
   "id": "b698dfec",
   "metadata": {},
   "source": [
    "**Comprehension Check** - Predict the output of the code below. Then run the code and compare the results to your prediction. If it doesn't match, ask your TA why."
   ]
  },
  {
   "cell_type": "code",
   "execution_count": 32,
   "id": "b7910c81",
   "metadata": {},
   "outputs": [
    {
     "name": "stdout",
     "output_type": "stream",
     "text": [
      "2\n"
     ]
    }
   ],
   "source": [
    "my_name = \"Martin\"\n",
    "my_age = 26.0\n",
    "my_age = int(my_age)\n",
    "\n",
    "print(bool(my_name) + bool(my_age))"
   ]
  },
  {
   "cell_type": "markdown",
   "id": "74889e0d",
   "metadata": {},
   "source": [
    "## Numerical Data Types"
   ]
  },
  {
   "cell_type": "markdown",
   "id": "03cafd85",
   "metadata": {},
   "source": [
    "### Integers"
   ]
  },
  {
   "cell_type": "markdown",
   "id": "35575019",
   "metadata": {},
   "source": [
    "### Floats"
   ]
  },
  {
   "cell_type": "markdown",
   "id": "d4e5b1ff",
   "metadata": {},
   "source": [
    "## Strings and Booleans"
   ]
  },
  {
   "cell_type": "markdown",
   "id": "8208864b",
   "metadata": {},
   "source": []
  }
 ],
 "metadata": {
  "kernelspec": {
   "display_name": "base",
   "language": "python",
   "name": "python3"
  },
  "language_info": {
   "codemirror_mode": {
    "name": "ipython",
    "version": 3
   },
   "file_extension": ".py",
   "mimetype": "text/x-python",
   "name": "python",
   "nbconvert_exporter": "python",
   "pygments_lexer": "ipython3",
   "version": "3.9.10"
  }
 },
 "nbformat": 4,
 "nbformat_minor": 5
}
