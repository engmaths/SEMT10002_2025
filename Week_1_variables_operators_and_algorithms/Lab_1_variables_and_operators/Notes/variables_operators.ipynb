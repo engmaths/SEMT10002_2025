{
 "cells": [
  {
   "cell_type": "markdown",
   "id": "1a1d1bbd",
   "metadata": {},
   "source": [
    "# Variables, Data Types and Operators"
   ]
  },
  {
   "cell_type": "markdown",
   "id": "d4b08aff",
   "metadata": {},
   "source": [
    "By the end of this week, you should:\n",
    "- Understand what the word *algorithm* means, both generally and in the context of computer programming\n",
    "- Begin developing a simple mental model of a how a computer executes algorithms\n",
    "- Know how to create and manipulate data (i.e objects) within the memory of a computer, including the importance of *data types*\n",
    "- Understand how numbers are represented within memory, particularly the difference between integer and floating point representations.\n"
   ]
  },
  {
   "cell_type": "markdown",
   "id": "d144b3a9",
   "metadata": {},
   "source": [
    "## Algorithms & Computer Programming"
   ]
  },
  {
   "cell_type": "markdown",
   "id": "ddef56a4",
   "metadata": {},
   "source": [
    "### Algorithms"
   ]
  },
  {
   "cell_type": "markdown",
   "id": "8b67e163",
   "metadata": {},
   "source": [
    "An *algorithm* is a set of instructions that can be followed to complete a task. For example, I might ask you to make me some jammie toast, by giving this set of instructions:\n",
    "\n",
    "1. Get some bread out of the bread basket.\n",
    "2. Put the bread into the toaster.\n",
    "3. Turn the toaster on by pressing the lever down.\n",
    "4. Wait until the toast pops up.\n",
    "5. Take the toast out of the toaster.\n",
    "6. Take the jam out of the fridge.\n",
    "7. Spread the jam on the toast using a kitchen knife.\n",
    "\n",
    "If you follow these instructions sequentially, then the result will be some delicious jammie toast. This is a relatively simple algorithm as we just follow the instructions one after the other- more complex algorithms may include *conditionals* or *loops*. We'll come onto those later in the course- the important thing to understand for now is that an algorithm is just a sequence of instructions that break a bigger job (*make toast*) into a sequence of smaller jobs. Our job when designing an algorithm will be to find the right set of smaller tasks. \n",
    "\n",
    "##### <span style=\"color:red\">Question</span>\n",
    "1. Write down (on paper) an algorithm for generating the squares of all odd numbers below 10"
   ]
  },
  {
   "cell_type": "markdown",
   "id": "4d139b6a",
   "metadata": {},
   "source": [
    "### Computer Programming"
   ]
  },
  {
   "cell_type": "markdown",
   "id": "ed423638",
   "metadata": {},
   "source": [
    "\n",
    "Now, typically, when we think of an algorithm, we are thinking of the kinds of algorithms that can be performed by a computer- what do we mean by a computer? In this course, we mean a digital electronic computer, composed of transistors, and similar to those that power our phones, tablets, televisions, and so on. Of course, all of these devices are slightly different, but we can think of them as really the same kind of thing, by adopting the view in the image below:\n",
    "\n",
    "![](../../../media/week_1/Cpu_diagram.png)\n",
    "\n",
    "Here, a computer consists of four things- input devices (i.e keyboards, mice, touchscreens), memory (for storing data), a central processing unit (CPU) for performing instructions, and an output device (typically a screen). A CPU is a digital electronic machine that can perform some simple operations. To *program* a computer to solve a task, we must design an algorithm which breaks that task down into a set of instructions that can be performed by the CPU. \n",
    "\n",
    "What sort of instructions can a CPU do? Well, broadly, four sorts of things:\n",
    "\n",
    "1. Store or read data from memory\n",
    "2. Perform arithmetic operations (2+2, 3x3)\n",
    "3. Perform logical operations (3>4)\n",
    "4. Read from an input device or write to an output device. \n",
    "\n",
    "Let's try to make this a bit more concrete by looking at the execution of a simple computer program. Below, I've listed a program for adding up the number from 1-4. You can run this program by clicking the \"play\" button next to it- once complete, you should see the output printed directly below."
   ]
  },
  {
   "cell_type": "code",
   "execution_count": 2,
   "id": "72ad9ec7",
   "metadata": {},
   "outputs": [
    {
     "name": "stdout",
     "output_type": "stream",
     "text": [
      "10\n"
     ]
    }
   ],
   "source": [
    "a = 1\n",
    "b = 2\n",
    "c = 3\n",
    "d = 4\n",
    "sum1 = a+b\n",
    "sum2 = c+d\n",
    "total = sum1 + sum2\n",
    "print(total)"
   ]
  },
  {
   "cell_type": "markdown",
   "id": "81548214",
   "metadata": {},
   "source": [
    "Let's think about what happens when we ask a CPU to execute this program. Before we run this program, the CPU will create a special variable in memory known as the *program counter*, and initalised to one.\n",
    "\n",
    "<img src=\"../../../media/week_1/alg_step_1.png\">\n",
    "\n",
    "The program counter tells the CPU which instruction to execute next. When we run the first instruction (a=1), the CPU will create a *variable* in memory called \"a\" with a value of 1. The CPU will also increment the program counter. \n",
    "\n",
    "<img src=\"../../../media/week_1/alg_step_2.png\">\n",
    "\n",
    "The program counter is now pointing at instruction two (b=2), so this will be performed next, creating another variable in memory called \"b\" and with a value of 2. Again, the program counter will be incremented.\n",
    "\n",
    "<img src=\"../../../media/week_1/alg_step_3.png\">\n",
    "\n",
    "This process will continue until all instructions have been executed and the program ends. At this point, our memory will look the image below:\n",
    "\n",
    "<img src=\"../../../media/week_1/alg_step_7.png\">\n",
    "\n",
    "At this point, the value of the variable total will be printed to the screen... and that's it! Of course, this is a very simple program- we'll soon be writing far more complicated programs, in which the sequence of operations is not sequential (because we some instructions can change the value of the program counter). But despite how complex our program gets, its helpful to remember that fundamentally all a CPU is doing is executing a sequence of instructions. "
   ]
  },
  {
   "cell_type": "markdown",
   "id": "9c4fce37",
   "metadata": {},
   "source": [
    "## Variables and operators"
   ]
  },
  {
   "cell_type": "markdown",
   "id": "1db262f9",
   "metadata": {},
   "source": [
    "### Objects, Memory, Variables"
   ]
  },
  {
   "cell_type": "markdown",
   "id": "402f3157",
   "metadata": {},
   "source": [
    "We can use a computer's memory to store data. We can think of memory as a set of boxes that can hold data. Each box has a 4 things associated with it:\n",
    "\n",
    "- A name (which we use in code to refer to that specific box).\n",
    "- A value (which is the actual data stored in the box).\n",
    "- An address (which is used internally by the computer to label boxes)\n",
    "- A data type (which stores whether the data is a number, text, or something else)\n",
    "\n",
    "Conventionally, in Python, we call each individual box a *variable*. We can create a variable with an assignment statement, as shown below:"
   ]
  },
  {
   "cell_type": "code",
   "execution_count": 22,
   "id": "4b76e5f2",
   "metadata": {},
   "outputs": [],
   "source": [
    "a = 1"
   ]
  },
  {
   "cell_type": "markdown",
   "id": "ffafe4d5",
   "metadata": {},
   "source": [
    "<img src=\"../../../media/week_1/Memory1.png\">\n",
    "\n",
    "We can make a second *variable* with another assign statement"
   ]
  },
  {
   "cell_type": "code",
   "execution_count": 4,
   "id": "1548f09e",
   "metadata": {},
   "outputs": [],
   "source": [
    "b = 2\n"
   ]
  },
  {
   "cell_type": "markdown",
   "id": "57e768d3",
   "metadata": {},
   "source": [
    "<img src=\"../../../media/week_1/Memory2.png\">\n",
    "\n",
    "We can then retrieve and use the data stored in these variables (a and b) later in the program. For example, we could print their sum by writing the code below:"
   ]
  },
  {
   "cell_type": "code",
   "execution_count": 6,
   "id": "9b436778",
   "metadata": {},
   "outputs": [
    {
     "name": "stdout",
     "output_type": "stream",
     "text": [
      "3\n"
     ]
    }
   ],
   "source": [
    "print(a+b)"
   ]
  },
  {
   "cell_type": "markdown",
   "id": "6f7e8240",
   "metadata": {},
   "source": [
    "We can also use an assignment statement to change or *re-assign* the value of a variable. For example, this code:"
   ]
  },
  {
   "cell_type": "code",
   "execution_count": 9,
   "id": "48634cbc",
   "metadata": {},
   "outputs": [
    {
     "name": "stdout",
     "output_type": "stream",
     "text": [
      "3\n"
     ]
    }
   ],
   "source": [
    "a = 3\n",
    "print(a)"
   ]
  },
  {
   "cell_type": "markdown",
   "id": "546f55df",
   "metadata": {},
   "source": [
    "will change the value of variable a from 1 to 3.\n",
    "\n",
    "<img src=\"../../../media/week_1/Memory3.png\">"
   ]
  },
  {
   "cell_type": "markdown",
   "id": "b1f5b7ba",
   "metadata": {},
   "source": [
    "We can also assign a variable by setting it equal to another variable, for instance, with the code:"
   ]
  },
  {
   "cell_type": "code",
   "execution_count": 13,
   "id": "5d337a68",
   "metadata": {},
   "outputs": [
    {
     "name": "stdout",
     "output_type": "stream",
     "text": [
      "2\n"
     ]
    }
   ],
   "source": [
    "a = b\n",
    "print(a)"
   ]
  },
  {
   "cell_type": "markdown",
   "id": "58b3caa9",
   "metadata": {},
   "source": [
    "##### <span style=\"color:red\">Question</span>\n",
    "1. Create a ..."
   ]
  },
  {
   "cell_type": "markdown",
   "id": "718ef7fe",
   "metadata": {},
   "source": [
    "### Data Types"
   ]
  },
  {
   "cell_type": "markdown",
   "id": "61893382",
   "metadata": {},
   "source": [
    "An object's data *type* determines what properties it has and how it behaves. Python has by default a number of in-built data types that we can use, such as:\n",
    "\n",
    "- integers (int) - used to store whole numbers (i.e 3, 88)\n",
    "- floating point numbers (floats) - used to store numbers with decimal points (e.g. 1.5, 99.9626)\n",
    "- characters (chars) - used to store a single letter (i.e \"s\", \"r\")\n",
    "- strings (str) - used to store a sequence of characters (e.g. \"hello\")\n",
    "- boolenas (bool) - either True or False\n",
    "\n",
    "When we create a variable in Python, it will automatically assign a data type to a variable based on its value. Generally, this will work well, but sometimes it can cause trouble. You can check the type of a variable by writing type(<name of variable>) in your code. For example, the code below will create a variable with name \"test_int\" and value 5. It will then print out the data type of the variable \"test_int\""
   ]
  },
  {
   "cell_type": "code",
   "execution_count": 20,
   "id": "0bddd5b0",
   "metadata": {},
   "outputs": [
    {
     "name": "stdout",
     "output_type": "stream",
     "text": [
      "5\n",
      "<class 'int'>\n"
     ]
    }
   ],
   "source": [
    "test_int = 5\n",
    "print(test_int)\n",
    "print(type(test_int))"
   ]
  },
  {
   "cell_type": "markdown",
   "id": "2a6791d9",
   "metadata": {},
   "source": [
    "Here, Python has automatically assigned it the type int. If we want to change the type of a variable, we can *cast* it by writing the name of the type we want it to be in brackets before the variable."
   ]
  },
  {
   "cell_type": "code",
   "execution_count": 21,
   "id": "f467aa1c",
   "metadata": {},
   "outputs": [
    {
     "name": "stdout",
     "output_type": "stream",
     "text": [
      "5.0\n",
      "<class 'float'>\n",
      "5\n",
      "<class 'str'>\n"
     ]
    }
   ],
   "source": [
    "test_int = float(5)\n",
    "print(test_int)\n",
    "print(type(test_int))\n",
    "\n",
    "test_int = str(5)\n",
    "print(test_int)\n",
    "print(type(test_int))\n"
   ]
  },
  {
   "cell_type": "markdown",
   "id": "b698dfec",
   "metadata": {},
   "source": [
    "##### <span style=\"color:red\">Question</span>\n",
    "1. Create a ..."
   ]
  },
  {
   "cell_type": "markdown",
   "id": "74889e0d",
   "metadata": {},
   "source": [
    "## Numerical Data Types"
   ]
  },
  {
   "cell_type": "markdown",
   "id": "03cafd85",
   "metadata": {},
   "source": [
    "### Integers"
   ]
  },
  {
   "cell_type": "markdown",
   "id": "35575019",
   "metadata": {},
   "source": [
    "### Floats"
   ]
  },
  {
   "cell_type": "markdown",
   "id": "d4e5b1ff",
   "metadata": {},
   "source": [
    "## Strings and Booleans"
   ]
  },
  {
   "cell_type": "markdown",
   "id": "8208864b",
   "metadata": {},
   "source": []
  }
 ],
 "metadata": {
  "kernelspec": {
   "display_name": "Python 3",
   "language": "python",
   "name": "python3"
  },
  "language_info": {
   "codemirror_mode": {
    "name": "ipython",
    "version": 3
   },
   "file_extension": ".py",
   "mimetype": "text/x-python",
   "name": "python",
   "nbconvert_exporter": "python",
   "pygments_lexer": "ipython3",
   "version": "3.9.13"
  }
 },
 "nbformat": 4,
 "nbformat_minor": 5
}
