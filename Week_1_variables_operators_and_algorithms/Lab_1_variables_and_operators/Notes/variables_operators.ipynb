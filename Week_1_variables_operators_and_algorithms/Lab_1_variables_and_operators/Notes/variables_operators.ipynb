{
 "cells": [
  {
   "cell_type": "markdown",
   "id": "1a1d1bbd",
   "metadata": {},
   "source": [
    "# Lab 1 - Objects, Variables, and Operators"
   ]
  },
  {
   "cell_type": "markdown",
   "id": "d4b08aff",
   "metadata": {},
   "source": [
    "By the end of this week, you should:\n",
    "- Understand what the word *algorithm* means, both generally and in the context of computer programming.\n",
    "- Begin developing a simple mental model of a how a computer executes algorithms.\n",
    "- Understand the meaning of the terms *object*, *variable*, *operator*, *statement* and *expression* within the context of Python programming.\n",
    "- Know how to create and manipulate data (i.e objects) within the memory of a computer, including the importance of *data types*\n",
    "- Understand how numbers are represented within memory, particularly the difference between integer and floating point representations.\n",
    "- Know how to combine variables and operators into statements and expressions.\n",
    "- Know how to run Python code in the terminal and via an IDE (i.e VS code).\n"
   ]
  },
  {
   "cell_type": "markdown",
   "id": "d144b3a9",
   "metadata": {},
   "source": [
    "## Algorithms & Computer Programming"
   ]
  },
  {
   "cell_type": "markdown",
   "id": "ddef56a4",
   "metadata": {},
   "source": [
    "### Algorithms"
   ]
  },
  {
   "cell_type": "markdown",
   "id": "8b67e163",
   "metadata": {},
   "source": [
    "An *algorithm* is a set of instructions that can be followed to complete a task. For example, I might ask you to make me some jammie toast, by giving this set of instructions:\n",
    "\n",
    "1. Get some bread out of the bread basket.\n",
    "2. Put the bread into the toaster.\n",
    "3. Turn the toaster on by pressing the lever down.\n",
    "4. Wait until the toast pops up.\n",
    "5. Take the toast out of the toaster.\n",
    "6. Take the jam out of the fridge.\n",
    "7. Spread the jam on the toast using a kitchen knife.\n",
    "\n",
    "If you follow these instructions sequentially, then the result will be some delicious jammie toast. This is a relatively simple algorithm as we just follow the instructions one after the other- more complex algorithms may include *conditionals* or *loops*.  Our job when designing an algorithm will be to find the right set of smaller tasks. We'll take a deeper look at algorithms in this week's seminar- the important thing to understand for now is that an algorithm is just a sequence of instructions that break a bigger job (*make toast*) into a sequence of smaller jobs. "
   ]
  },
  {
   "cell_type": "markdown",
   "id": "4d139b6a",
   "metadata": {},
   "source": [
    "### Computer Programming"
   ]
  },
  {
   "cell_type": "markdown",
   "id": "ed423638",
   "metadata": {},
   "source": [
    "\n",
    "Now, typically, when we think of an algorithm, we are thinking of the kinds of algorithms that can be performed by a computer- what do we mean by a computer? In this course, we mean a digital electronic computer, composed of transistors, and similar to those that power our phones, tablets, televisions, and so on. Of course, all of these devices are slightly different, but we can think of them as really the same kind of thing, by adopting the view in the image below:\n",
    "\n",
    "![](../../../media/week_1/Cpu_diagram.png)\n",
    "\n",
    "Here, a computer consists of four things- input devices (i.e keyboards, mice, touchscreens), memory (for storing data), a central processing unit (CPU) for performing instructions, and an output device (typically a screen). A CPU is a digital electronic machine that can perform some simple operations. To *program* a computer to solve a task, we must design an algorithm which breaks that task down into a set of instructions that can be performed by the CPU. \n",
    "\n",
    "What sort of instructions can a CPU do? Well, broadly, four sorts of things:\n",
    "\n",
    "1. Store or read data from memory\n",
    "2. Perform arithmetic operations (2+2, 3x3)\n",
    "3. Perform logical operations (3>4)\n",
    "4. Read from an input device or write to an output device. \n",
    "\n",
    "We'll take a closer look at the first three of these today. Input and output will be covered in week 8. This week's seminar, we'll also return to the picture we're developing here to start building a mental model of what happens when we *execute* a computer program."
   ]
  },
  {
   "cell_type": "markdown",
   "id": "9c4fce37",
   "metadata": {},
   "source": [
    "## Computer Memory"
   ]
  },
  {
   "cell_type": "markdown",
   "id": "1db262f9",
   "metadata": {},
   "source": [
    "### Objects and Variables"
   ]
  },
  {
   "cell_type": "markdown",
   "id": "402f3157",
   "metadata": {},
   "source": [
    "We can use a computer's memory to store data. Any item of data (e.g. some numbers, text, an image, etc) stored in computer memory is known as an *object*. We can think of computer memory as a set of boxes that we can use to hold data. Each box has 3 things associated with it:\n",
    "\n",
    "- A name (which we use in code to refer to a specific box).\n",
    "- A value (which is the actual data stored in the box).\n",
    "- A data type (which stores whether the data is a number, text or something else).\n",
    "\n",
    "Conventionally, in Python, we call each individual box a *variable*, and usually refer to each variables by its *name*. For example,  we can create a variable by choosing a (previously unused) name and assigning it a value with the equals (=) symbol. For example, below we make a new variable (a), with a value of 1."
   ]
  },
  {
   "cell_type": "code",
   "execution_count": null,
   "id": "4b76e5f2",
   "metadata": {},
   "outputs": [],
   "source": [
    "a = 1\n",
    "print(a)"
   ]
  },
  {
   "cell_type": "markdown",
   "id": "ffafe4d5",
   "metadata": {},
   "source": [
    "<img src=\"../../../media/week_1/Memory1.png\">\n",
    "\n",
    "We can make a second *variable* in much the same way."
   ]
  },
  {
   "cell_type": "code",
   "execution_count": null,
   "id": "1548f09e",
   "metadata": {},
   "outputs": [],
   "source": [
    "b = 2\n",
    "print(b)\n"
   ]
  },
  {
   "cell_type": "markdown",
   "id": "57e768d3",
   "metadata": {},
   "source": [
    "<img src=\"../../../media/week_1/Memory2.png\">\n",
    "\n",
    "We can then retrieve and use the data stored in these variables (a and b) later in the program. For example, we could print their sum by writing the code below:"
   ]
  },
  {
   "cell_type": "code",
   "execution_count": null,
   "id": "9b436778",
   "metadata": {},
   "outputs": [],
   "source": [
    "print(a+b)"
   ]
  },
  {
   "cell_type": "markdown",
   "id": "6f7e8240",
   "metadata": {},
   "source": [
    "We can also  change or *re-assign* the value of a variable. For example, this code:"
   ]
  },
  {
   "cell_type": "code",
   "execution_count": null,
   "id": "48634cbc",
   "metadata": {},
   "outputs": [],
   "source": [
    "a = 1\n",
    "print(a)\n",
    "a = \"Banana\"\n",
    "print(a)"
   ]
  },
  {
   "cell_type": "markdown",
   "id": "546f55df",
   "metadata": {},
   "source": [
    "will change the value of variable a from 1 to \"Banana\". Note that we've had to put the text in quotation marks (\"\") so that Python knows this is text data.\n",
    "\n",
    "<img src=\"../../../media/week_1/Memory3.png\">"
   ]
  },
  {
   "cell_type": "markdown",
   "id": "b1f5b7ba",
   "metadata": {},
   "source": [
    "We can also assign a variable by setting it equal to another variable, for instance, with the code:"
   ]
  },
  {
   "cell_type": "code",
   "execution_count": null,
   "id": "5d337a68",
   "metadata": {},
   "outputs": [],
   "source": [
    "a = b\n",
    "print(a)"
   ]
  },
  {
   "cell_type": "markdown",
   "id": "58b3caa9",
   "metadata": {},
   "source": [
    "**Comprehension Check** - Use the box below to make a variable \"name\" and assign it a value equal to your name. Remember we need to use quotations marks for text data!"
   ]
  },
  {
   "cell_type": "code",
   "execution_count": null,
   "id": "1adb245a",
   "metadata": {},
   "outputs": [],
   "source": [
    "# Put your code here."
   ]
  },
  {
   "cell_type": "markdown",
   "id": "718ef7fe",
   "metadata": {},
   "source": [
    "### Data Types"
   ]
  },
  {
   "cell_type": "markdown",
   "id": "61893382",
   "metadata": {},
   "source": [
    "An object's data *type* determines what properties it has and how it behaves. Python has by default a number of in-built data types that we can use, such as:\n",
    "\n",
    "- integers (int) - used to store whole numbers (i.e 3, 88).\n",
    "- floating point numbers (floats) - used to store numbers with decimal points (e.g. 1.5, 99.9626).\n",
    "- strings (str) - used to store a sequence of characters (e.g. \"hello\").\n",
    "- booleans (bool) - either True or False.\n",
    "\n",
    "When we create a variable in Python, it will automatically assign a data type to a variable based on its value. Generally, this will work well, but sometimes it can cause trouble. You can check the type of a variable by writing type(<name of variable>) in your code. For example, the code below will create a variable with name \"test_int\" and value 5. It will then print out the data type of the variable \"test_int\""
   ]
  },
  {
   "cell_type": "code",
   "execution_count": null,
   "id": "990e23b7",
   "metadata": {},
   "outputs": [],
   "source": [
    "var1 = \"a\"\n",
    "print(\"Var1 has value: %s and is of type: %s\" % (var1, type(var1)))\n",
    "\n",
    "var2 = 3\n",
    "print(\"Var2 has value: %s and is of type: %s\" % (var2, type(var2)))\n",
    "\n",
    "var3 = 3.5\n",
    "print(\"Var3 has value: %s and is of type: %s\" % (var3, type(var3)))\n",
    "\n",
    "var4 = True\n",
    "print(\"Var4 has value: %s and is of type: %s\" % (var4, type(var4))) "
   ]
  },
  {
   "cell_type": "markdown",
   "id": "81fb6b4f",
   "metadata": {},
   "source": [
    "Generally, this will work well, but sometimes it can cause trouble- using a variable you think is a float but is actually an integer is a common source of errors.\n",
    "\n",
    " You can check the type of a variable by writing type(<name of variable>) in your code. For example, the code below will create a variable with name \"test_int\" and value 5. It will then print out the data type of the variable \"test_int\""
   ]
  },
  {
   "cell_type": "code",
   "execution_count": null,
   "id": "0bddd5b0",
   "metadata": {},
   "outputs": [],
   "source": [
    "test_int = 5\n",
    "print(test_int)\n",
    "print(type(test_int))"
   ]
  },
  {
   "cell_type": "markdown",
   "id": "2a6791d9",
   "metadata": {},
   "source": [
    "If we want to change the type of a variable, we can *cast* it by using code like that shown below."
   ]
  },
  {
   "cell_type": "code",
   "execution_count": null,
   "id": "f467aa1c",
   "metadata": {},
   "outputs": [],
   "source": [
    "test_int = float(5)\n",
    "print(test_int)\n",
    "print(type(test_int))\n",
    "\n",
    "test_int = str(5)\n",
    "print(test_int)\n",
    "print(type(test_int))\n"
   ]
  },
  {
   "cell_type": "markdown",
   "id": "96a98737",
   "metadata": {},
   "source": [
    "#### Casting to a Boolean"
   ]
  },
  {
   "cell_type": "markdown",
   "id": "0ef79a1d",
   "metadata": {},
   "source": [
    "We can cast ints, floats and strings to be Boolean (i.e True / False) values. The results of these operations are as follows:\n",
    "\n",
    "|Type | *True* | *False* |\n",
    "|-----| ------ | ------- |\n",
    "int | non-zero | zero (0) |\n",
    "float | non-zero | zero (0.0) |\n",
    "str | non-empty string | empty string ('') |"
   ]
  },
  {
   "cell_type": "markdown",
   "id": "b698dfec",
   "metadata": {},
   "source": [
    "**Comprehension Check** - Predict the output of the code below. Then run the code and compare the results to your prediction. If it doesn't match, ask your TA why."
   ]
  },
  {
   "cell_type": "code",
   "execution_count": null,
   "id": "b7910c81",
   "metadata": {},
   "outputs": [],
   "source": [
    "my_name = \"Martin\"\n",
    "my_age = 26.0\n",
    "my_age = int(my_age)\n",
    "\n",
    "print(bool(my_name) + bool(my_age))"
   ]
  },
  {
   "cell_type": "markdown",
   "id": "31d93d97",
   "metadata": {},
   "source": [
    "## Operators"
   ]
  },
  {
   "cell_type": "markdown",
   "id": "e2de7def",
   "metadata": {},
   "source": [
    "Previously, we saw that a computer can do four fundamantal things:\n",
    "\n",
    "1. Store or read data from memory\n",
    "2. Perform arithmetic operations (2+2, 3x3)\n",
    "3. Perform logical operations (3>4)\n",
    "4. Read from an input device or write to an output device. \n",
    "\n",
    "We've just looked at the first of these- let's now look numbers two and three."
   ]
  },
  {
   "cell_type": "markdown",
   "id": "0a3e3f46",
   "metadata": {},
   "source": [
    "We can use operators to perform calculations or comparisons on values or variables. For example, "
   ]
  },
  {
   "cell_type": "code",
   "execution_count": null,
   "id": "7738519c",
   "metadata": {},
   "outputs": [],
   "source": [
    "sum = 2 + 2\n",
    "print(sum)"
   ]
  },
  {
   "cell_type": "markdown",
   "id": "14e7ba85",
   "metadata": {},
   "source": [
    "Here, we've used the addition operator to add two values together and store the result in a new variable called \"sum\". If we wanted to, we could have instead stored the value in an intermediate variable and then added that to itself. e.g. "
   ]
  },
  {
   "cell_type": "code",
   "execution_count": null,
   "id": "5091d87c",
   "metadata": {},
   "outputs": [],
   "source": [
    "value_to_add = 2\n",
    "sum = value_to_add + value_to_add\n",
    "print(sum)"
   ]
  },
  {
   "cell_type": "markdown",
   "id": "8b54827e",
   "metadata": {},
   "source": [
    "### Arithmetic Operators"
   ]
  },
  {
   "cell_type": "markdown",
   "id": "e6161080",
   "metadata": {},
   "source": [
    "Python includes all the standard arithmetic operations that you would expect- addition (+), subtraction (-), multiplication (*), division (/), but also a few that are less intuitive such as as raising to a power (**), integer division (//) and modulus (%)."
   ]
  },
  {
   "cell_type": "code",
   "execution_count": null,
   "id": "d95950e4",
   "metadata": {},
   "outputs": [],
   "source": [
    "value1 = 3\n",
    "value2 = 4\n",
    "\n",
    "print(\"Addition: %d \" % (value1+value2))\n",
    "print(\"Subtraction: %d\" % (value1-value2))\n",
    "print(\"Multiplicattion: %d\" % (value1*value2))\n",
    "print(\"Division: %f\" % (value1/value2))\n",
    "print(\"Exponentiation: %d\" % (value1**value2))\n",
    "print(\"Floor Division: %d\" % (value1//value2))\n",
    "print(\"Modulus: %d\" % (value1%value2))"
   ]
  },
  {
   "cell_type": "markdown",
   "id": "7436d462",
   "metadata": {},
   "source": [
    "**Comprehension Check** - Use the box below to write some code to calculate the area of a circle with a radius of 3."
   ]
  },
  {
   "cell_type": "code",
   "execution_count": null,
   "id": "91d7a466",
   "metadata": {},
   "outputs": [],
   "source": [
    "# Your code goes here."
   ]
  },
  {
   "cell_type": "markdown",
   "id": "e92a6b60",
   "metadata": {},
   "source": [
    "### Comparison Operators"
   ]
  },
  {
   "cell_type": "markdown",
   "id": "42912a75",
   "metadata": {},
   "source": [
    "Python also let's us evaluate logical relationships betweem two values or variables. For example, the expression ```python a < b``` will return True if a is strictly less than b, and False otherwise. Here are some examples:"
   ]
  },
  {
   "cell_type": "code",
   "execution_count": null,
   "id": "1ebe04da",
   "metadata": {},
   "outputs": [],
   "source": [
    "print (2 < 3)"
   ]
  },
  {
   "cell_type": "code",
   "execution_count": null,
   "id": "1d6556d7",
   "metadata": {},
   "outputs": [],
   "source": [
    "print (3 < 2)"
   ]
  },
  {
   "cell_type": "markdown",
   "id": "32460fe8",
   "metadata": {},
   "source": [
    "We don't really need a computer to do this for us. More usefully, we can compare expressions made by combining operations and variables together. For example, let's see if $p^2 < 3q$."
   ]
  },
  {
   "cell_type": "code",
   "execution_count": null,
   "id": "0d991e26",
   "metadata": {},
   "outputs": [],
   "source": [
    "p = 1.8 \n",
    "q = 2.1 \n",
    "\n",
    "print (p**2 < 3*q)"
   ]
  },
  {
   "cell_type": "markdown",
   "id": "669eec42",
   "metadata": {},
   "source": [
    "Here's a table with some common Python operators.\n",
    "\n",
    "| Operator | Meaning | Example | Example result |\n",
    "| --- | --- | --- | --- |\n",
    "| < | Strictly less than | `a<b` | True if `a` less than `b` |\n",
    "| > | Strictly greater than | `a>b` | True if `a` greater than `b` |\n",
    "| <= | Less than or equal to | `a<=b` | True if `a` less than or equal to `b` |\n",
    "| >= | Strictly less than | `a>=b` | True if `a` greater than or equal to `b` |\n",
    "| == | Equals | `a==b` | True if `a` equal to `b` |\n",
    "| != | Not equal | `a!=b` | True if `a` not equal to `b` |"
   ]
  },
  {
   "cell_type": "markdown",
   "id": "524a8cfc",
   "metadata": {},
   "source": [
    "**Comprehension Check** - Predict the output of the code samples below. Then run the cell and see if your expectation matches."
   ]
  },
  {
   "cell_type": "code",
   "execution_count": null,
   "id": "02f1ec9d",
   "metadata": {},
   "outputs": [],
   "source": [
    "print (3 < 3)\n",
    "print (3 <= 3)\n",
    "print (3 == 3)\n",
    "print (4 != 3)\n",
    "print (\"Banana\" == \"Banana\")\n",
    "print (\"Banana\" == \"banana\")"
   ]
  },
  {
   "cell_type": "markdown",
   "id": "34f1f6e4",
   "metadata": {},
   "source": [
    "### Logical Operators"
   ]
  },
  {
   "cell_type": "markdown",
   "id": "0dcad2c2",
   "metadata": {},
   "source": [
    "Python has three logical operators that we can use.\n",
    "\n",
    "+ *not* will invert a boolean value (i.e make True into False and False into True)\n",
    "+ *and* will let us join two comparisons together, returning True only if both are true.\n",
    "+ *or* will let us join two comparisons together, returning True if either one is True."
   ]
  },
  {
   "cell_type": "code",
   "execution_count": null,
   "id": "3f3521d8",
   "metadata": {},
   "outputs": [],
   "source": [
    "a = 1\n",
    "b = 2\n",
    "c = 3\n",
    "\n",
    "print (a > b and b < c)\n",
    "print (a > b or b < c)\n",
    "print (a > b and not (b == c))"
   ]
  },
  {
   "cell_type": "markdown",
   "id": "2c377493",
   "metadata": {},
   "source": [
    "### Operator Precedence"
   ]
  },
  {
   "cell_type": "markdown",
   "id": "431b409f",
   "metadata": {},
   "source": [
    "We can combine multiple operations into a single line in Python. However, the CPU must still execute each of these instructions one by one. Python will automatically determine which operation is done first according to the rules of operator precedence. This is very similar to the BODMAS precedence rules you've already seen for working with mathematical operations. In Python, the order is:\n",
    "\n",
    "| Type | Operator(s) |\n",
    "| ---- | ----------  |\n",
    "| Exponent | ** |\n",
    "| Multiplication | *, /, //, % |\n",
    "| Addition | +,- |\n",
    "| Relational | ==, !=, <=, >=, >, < |\n",
    "| logical | not |\n",
    "| logical | and | \n",
    "| logical | or |\n",
    "\n",
    "When multiple operators have the same precendence (e.g. if we had ```x = 2 + 3 + 4```), the operations are done from left to right (e.g. 2+3 first, then 5+4).\n",
    "\n",
    "For example, in the code below, "
   ]
  },
  {
   "cell_type": "code",
   "execution_count": null,
   "id": "8a468978",
   "metadata": {},
   "outputs": [],
   "source": [
    "a = 4\n",
    "b = 7\n",
    "c = 10\n",
    "\n",
    "result = a**2 + b/c\n",
    "print(result)"
   ]
  },
  {
   "cell_type": "markdown",
   "id": "60524746",
   "metadata": {},
   "source": [
    "Python will first square the value of a, then calculate the result of b divided by c, and then add the results together. As with maths, we can use brackets to force Python to execute these operations in a different order."
   ]
  },
  {
   "cell_type": "code",
   "execution_count": null,
   "id": "ef530e00",
   "metadata": {},
   "outputs": [],
   "source": [
    "a = 4\n",
    "b = 7\n",
    "c = 10\n",
    "\n",
    "result = (a**2 + b)/c\n",
    "print(result)"
   ]
  },
  {
   "cell_type": "markdown",
   "id": "74889e0d",
   "metadata": {},
   "source": [
    "## Numerical Data Types"
   ]
  },
  {
   "cell_type": "markdown",
   "id": "768897d9",
   "metadata": {},
   "source": [
    "As we've seen, there are two main ways that Python can represent numbers- these are *Integers*, for representing whole numbers and *Floats* for representing numbers with a decimal point. As so much of what we'll do in future years depends on using these numerical types, it's important we understand the difference between these two representations."
   ]
  },
  {
   "cell_type": "markdown",
   "id": "03cafd85",
   "metadata": {},
   "source": [
    "### Integers"
   ]
  },
  {
   "cell_type": "markdown",
   "id": "4b6b75d4",
   "metadata": {},
   "source": [
    "Talk about Binary representation here. Comprehension check to convert from decimal to binary. "
   ]
  },
  {
   "cell_type": "markdown",
   "id": "35575019",
   "metadata": {},
   "source": [
    "### Floats"
   ]
  },
  {
   "cell_type": "markdown",
   "id": "69366c66",
   "metadata": {},
   "source": [
    "Talk about floating point representation here."
   ]
  },
  {
   "cell_type": "markdown",
   "id": "48a39bd9",
   "metadata": {},
   "source": [
    "#### Floating Point Error"
   ]
  },
  {
   "cell_type": "markdown",
   "id": "871454a5",
   "metadata": {},
   "source": [
    "Details."
   ]
  },
  {
   "cell_type": "markdown",
   "id": "86387289",
   "metadata": {},
   "source": [
    "#### Floating Point Comparisons"
   ]
  },
  {
   "cell_type": "markdown",
   "id": "ce6ff165",
   "metadata": {},
   "source": [
    "Sometimes, when using floating point numbers, things don't go exactly as expected. For example, see what happens when we run the code below."
   ]
  },
  {
   "cell_type": "code",
   "execution_count": null,
   "id": "49e7a29c",
   "metadata": {},
   "outputs": [],
   "source": [
    "e = 5/9\n",
    "f = (1/3)*5*(1/3)\n",
    "print('e is', e)\n",
    "print('f is', f)\n",
    "if e == f:\n",
    "    print('e equals f')\n",
    "if e != f:\n",
    "    print('e not equal to f')"
   ]
  },
  {
   "cell_type": "markdown",
   "id": "dd27d033",
   "metadata": {},
   "source": [
    "Here, although e and f *should* be identical, the details of the floating point storage has led to them being *very* slightly different (even though they shouldn't be!), leading to a comparison that produces a result we don't expect. Note that nothing has gone wrong here- Python has processed the 'instructions' exactly as it's supposed to- the result is just not what we expect. Better practice in Python when comparing two floating point values is to instead check that they are within some tolerance of each other."
   ]
  },
  {
   "cell_type": "markdown",
   "id": "d4e5b1ff",
   "metadata": {},
   "source": [
    "## Strings and Booleans"
   ]
  },
  {
   "cell_type": "markdown",
   "id": "8208864b",
   "metadata": {},
   "source": []
  }
 ],
 "metadata": {
  "kernelspec": {
   "display_name": "base",
   "language": "python",
   "name": "python3"
  },
  "language_info": {
   "codemirror_mode": {
    "name": "ipython",
    "version": 3
   },
   "file_extension": ".py",
   "mimetype": "text/x-python",
   "name": "python",
   "nbconvert_exporter": "python",
   "pygments_lexer": "ipython3",
   "version": "3.9.10"
  }
 },
 "nbformat": 4,
 "nbformat_minor": 5
}
