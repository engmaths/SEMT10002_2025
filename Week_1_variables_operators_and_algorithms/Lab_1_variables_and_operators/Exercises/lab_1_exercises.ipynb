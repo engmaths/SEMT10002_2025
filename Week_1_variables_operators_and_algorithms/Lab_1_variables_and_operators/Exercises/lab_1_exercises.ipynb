{
 "cells": [
  {
   "cell_type": "markdown",
   "id": "9389380f",
   "metadata": {},
   "source": [
    "# Week 1 Exercises"
   ]
  },
  {
   "cell_type": "markdown",
   "id": "5026e70c",
   "metadata": {},
   "source": [
    "## Exercise 1 - Storing information about a robot"
   ]
  },
  {
   "cell_type": "markdown",
   "id": "c33dd4d9",
   "metadata": {},
   "source": [
    "Over the duration of this course, we're going to build a piece of code that can simulate the behaviour of two-wheeled mobile robot. To do this, we'll start by storing some information about our robot. In particular, i'd like to store: \n",
    "\n",
    "+ The robot's name (your choice).\n",
    "+ The robot's size (let's assume a circle of radius 10 mm).\n",
    "+ The distance between two robot's wheels (16 mm).\n",
    "+ The robot's current position and orientation (x= 0 mm, y= 0 mm, angle= 0 mm).\n",
    "+ The circumference of the robot's wheels (10 mm).\n",
    "\n",
    "Create some variables to store this data in a Python script. \n",
    "\n",
    "If the robot turns both wheels for one entire revolution, it will move forward in a straight line, travelling a distance equal to the wheel circumference. Write some code to calculate the new position (i.e x and y) of our robot after it has moved."
   ]
  },
  {
   "cell_type": "markdown",
   "id": "eb27ba13",
   "metadata": {},
   "source": [
    "## Exercise 2 - Something using strings.\n",
    "\n"
   ]
  },
  {
   "cell_type": "markdown",
   "id": "a524c244",
   "metadata": {},
   "source": [
    "## Exercise 3 - Floating Point Comparisons\n",
    "\n",
    "We saw the following code in this week's notes, observing that it produces the incorrect output. As a reminder, this is due to the limited precision by which floating point numbers are stored, meaning that in general, we should avoid using the ```==``` operator with floats. \n",
    "\n",
    "We also said that a better way to compare if two floats are equal to is to see whether the difference between in them is small (\"small\", will be context dependent, but let's assume less than $10^-5$ for today). Re-write the code below to do the comparison correctly."
   ]
  },
  {
   "cell_type": "code",
   "execution_count": null,
   "id": "4322da7f",
   "metadata": {},
   "outputs": [],
   "source": [
    "e = 5/9\n",
    "f = (1/3)*5*(1/3)\n",
    "print('e is', e)\n",
    "print('f is', f)\n",
    "if e == f:\n",
    "    print('e equals f')\n",
    "if e != f:\n",
    "    print('e not equal to f')"
   ]
  },
  {
   "cell_type": "markdown",
   "id": "25742ce7",
   "metadata": {},
   "source": [
    "## Exercise 4 - Collision Detection\n",
    "\n",
    "Without using the square root function, complete the code below to test whether the point (x,y) is with radius R of point (u,v)."
   ]
  },
  {
   "cell_type": "code",
   "execution_count": null,
   "id": "376cef8e",
   "metadata": {},
   "outputs": [],
   "source": [
    "x = '???'\n",
    "y = '???'\n",
    "u = '???'\n",
    "v = '???'\n",
    "R = '???'"
   ]
  },
  {
   "cell_type": "markdown",
   "id": "7144aa16",
   "metadata": {},
   "source": [
    "## Exercise 5 - ????\n",
    "\n",
    "Potentially just do 4 as we have quite a lot of notes.."
   ]
  }
 ],
 "metadata": {
  "kernelspec": {
   "display_name": "base",
   "language": "python",
   "name": "python3"
  },
  "language_info": {
   "codemirror_mode": {
    "name": "ipython",
    "version": 3
   },
   "file_extension": ".py",
   "mimetype": "text/x-python",
   "name": "python",
   "nbconvert_exporter": "python",
   "pygments_lexer": "ipython3",
   "version": "3.9.10"
  }
 },
 "nbformat": 4,
 "nbformat_minor": 5
}
