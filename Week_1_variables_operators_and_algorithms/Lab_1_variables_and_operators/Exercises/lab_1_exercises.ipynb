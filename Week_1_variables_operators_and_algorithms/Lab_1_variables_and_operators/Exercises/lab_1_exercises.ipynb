{
 "cells": [
  {
   "cell_type": "markdown",
   "id": "9389380f",
   "metadata": {},
   "source": [
    "# Week 1 Exercises"
   ]
  },
  {
   "cell_type": "markdown",
   "id": "1944eaf2",
   "metadata": {},
   "source": [
    "## Comprehension Checks"
   ]
  },
  {
   "cell_type": "markdown",
   "id": "c478546f",
   "metadata": {},
   "source": [
    "Before starting today's exercises, please spend 10 minutes to run through these comprehension checks with a partner. Each check contains a few line of Python code that you can run to get some output. Before running each piece of code, discuss with your partner what you think the output will be and why. Then run the code- is it what you expected? If not, why? Discuss with your partner, and TA if you are unsure."
   ]
  },
  {
   "cell_type": "code",
   "execution_count": null,
   "id": "ee54c838",
   "metadata": {},
   "outputs": [],
   "source": [
    "a = 3\n",
    "b = 2\n",
    "c = 1\n",
    "print (c, b, a)"
   ]
  },
  {
   "cell_type": "code",
   "execution_count": null,
   "id": "5ecfed47",
   "metadata": {},
   "outputs": [],
   "source": [
    "a = 3\n",
    "b = 2\n",
    "c = 1\n",
    "print(a + b + c)  "
   ]
  },
  {
   "cell_type": "code",
   "execution_count": null,
   "id": "3ec67d06",
   "metadata": {},
   "outputs": [],
   "source": [
    "a = 3\n",
    "b = 2\n",
    "c = 1\n",
    "a = c\n",
    "print(a + b + c)  "
   ]
  },
  {
   "cell_type": "code",
   "execution_count": null,
   "id": "3ca72348",
   "metadata": {},
   "outputs": [],
   "source": [
    "a = 3\n",
    "b = 2\n",
    "c = 1\n",
    "a = \"c\"\n",
    "print(a + b + c)  "
   ]
  },
  {
   "cell_type": "code",
   "execution_count": null,
   "id": "dbd0c18c",
   "metadata": {},
   "outputs": [],
   "source": [
    "a = 3\n",
    "b = 2\n",
    "c = 1\n",
    "a = \"c\"\n",
    "print(a, b, c)  "
   ]
  },
  {
   "cell_type": "code",
   "execution_count": null,
   "id": "f9054243",
   "metadata": {},
   "outputs": [],
   "source": [
    "my_number = 5.0 \n",
    "print(type(my_number))"
   ]
  },
  {
   "cell_type": "code",
   "execution_count": null,
   "id": "2f50c810",
   "metadata": {},
   "outputs": [],
   "source": [
    "my_number = 5 \n",
    "print(type(my_number))"
   ]
  },
  {
   "cell_type": "code",
   "execution_count": null,
   "id": "4995d37d",
   "metadata": {},
   "outputs": [],
   "source": [
    "my_number = \"5.0\" \n",
    "print(type(my_number))"
   ]
  },
  {
   "cell_type": "code",
   "execution_count": null,
   "id": "8551ded5",
   "metadata": {},
   "outputs": [],
   "source": [
    "my_number = float(\"5.0\") \n",
    "print(type(my_number))"
   ]
  },
  {
   "cell_type": "code",
   "execution_count": null,
   "id": "6723910f",
   "metadata": {},
   "outputs": [],
   "source": [
    "my_number = int(\"5.0\") \n",
    "print(type(my_number))"
   ]
  },
  {
   "cell_type": "code",
   "execution_count": null,
   "id": "b7b67b76",
   "metadata": {},
   "outputs": [],
   "source": [
    "my_number = int(float(\"5.0\"))\n",
    "print(type(my_number))"
   ]
  },
  {
   "cell_type": "code",
   "execution_count": null,
   "id": "7142a9ea",
   "metadata": {},
   "outputs": [],
   "source": [
    "my_test = bool(0) * bool(\"Hello\")\n",
    "print(my_test)"
   ]
  },
  {
   "cell_type": "code",
   "execution_count": null,
   "id": "a1d764a5",
   "metadata": {},
   "outputs": [],
   "source": [
    "my_test = bool(0) + bool(\"Hello\") \n",
    "print(my_test)"
   ]
  },
  {
   "cell_type": "code",
   "execution_count": null,
   "id": "bb6ac653",
   "metadata": {},
   "outputs": [],
   "source": [
    "my_test = bool(0) + bool(\"Hello\") + bool (\"false\")\n",
    "print(my_test)"
   ]
  },
  {
   "cell_type": "code",
   "execution_count": null,
   "id": "8056ac7b",
   "metadata": {},
   "outputs": [],
   "source": [
    "my_test = bool(0) + bool(\"Hello\") + bool (\"False\")\n",
    "print(my_test)"
   ]
  },
  {
   "cell_type": "code",
   "execution_count": null,
   "id": "713fa2f9",
   "metadata": {},
   "outputs": [],
   "source": [
    "my_sum = 2 + 3 + 4\n",
    "print(my_sum)"
   ]
  },
  {
   "cell_type": "code",
   "execution_count": null,
   "id": "2981a4da",
   "metadata": {},
   "outputs": [],
   "source": [
    "my_sum = (2 + 3) / 4\n",
    "print(my_sum)"
   ]
  },
  {
   "cell_type": "code",
   "execution_count": null,
   "id": "23c36c2e",
   "metadata": {},
   "outputs": [],
   "source": [
    "my_sum = (2 + 3) // 4\n",
    "print(my_sum)"
   ]
  },
  {
   "cell_type": "code",
   "execution_count": null,
   "id": "36bd9de9",
   "metadata": {},
   "outputs": [],
   "source": [
    "my_sum = 2 + 3 / 4**2 \n",
    "print(my_sum)"
   ]
  },
  {
   "cell_type": "code",
   "execution_count": null,
   "id": "6e54397e",
   "metadata": {},
   "outputs": [],
   "source": [
    "my_sum = (2 + 3 / 4**2)**3\n",
    "print(my_sum)"
   ]
  },
  {
   "cell_type": "code",
   "execution_count": null,
   "id": "b978e2b7",
   "metadata": {},
   "outputs": [],
   "source": [
    "a = 3\n",
    "b = 4\n",
    "print(a>b)"
   ]
  },
  {
   "cell_type": "code",
   "execution_count": null,
   "id": "35511b0c",
   "metadata": {},
   "outputs": [],
   "source": [
    "a = \"3\" \n",
    "b = 4 \n",
    "print (a > b)"
   ]
  },
  {
   "cell_type": "code",
   "execution_count": null,
   "id": "f0b5cff3",
   "metadata": {},
   "outputs": [],
   "source": [
    "print ((3 < 4) + 3)**2 == 2**4)"
   ]
  },
  {
   "cell_type": "code",
   "execution_count": null,
   "id": "354473f1",
   "metadata": {},
   "outputs": [],
   "source": [
    "print (((3 < 4) + 3)**2 == 2**4)"
   ]
  },
  {
   "cell_type": "code",
   "execution_count": null,
   "id": "8de960e2",
   "metadata": {},
   "outputs": [],
   "source": [
    "print (((3 < 4 + 3))**2 == 2**4)"
   ]
  },
  {
   "cell_type": "code",
   "execution_count": null,
   "id": "db74fc49",
   "metadata": {},
   "outputs": [],
   "source": [
    "print (((3 < 4) + 3)**2 == 2**4 and 1+3+5**2 < (1+3+5)**2)"
   ]
  },
  {
   "cell_type": "code",
   "execution_count": null,
   "id": "0c1bd1fa",
   "metadata": {},
   "outputs": [],
   "source": [
    "a = 5/4\n",
    "b = 1/2 * 5  * 1/2\n",
    "print(a == b)"
   ]
  },
  {
   "cell_type": "code",
   "execution_count": null,
   "id": "23c4617e",
   "metadata": {},
   "outputs": [],
   "source": [
    "a = 5/9\n",
    "b = 1/3 * 5 * 1/3\n",
    "print(a == b)"
   ]
  },
  {
   "cell_type": "code",
   "execution_count": null,
   "id": "affe5ee5",
   "metadata": {},
   "outputs": [],
   "source": [
    "my_string = \"Hello World!\" \n",
    "print(my_string)"
   ]
  },
  {
   "cell_type": "code",
   "execution_count": null,
   "id": "0157fed6",
   "metadata": {},
   "outputs": [],
   "source": [
    "my_string = \"Hello World!\" \n",
    "print(my_string[1])"
   ]
  },
  {
   "cell_type": "code",
   "execution_count": null,
   "id": "cd11b539",
   "metadata": {},
   "outputs": [],
   "source": [
    "my_string = \"Hello World!\" \n",
    "print(my_string[1].upper())"
   ]
  },
  {
   "cell_type": "code",
   "execution_count": null,
   "id": "b0adc7fa",
   "metadata": {},
   "outputs": [],
   "source": [
    "my_string = \"Hello World!\" \n",
    "print(my_string.upper())"
   ]
  },
  {
   "cell_type": "code",
   "execution_count": null,
   "id": "5aeff4cf",
   "metadata": {},
   "outputs": [],
   "source": [
    "my_string = \"Hello World!\" \n",
    "print(my_string.upper().lower())"
   ]
  },
  {
   "cell_type": "code",
   "execution_count": null,
   "id": "f1be34be",
   "metadata": {},
   "outputs": [],
   "source": [
    "my_string = \"Hello World!\" \n",
    "print(my_string.upper().lower().upper())"
   ]
  },
  {
   "cell_type": "markdown",
   "id": "eb27ba13",
   "metadata": {},
   "source": [
    "## Exercise 1 - Binary to Decimal Conversion"
   ]
  },
  {
   "cell_type": "markdown",
   "id": "5f9d8147",
   "metadata": {},
   "source": [
    "We saw in the lecture notes that computers represent integers using a binary code. We can convert from binary to decimals to remembering that each digit corresponds to a particular power of 2, and then summing up the values of each digit. In this exercise, you should write some code to:\n",
    "\n",
    "1. Converting a binary \"string\" to a decimal number (Recall that, for example, `my_string[3]` will access the 4th character of the string variable)\n",
    "2. Converting a decimal number into a binary string (You may want to use the modulo operator - `%` - to do this).\n",
    "\n",
    "> Start by writing code that solves only the examples given.  GIven time, try writing code that works for different input values.  You can assume the same sizes as given."
   ]
  },
  {
   "cell_type": "code",
   "execution_count": null,
   "id": "8539d192",
   "metadata": {},
   "outputs": [],
   "source": [
    "#Binary to decimal conversion. Replace the '???' with your code.\n",
    "binary_string = '1011'\n",
    "decimal_value = '???'\n",
    "print(decimal_value)\n",
    "\n",
    "#Decimal to binary conversion. Replace the '???' with your code.\n",
    "decimal_value2 = 13 \n",
    "binary_string = '????'\n",
    "print(binary_string)\n"
   ]
  },
  {
   "cell_type": "markdown",
   "id": "3334c7d8",
   "metadata": {},
   "source": [
    "## Exercise 2 - Floating Point Comparisons"
   ]
  },
  {
   "cell_type": "markdown",
   "id": "a524c244",
   "metadata": {},
   "source": [
    "We saw the following code in this week's notes, observing that it produces the incorrect output. As a reminder, this is due to the limited precision by which floating point numbers are stored, meaning that in general, we should avoid using the ```==``` operator with floats. \n",
    "\n",
    "A better way to compare if two floats are equal to is to see whether the difference between in them is small (\"small\", will be context dependent, but let's assume less than $10^-5$ for today). Re-write the code below to do the comparison correctly."
   ]
  },
  {
   "cell_type": "code",
   "execution_count": null,
   "id": "4322da7f",
   "metadata": {},
   "outputs": [],
   "source": [
    "e = 5/9\n",
    "f = (1/3)*5*(1/3)\n",
    "print('e is', e)\n",
    "print('f is', f)\n",
    "print(e == f) # fix this line, or add something better below"
   ]
  },
  {
   "cell_type": "markdown",
   "id": "377f2e00",
   "metadata": {},
   "source": [
    "## Exercise 3 - Collision Detection"
   ]
  },
  {
   "cell_type": "markdown",
   "id": "25742ce7",
   "metadata": {},
   "source": [
    "If we have a circle centered at point $(u,v)$ and with radius $R$, we can calculate whether another point $(x, y)$ is inside the circle by checking whether the Euclidean distance between the points (i.e Pythagoras theorem for the hypotenuse - distance = $\\sqrt((x-u)^2 + (y-v)^2)$) is less than the radius. Unfortunately, taking a square root is *not* one of the fundamental operations we have available to us (we'll see how to use the square root function soon).\n",
    "\n",
    "Without using the square root function, complete the code below to test whether the point (x,y) is with radius R of point (u,v)."
   ]
  },
  {
   "cell_type": "code",
   "execution_count": null,
   "id": "376cef8e",
   "metadata": {},
   "outputs": [],
   "source": [
    "x = '???'\n",
    "y = '???'\n",
    "u = '???'\n",
    "v = '???'\n",
    "R = '???'"
   ]
  },
  {
   "cell_type": "markdown",
   "id": "018ae834",
   "metadata": {},
   "source": [
    "## Exercise 4 - Boolean Grade Assignment"
   ]
  },
  {
   "cell_type": "markdown",
   "id": "7144aa16",
   "metadata": {},
   "source": [
    "At the University of CPA, we use the standard university grading scheme:\n",
    "\n",
    "| Grade| Classification |\n",
    "|------|------|\n",
    "| 70+ | First |\n",
    "| 60-70 | 2.1  |\n",
    "| 50-60 | 2.2  |\n",
    "| 40-50 | 3rd  |\n",
    "| under 40 | Fail |\n",
    "\n",
    "The \"grade\" used to calculate your classification is a weighted average of the marks for the two assigments- the first worth 20% and the second worth 80%. However, we also have an additional rule that you must achieve at least a passing mark (40%) in the second assignment to pass the course.\n",
    "\n",
    "Write some code that uses Boolean expressions to determine the following students overall classification\n",
    "\n",
    "| Student | Assignment 1| Assignment 2 |\n",
    "| ------- | ----------- | -------------|\n",
    "| Martin  | 100         | 35           |\n",
    "| Arthur  | 40          | 65           |\n",
    "| Hemma   | 25          | 80           |\n",
    "| Josh    | 60          | 45           |\n"
   ]
  },
  {
   "cell_type": "markdown",
   "id": "5026e70c",
   "metadata": {},
   "source": [
    "## Exercise 5 - Storing information about a robot"
   ]
  },
  {
   "cell_type": "markdown",
   "id": "c33dd4d9",
   "metadata": {},
   "source": [
    "Over the duration of this course, we're going to build a piece of code that can simulate the behaviour of two-wheeled mobile robot. \n",
    "\n",
    "<img src=\"https://github.com/engmaths/SEMT10002_2025/blob/main/media/week_1/romi.jpg?raw=true\" width=\"25%\">\n",
    "<img src=\"https://github.com/engmaths/SEMT10002_2025/blob/main/media/week_1/Two-wheeled-differential-robot-kinematics.png?raw=true\" width=\"25%\">\n",
    "\n"
   ]
  },
  {
   "cell_type": "markdown",
   "id": "ccd77e5b",
   "metadata": {},
   "source": [
    "The images above show the robot and a diagram labelling key parameters.  You can find more about this model of robot [here](https://www.pololu.com/category/202/romi-chassis-and-accessories).\n",
    "\n",
    "The robot has two wheels separated by a distance $D$. Each wheel has a radius $r$ and turns at speed $\\omega$. The centre point of the robot is at co-ordinates $(x, y)$ and has orientation $\\theta$.\n",
    "\n",
    "To start with, we'll store some information about our robot. In particular, i'd like to store: \n",
    "\n",
    "+ The robot's name (your choice).\n",
    "+ The robot's size (let's assume a circle of radius 160 mm).\n",
    "+ The distance between two robot's wheels (150 mm).\n",
    "+ The robot's current position and orientation (x= 0 mm, y= 0 mm, angle= 0 rad).\n",
    "+ The radius of the robot's wheels (35 mm).\n",
    "\n",
    "Create some variables to store this data in a Python script. Call your file \"robot.py\" and save it somewhere you'll remember as we'll return to this file in later weeks.\n",
    "\n",
    "Suppose the robot moves for period `delta_t` with left wheel turning at `ang_speed_left` and right wheel at `ang_speed_right`.  Both speeds are in radians per second.  The robot will either follow an arc of a circle or turn on the spot.  Write some code to calculate the angle through which the robot turns during this move."
   ]
  }
 ],
 "metadata": {
  "kernelspec": {
   "display_name": "base",
   "language": "python",
   "name": "python3"
  },
  "language_info": {
   "codemirror_mode": {
    "name": "ipython",
    "version": 3
   },
   "file_extension": ".py",
   "mimetype": "text/x-python",
   "name": "python",
   "nbconvert_exporter": "python",
   "pygments_lexer": "ipython3",
   "version": "3.9.10"
  }
 },
 "nbformat": 4,
 "nbformat_minor": 5
}
