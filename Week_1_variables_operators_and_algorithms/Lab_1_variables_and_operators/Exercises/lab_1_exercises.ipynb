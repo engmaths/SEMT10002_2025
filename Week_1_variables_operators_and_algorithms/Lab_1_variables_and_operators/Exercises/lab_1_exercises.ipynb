{
 "cells": [
  {
   "cell_type": "markdown",
   "id": "9389380f",
   "metadata": {},
   "source": [
    "# Week 1 Exercises"
   ]
  },
  {
   "cell_type": "markdown",
   "id": "e9d620fc",
   "metadata": {},
   "source": [
    "## Exercise 1 - Running Python code in an IDE and via the terminal"
   ]
  },
  {
   "cell_type": "markdown",
   "id": "350bdc43",
   "metadata": {},
   "source": [
    "The code below will calculate the area of a circle of radius 2. Execute this code in Visual Studio Code by completing the following steps:\n",
    "\n",
    "1. Open VS code and create a new file (file --> new text file)\n",
    "2. Copy (or type) the code below into the file\n",
    "3. Save the file as \"Exercise_1.py\"\n",
    "4. Run the code by pressing the \"play\" button in the top right hand corner.\n",
    "5. Check for the output in the terminal window. "
   ]
  },
  {
   "cell_type": "markdown",
   "id": "5026e70c",
   "metadata": {},
   "source": [
    "## Exercise 2 - Storing information about a robot"
   ]
  },
  {
   "cell_type": "markdown",
   "id": "c33dd4d9",
   "metadata": {},
   "source": [
    "1. Do this\n",
    "2. Then do this."
   ]
  },
  {
   "cell_type": "markdown",
   "id": "a524c244",
   "metadata": {},
   "source": [
    "## Exercise 3 - Data Types and Operators\n",
    "\n",
    "1. Some numbers are provided as strings. I'd like you to calculate their sum and their product."
   ]
  },
  {
   "cell_type": "code",
   "execution_count": null,
   "id": "4322da7f",
   "metadata": {},
   "outputs": [],
   "source": [
    "first_number = \"5\"\n",
    "second_number = \"7\"\n",
    "third_number = \"8\"\n",
    "fourth_number = \"Nine\"\n",
    "\n",
    "sum = '?????'\n",
    "product = '??????'"
   ]
  },
  {
   "cell_type": "markdown",
   "id": "25742ce7",
   "metadata": {},
   "source": [
    "## Exercise 4 - Integers, Floats and Comparisons\n",
    "\n",
    "\n",
    "\n",
    "## Exercise 5 - Strings"
   ]
  }
 ],
 "metadata": {
  "kernelspec": {
   "display_name": "Python 3",
   "language": "python",
   "name": "python3"
  },
  "language_info": {
   "name": "python",
   "version": "3.9.13"
  }
 },
 "nbformat": 4,
 "nbformat_minor": 5
}
