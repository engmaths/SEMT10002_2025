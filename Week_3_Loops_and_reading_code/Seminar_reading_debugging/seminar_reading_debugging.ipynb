{
 "cells": [
  {
   "cell_type": "markdown",
   "id": "4de1af13",
   "metadata": {},
   "source": [
    "# Seminar - Reading and Debugging Code"
   ]
  },
  {
   "cell_type": "markdown",
   "id": "3da2ee0c",
   "metadata": {},
   "source": [
    "## Reading Code"
   ]
  },
  {
   "cell_type": "markdown",
   "id": "2598c3b1",
   "metadata": {},
   "source": [
    "We are naturally focussing on learning to write code - but often we're called upon to read code instead."
   ]
  },
  {
   "cell_type": "markdown",
   "id": "962ecf10",
   "metadata": {},
   "source": [
    "### Example 1\n",
    "\n",
    "What is happening [here](https://github.com/nimRobotics/RRT/blob/master/rrt.py)? "
   ]
  },
  {
   "cell_type": "markdown",
   "id": "b8877c6c",
   "metadata": {},
   "source": [
    "### Example 2"
   ]
  },
  {
   "cell_type": "markdown",
   "id": "f5e12106",
   "metadata": {},
   "source": [
    "What does this code do?"
   ]
  },
  {
   "cell_type": "code",
   "execution_count": 10,
   "id": "8932bb90",
   "metadata": {},
   "outputs": [
    {
     "name": "stdout",
     "output_type": "stream",
     "text": [
      "2.0 1.7589227726177308\n",
      "3.0 1.0136434113996533\n",
      "3.0 1.0136434113996533\n",
      "3.0 1.0136434113996533\n",
      "3.25 1.003614675549928\n",
      "3.25 1.003614675549928\n",
      "3.125 1.0008001066723557\n",
      "3.125 1.0008001066723557\n",
      "3.1875 1.000253135678891\n",
      "3.1875 1.000253135678891\n",
      "3.15625 1.000038281494243\n",
      "3.15625 1.000038281494243\n",
      "3.171875 1.0000236329055852\n",
      "3.171875 1.0000236329055852\n",
      "3.1640625 1.0000004394531572\n",
      "3.1640625 1.0000004394531572\n",
      "3.1640625 1.0000004394531572\n",
      "3.1640625 1.0000004394531572\n",
      "3.1650390625 1.0000000007629395\n",
      "3.1650390625 1.0000000007629395\n"
     ]
    }
   ],
   "source": [
    "from math import cosh\n",
    "\n",
    "xhi = 0.0\n",
    "xlo = 1.0\n",
    "a = -3.165\n",
    "yhi = cosh(xhi+a)\n",
    "ylo = cosh(xlo+a)\n",
    "\n",
    "for ii in range(20):\n",
    "    if yhi<ylo:\n",
    "        xtmp = xhi\n",
    "        ytmp = yhi\n",
    "        xhi = xlo\n",
    "        yhi = ylo\n",
    "        xlo = xtmp\n",
    "        ylo = ytmp\n",
    "    else:\n",
    "        xnew = xlo+(xlo-xhi)\n",
    "        ynew = cosh(xnew+a)\n",
    "        if ynew<ylo:\n",
    "            xhi = xlo\n",
    "            yhi = ylo\n",
    "            xlo = xnew\n",
    "            ylo = ynew\n",
    "        else:\n",
    "            xhi = 0.5*(xhi+xlo)\n",
    "            yhi = cosh(xhi+a)\n",
    "    print(xlo,ylo)"
   ]
  },
  {
   "cell_type": "markdown",
   "id": "4f9a3357",
   "metadata": {},
   "source": [
    "### Discussion\n",
    "\n",
    "What makes code easier to read?"
   ]
  },
  {
   "cell_type": "markdown",
   "id": "263f46ae",
   "metadata": {},
   "source": [
    "## Debugging"
   ]
  },
  {
   "cell_type": "markdown",
   "id": "b38efe06",
   "metadata": {},
   "source": [
    "If it works first time, pat yourself on the back.  But it often doesn't, so real coding is usually a multi-step process:\n",
    "1. Add some functionality to your code\n",
    "2. Test it\n",
    "3. If it doesn't work, attempt to fix it, and repeat Step 2.\n",
    "4. If it does work, go to Step 1.\n",
    "Hence a script or function will grow in little steps, each one concluding only when it is known to be correct.\n",
    "\n",
    "The process of Step 3 is known as _debugging_.\n",
    "\n",
    "> While we nearly always have some notion of seeking correctness, the process (above) by which it is reached is subjective."
   ]
  },
  {
   "cell_type": "markdown",
   "id": "ba306475",
   "metadata": {},
   "source": [
    "### Bugs 1: syntax errors"
   ]
  },
  {
   "cell_type": "markdown",
   "id": "b424bf59",
   "metadata": {},
   "source": [
    "Maybe your code just doesn't make sense.  The interpreter will give up on it and tell you so."
   ]
  },
  {
   "cell_type": "code",
   "execution_count": 11,
   "id": "f40a9600",
   "metadata": {},
   "outputs": [
    {
     "ename": "NameError",
     "evalue": "name 'c' is not defined",
     "output_type": "error",
     "traceback": [
      "\u001b[1;31m---------------------------------------------------------------------------\u001b[0m",
      "\u001b[1;31mNameError\u001b[0m                                 Traceback (most recent call last)",
      "Cell \u001b[1;32mIn[11], line 2\u001b[0m\n\u001b[0;32m      1\u001b[0m a \u001b[38;5;241m=\u001b[39m \u001b[38;5;241m32\u001b[39m\n\u001b[1;32m----> 2\u001b[0m b \u001b[38;5;241m=\u001b[39m \u001b[38;5;241m32\u001b[39m\u001b[38;5;241m*\u001b[39m\u001b[43mc\u001b[49m\n\u001b[0;32m      3\u001b[0m \u001b[38;5;28mprint\u001b[39m(b)\n",
      "\u001b[1;31mNameError\u001b[0m: name 'c' is not defined"
     ]
    }
   ],
   "source": [
    "a = 32\n",
    "b = 32*c\n",
    "print(b)"
   ]
  },
  {
   "cell_type": "code",
   "execution_count": 12,
   "id": "870a3a58",
   "metadata": {},
   "outputs": [
    {
     "ename": "NameError",
     "evalue": "name 'pirnt' is not defined",
     "output_type": "error",
     "traceback": [
      "\u001b[1;31m---------------------------------------------------------------------------\u001b[0m",
      "\u001b[1;31mNameError\u001b[0m                                 Traceback (most recent call last)",
      "Cell \u001b[1;32mIn[12], line 1\u001b[0m\n\u001b[1;32m----> 1\u001b[0m \u001b[43mpirnt\u001b[49m(\u001b[38;5;241m45\u001b[39m\u001b[38;5;241m*\u001b[39m\u001b[38;5;241m2\u001b[39m)\n",
      "\u001b[1;31mNameError\u001b[0m: name 'pirnt' is not defined"
     ]
    }
   ],
   "source": [
    "pirnt(45*2)"
   ]
  },
  {
   "cell_type": "code",
   "execution_count": null,
   "id": "dab29935",
   "metadata": {},
   "outputs": [
    {
     "ename": "SyntaxError",
     "evalue": "cannot assign to literal here. Maybe you meant '==' instead of '='? (3792458685.py, line 1)",
     "output_type": "error",
     "traceback": [
      "\u001b[1;36m  Cell \u001b[1;32mIn[13], line 1\u001b[1;36m\u001b[0m\n\u001b[1;33m    45 = b\u001b[0m\n\u001b[1;37m    ^\u001b[0m\n\u001b[1;31mSyntaxError\u001b[0m\u001b[1;31m:\u001b[0m cannot assign to literal here. Maybe you meant '==' instead of '='?\n"
     ]
    }
   ],
   "source": [
    "45 = d\n",
    "print(d)"
   ]
  },
  {
   "cell_type": "markdown",
   "id": "9ea539f8",
   "metadata": {},
   "source": [
    "### Bugs 2 - runtime errors"
   ]
  },
  {
   "cell_type": "markdown",
   "id": "dcbafc84",
   "metadata": {},
   "source": [
    "This time, the code makes sense, but something about the data means it cannot be calculated.\n",
    "\n",
    "These errors can be easier to miss because they might not be encountered every time."
   ]
  },
  {
   "cell_type": "code",
   "execution_count": 14,
   "id": "e714784b",
   "metadata": {},
   "outputs": [
    {
     "ename": "ZeroDivisionError",
     "evalue": "float division by zero",
     "output_type": "error",
     "traceback": [
      "\u001b[1;31m---------------------------------------------------------------------------\u001b[0m",
      "\u001b[1;31mZeroDivisionError\u001b[0m                         Traceback (most recent call last)",
      "Cell \u001b[1;32mIn[14], line 3\u001b[0m\n\u001b[0;32m      1\u001b[0m e \u001b[38;5;241m=\u001b[39m \u001b[38;5;241m1.2\u001b[39m\n\u001b[0;32m      2\u001b[0m f \u001b[38;5;241m=\u001b[39m \u001b[38;5;241m1.2\u001b[39m\n\u001b[1;32m----> 3\u001b[0m g \u001b[38;5;241m=\u001b[39m \u001b[38;5;241;43m2.3\u001b[39;49m\u001b[38;5;241;43m/\u001b[39;49m\u001b[43m(\u001b[49m\u001b[43me\u001b[49m\u001b[43m \u001b[49m\u001b[38;5;241;43m-\u001b[39;49m\u001b[43m \u001b[49m\u001b[43mf\u001b[49m\u001b[43m)\u001b[49m\n\u001b[0;32m      4\u001b[0m \u001b[38;5;28mprint\u001b[39m(g)\n",
      "\u001b[1;31mZeroDivisionError\u001b[0m: float division by zero"
     ]
    }
   ],
   "source": [
    "e = 1.2\n",
    "f = 1.2\n",
    "g = 2.3/(e - f)\n",
    "print(g)\n"
   ]
  },
  {
   "cell_type": "code",
   "execution_count": 15,
   "id": "09f45a9e",
   "metadata": {},
   "outputs": [
    {
     "ename": "ValueError",
     "evalue": "math domain error",
     "output_type": "error",
     "traceback": [
      "\u001b[1;31m---------------------------------------------------------------------------\u001b[0m",
      "\u001b[1;31mValueError\u001b[0m                                Traceback (most recent call last)",
      "Cell \u001b[1;32mIn[15], line 2\u001b[0m\n\u001b[0;32m      1\u001b[0m \u001b[38;5;28;01mfrom\u001b[39;00m \u001b[38;5;21;01mmath\u001b[39;00m \u001b[38;5;28;01mimport\u001b[39;00m log\n\u001b[1;32m----> 2\u001b[0m h \u001b[38;5;241m=\u001b[39m \u001b[43mlog\u001b[49m\u001b[43m(\u001b[49m\u001b[38;5;241;43m-\u001b[39;49m\u001b[38;5;241;43m3.2\u001b[39;49m\u001b[43m)\u001b[49m\n\u001b[0;32m      3\u001b[0m \u001b[38;5;28mprint\u001b[39m(h)\n",
      "\u001b[1;31mValueError\u001b[0m: math domain error"
     ]
    }
   ],
   "source": [
    "from math import log\n",
    "h = log(-3.2)\n",
    "print(h)"
   ]
  },
  {
   "cell_type": "code",
   "execution_count": 16,
   "id": "8085ae07",
   "metadata": {},
   "outputs": [
    {
     "ename": "IndexError",
     "evalue": "string index out of range",
     "output_type": "error",
     "traceback": [
      "\u001b[1;31m---------------------------------------------------------------------------\u001b[0m",
      "\u001b[1;31mIndexError\u001b[0m                                Traceback (most recent call last)",
      "Cell \u001b[1;32mIn[16], line 2\u001b[0m\n\u001b[0;32m      1\u001b[0m s \u001b[38;5;241m=\u001b[39m \u001b[38;5;124m'\u001b[39m\u001b[38;5;124mPython\u001b[39m\u001b[38;5;124m'\u001b[39m\n\u001b[1;32m----> 2\u001b[0m t \u001b[38;5;241m=\u001b[39m \u001b[43ms\u001b[49m\u001b[43m[\u001b[49m\u001b[38;5;241;43m9\u001b[39;49m\u001b[43m]\u001b[49m\n\u001b[0;32m      3\u001b[0m \u001b[38;5;28mprint\u001b[39m(t)\n",
      "\u001b[1;31mIndexError\u001b[0m: string index out of range"
     ]
    }
   ],
   "source": [
    "s = 'Python'\n",
    "t = s[9]\n",
    "print(t)"
   ]
  },
  {
   "cell_type": "markdown",
   "id": "e042d71c",
   "metadata": {},
   "source": [
    "Validating input data is a vital protection against runtime errors.\n",
    "\n",
    "An expensive example from 2023 is described [here](https://www.nats.aero/news/nats-report-into-air-traffic-control-incident-details-root-cause-and-solution-implemented/)."
   ]
  },
  {
   "cell_type": "markdown",
   "id": "af3f0b29",
   "metadata": {},
   "source": [
    "### Bugs 3 - algorithmic error"
   ]
  },
  {
   "cell_type": "markdown",
   "id": "1d4df2ee",
   "metadata": {},
   "source": [
    "This is the most insidious kind of error.  It does not stop the code nor offer you a (vaguely) helpful red message.  Your code runs.  It's just plain wrong."
   ]
  },
  {
   "cell_type": "code",
   "execution_count": 18,
   "id": "a9a7f406",
   "metadata": {},
   "outputs": [
    {
     "name": "stdout",
     "output_type": "stream",
     "text": [
      "Sum of numbers 0 to 0 is 0\n",
      "Sum of numbers 0 to 1 is 0\n",
      "Sum of numbers 0 to 2 is 0\n",
      "Sum of numbers 0 to 3 is 0\n",
      "Sum of numbers 0 to 4 is 0\n",
      "Sum of numbers 0 to 5 is 0\n",
      "Sum of numbers 0 to 6 is 0\n",
      "Sum of numbers 0 to 7 is 0\n",
      "Sum of numbers 0 to 8 is 0\n",
      "Sum of numbers 0 to 9 is 0\n"
     ]
    }
   ],
   "source": [
    "sum_so_far = 0\n",
    "for ii in range(10):\n",
    "    sum_so_far = sum_so_far*ii\n",
    "    print('Sum of numbers 0 to',ii,'is',sum_so_far)"
   ]
  },
  {
   "cell_type": "markdown",
   "id": "732a505e",
   "metadata": {},
   "source": [
    "### Squashing the bugs - instrumenting your code"
   ]
  },
  {
   "cell_type": "markdown",
   "id": "c96e1f9f",
   "metadata": {},
   "source": [
    "The key to chasing your bugs is to get more understanding of the _state_ of the computer at each state, _i.e._ what is in each variable.  THen you can see where your mental model diverges from what the code is doing.  The easiest way is to include `print` statements."
   ]
  },
  {
   "cell_type": "markdown",
   "id": "b456db70",
   "metadata": {},
   "source": [
    "#### Example - robot movement"
   ]
  },
  {
   "cell_type": "markdown",
   "id": "386214b2",
   "metadata": {},
   "source": [
    "Let's move a robot ten steps forward and ten steps back.  Should end up back where it started, right?"
   ]
  },
  {
   "cell_type": "code",
   "execution_count": 19,
   "id": "81efe78a",
   "metadata": {},
   "outputs": [
    {
     "name": "stdout",
     "output_type": "stream",
     "text": [
      "0.0 1.0\n"
     ]
    }
   ],
   "source": [
    "x = 0\n",
    "y = 0\n",
    "for ii in range(20):\n",
    "    if ii<10:\n",
    "        x = x + 1.0\n",
    "        y = x + 1.0\n",
    "    else:\n",
    "        x = x - 1.0\n",
    "        y = y - 1.0\n",
    "print(x,y)"
   ]
  },
  {
   "cell_type": "markdown",
   "id": "b4efdb7d",
   "metadata": {},
   "source": [
    "Nope!  Try instrumenting the code with a print of each step and see where things go weird."
   ]
  },
  {
   "cell_type": "code",
   "execution_count": 20,
   "id": "81e965e9",
   "metadata": {},
   "outputs": [
    {
     "name": "stdout",
     "output_type": "stream",
     "text": [
      "0 1.0 2.0\n",
      "1 2.0 3.0\n",
      "2 3.0 4.0\n",
      "3 4.0 5.0\n",
      "4 5.0 6.0\n",
      "5 6.0 7.0\n",
      "6 7.0 8.0\n",
      "7 8.0 9.0\n",
      "8 9.0 10.0\n",
      "9 10.0 11.0\n",
      "10 9.0 10.0\n",
      "11 8.0 9.0\n",
      "12 7.0 8.0\n",
      "13 6.0 7.0\n",
      "14 5.0 6.0\n",
      "15 4.0 5.0\n",
      "16 3.0 4.0\n",
      "17 2.0 3.0\n",
      "18 1.0 2.0\n",
      "19 0.0 1.0\n",
      "0.0 1.0\n"
     ]
    }
   ],
   "source": [
    "x = 0\n",
    "y = 0\n",
    "for ii in range(20):\n",
    "    if ii<10:\n",
    "        x = x + 1.0\n",
    "        y = x + 1.0\n",
    "    else:\n",
    "        x = x - 1.0\n",
    "        y = y - 1.0\n",
    "    print(ii,x,y)\n",
    "print(x,y)"
   ]
  },
  {
   "cell_type": "markdown",
   "id": "9f7209ab",
   "metadata": {},
   "source": [
    "### Debuggers"
   ]
  },
  {
   "cell_type": "markdown",
   "id": "2fa154a3",
   "metadata": {},
   "source": [
    "A proper debugger can let you explore the complete state.  Cumbersome, but can be useful for big programs."
   ]
  }
 ],
 "metadata": {
  "kernelspec": {
   "display_name": "Python 3",
   "language": "python",
   "name": "python3"
  },
  "language_info": {
   "codemirror_mode": {
    "name": "ipython",
    "version": 3
   },
   "file_extension": ".py",
   "mimetype": "text/x-python",
   "name": "python",
   "nbconvert_exporter": "python",
   "pygments_lexer": "ipython3",
   "version": "3.10.11"
  }
 },
 "nbformat": 4,
 "nbformat_minor": 5
}
