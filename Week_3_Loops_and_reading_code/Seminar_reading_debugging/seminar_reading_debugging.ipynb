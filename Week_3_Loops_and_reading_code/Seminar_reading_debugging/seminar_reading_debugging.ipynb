{
 "cells": [
  {
   "cell_type": "markdown",
   "id": "f5e12106",
   "metadata": {},
   "source": [
    "What does this code do?"
   ]
  },
  {
   "cell_type": "code",
   "execution_count": 20,
   "id": "8932bb90",
   "metadata": {},
   "outputs": [
    {
     "name": "stdout",
     "output_type": "stream",
     "text": [
      "1.0 5.414675925724261\n",
      "2.0 3.758922772617731\n",
      "1.5 4.237431953871372\n",
      "2.0 3.758922772617731\n",
      "2.5 3.7293820245217315\n",
      "2.25 3.6986459389978537\n",
      "2.125 3.71633584815517\n",
      "2.25 3.6986459389978537\n",
      "2.1875 3.7045269856198457\n",
      "2.25 3.6986459389978537\n",
      "2.3125 3.6984255078635053\n",
      "2.28125 3.6978439708636244\n",
      "2.265625 3.6980700923531318\n",
      "2.28125 3.6978439708636244\n",
      "2.2734375 3.6979135598278265\n",
      "2.28125 3.6978439708636244\n",
      "2.27734375 3.6978679275925526\n",
      "2.28125 3.6978439708636244\n",
      "2.28515625 3.69784162967077\n",
      "2.283203125 3.697840102060436\n"
     ]
    }
   ],
   "source": [
    "from math import cosh\n",
    "\n",
    "x1 = 0.0\n",
    "x2 = 1.0\n",
    "a = -3.165\n",
    "y1 = x1 + cosh(x1+a)\n",
    "y2 = x2 + cosh(x2+a)\n",
    "\n",
    "for ii in range(20):\n",
    "    if y1<y2:\n",
    "        xnew = x1-(x2-x1)\n",
    "        ynew = xnew + cosh(xnew+a)\n",
    "        if ynew<y1:\n",
    "            x2 = x1\n",
    "            y2 = y1\n",
    "            x1 = xnew\n",
    "            y1 = ynew\n",
    "        else:\n",
    "            x1 = 0.5*(x1+x2)\n",
    "            y1 = x1 + cosh(x1+a)\n",
    "    else:\n",
    "        xtmp = x1\n",
    "        ytmp = y1\n",
    "        x1 = x2\n",
    "        y1 = y2\n",
    "        x2 = xtmp\n",
    "        y2 = ytmp\n",
    "    print(x1,y1)"
   ]
  }
 ],
 "metadata": {
  "kernelspec": {
   "display_name": "Python 3",
   "language": "python",
   "name": "python3"
  },
  "language_info": {
   "codemirror_mode": {
    "name": "ipython",
    "version": 3
   },
   "file_extension": ".py",
   "mimetype": "text/x-python",
   "name": "python",
   "nbconvert_exporter": "python",
   "pygments_lexer": "ipython3",
   "version": "3.6.8"
  }
 },
 "nbformat": 4,
 "nbformat_minor": 5
}
