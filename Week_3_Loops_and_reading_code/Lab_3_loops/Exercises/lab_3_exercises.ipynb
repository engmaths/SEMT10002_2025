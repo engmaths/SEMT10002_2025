{
 "cells": [
  {
   "cell_type": "markdown",
   "id": "9389380f",
   "metadata": {},
   "source": [
    "# Week 3 Exercises"
   ]
  },
  {
   "cell_type": "markdown",
   "id": "1944eaf2",
   "metadata": {},
   "source": [
    "## Comprehension Checks"
   ]
  },
  {
   "cell_type": "markdown",
   "id": "c478546f",
   "metadata": {},
   "source": [
    "Before starting today's exercises, please spend 10 minutes to run through these comprehension checks with a partner. Each check contains a few line of Python code that you can run to get some output. Before running each piece of code, discuss with your partner what you think the output will be and why. Then run the code- is it what you expected? If not, why? Discuss with your partner, and TA if you are unsure."
   ]
  },
  {
   "cell_type": "markdown",
   "id": "5940ca3d",
   "metadata": {},
   "source": [
    "## Exercise 1 - Compound Interest Calculator"
   ]
  },
  {
   "cell_type": "markdown",
   "id": "31955ddd",
   "metadata": {},
   "source": [
    "If you put an initial amount of money, $P$ (typically known as the *principal*) in a fixed-rate savings account with interest rate $r$, then after $t$ years, you'll have an final amount, $F$, given by the compound interest formula:\n",
    "\n",
    "$F = P(1 + r)^t$\n",
    "\n",
    "Write some code to calculate how much money you would have if you invested £20,000 in an account paying 5% interest and left it for 5 / 10 / 20 years. \n",
    "\n",
    "Next, write some code to calculate how long I'd have to leave my money invested before I had £100,000."
   ]
  },
  {
   "cell_type": "markdown",
   "id": "771810d7",
   "metadata": {},
   "source": [
    "## Exercise 2 - Palindrome Checker"
   ]
  },
  {
   "cell_type": "markdown",
   "id": "4a5482ab",
   "metadata": {},
   "source": [
    "A palindrome is a word or phrase that reads the same forwards as backwards. For example, \"toot\", \"refer\" and \"Never odd or even\" (ignoring spaces) are all palindromes. \n",
    "\n",
    "Write some code to check whether a given string is a palindrome or not. \n",
    "\n",
    "Remember that you can access a character in a string using index notation- i.e. if we have a string, ```test_string = \"Hello\"```, then ```test_string[0]=H``` and ```test_string[4] = 0```. You can also find the length of a string by using the len function- i.e ```len(test_string) = 5```. This means we can loop through every character in a string as follows:"
   ]
  },
  {
   "cell_type": "code",
   "execution_count": null,
   "id": "0eec46b9",
   "metadata": {},
   "outputs": [],
   "source": [
    "test_string = \"hello\"\n",
    "for i in range(len(test_string)):\n",
    "    print(test_string[i])"
   ]
  },
  {
   "cell_type": "markdown",
   "id": "625451d5",
   "metadata": {},
   "source": [
    "## Exercise 3 - Collatz Conjecture"
   ]
  },
  {
   "cell_type": "markdown",
   "id": "5ef8d5a9",
   "metadata": {},
   "source": [
    "Starting from any integer n, apply the rules: if even divide by 2, if odd multiply by 3 and add 1. The Collatz conjecture states that if we follow this sequence, we will eventually reach one. Although this problem looks simple, mathematicians are yet to prove it's true. \n",
    "\n",
    "We can use Python to explore this question numerically, seeing that at least for small number it seems to hold.\n",
    "\n",
    "Write some code that counts the number of steps it takes a given starting number to reach one. Then write some additional code to see which starting number under 1000 takes the most steps to reach 1. "
   ]
  },
  {
   "cell_type": "markdown",
   "id": "f5e921c9",
   "metadata": {},
   "source": [
    "## Exercise 4 - Solving Kepler's equation"
   ]
  },
  {
   "cell_type": "markdown",
   "id": "9e8cab72",
   "metadata": {},
   "source": [
    "If you're trying to rendezvous with a space station, it helps to know where it is, at any given time.  Sadly that's not straightforward, as it's governed by Kepler's equation:\n",
    "\n",
    "$M = E - e sinE$\n",
    "\n",
    "$M = \\frac{2\\pi(t-t_0)}{T}$ is the _mean anomaly_ that takes time since lowest altitude and coverts it to an angle.  $E$ is the _eccentric anomaly_ that tells you where you actually are on the orbit ellipse... so you need to find $E$ given $M$.  But you can't re-arrange this to anything usable of the form $E=\\ldots$, so it needs solving numerically.\n",
    "\n",
    "Step forward _fixed point iteration_ which aims to find an $x$ such that $f(x)=x$ _i.e._ the fixed point of function $f$, where the \"output\" of $f$ is unchanged from its \"input\".  The algorithm is:\n",
    "1. Guess an $x$\n",
    "2. Calculate $f(x)$\n",
    "3. Set $x$ equal to $f(x)$.\n",
    "4. Repeat from 2.\n",
    "Think about it: if it ever converges such that $x$ stops changing, you have found a fixed point.\n",
    "\n",
    "Here we'll use a `for` loop to iterate for a fixed number of times.\n",
    "\n",
    "Re-arrange Kepler's equation into the form $E = f(E)$ and implement it over `???` in the code below.  Also implement the loop with sufficient iterations to converge to within 0.01% of the mean anomaly. \n",
    "\n",
    "*Optional extra*: implement an early stopping criterion for the tolerance and test with multiple values of $M$."
   ]
  },
  {
   "cell_type": "markdown",
   "id": "1d60703b",
   "metadata": {},
   "source": [
    "## Exercise 5 - Robot Exercise - integrating dynamics?\n"
   ]
  },
  {
   "cell_type": "markdown",
   "id": "aab51f55",
   "metadata": {},
   "source": []
  }
 ],
 "metadata": {
  "kernelspec": {
   "display_name": "base",
   "language": "python",
   "name": "python3"
  },
  "language_info": {
   "codemirror_mode": {
    "name": "ipython",
    "version": 3
   },
   "file_extension": ".py",
   "mimetype": "text/x-python",
   "name": "python",
   "nbconvert_exporter": "python",
   "pygments_lexer": "ipython3",
   "version": "3.9.10"
  }
 },
 "nbformat": 4,
 "nbformat_minor": 5
}
