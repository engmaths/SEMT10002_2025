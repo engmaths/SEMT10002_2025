{
 "cells": [
  {
   "cell_type": "markdown",
   "id": "9389380f",
   "metadata": {},
   "source": [
    "# Week 3 Exercises"
   ]
  },
  {
   "cell_type": "markdown",
   "id": "1944eaf2",
   "metadata": {},
   "source": [
    "## Comprehension Checks"
   ]
  },
  {
   "cell_type": "markdown",
   "id": "c478546f",
   "metadata": {},
   "source": [
    "Before starting today's exercises, please spend 10 minutes to run through these comprehension checks with a partner. Each check contains a few line of Python code that you can run to get some output. Before running each piece of code, discuss with your partner what you think the output will be and why. Then run the code- is it what you expected? If not, why? Discuss with your partner, and TA if you are unsure."
   ]
  },
  {
   "cell_type": "markdown",
   "id": "5940ca3d",
   "metadata": {},
   "source": [
    "## Exercise 1 - Compound Interest Calculator"
   ]
  },
  {
   "cell_type": "markdown",
   "id": "31955ddd",
   "metadata": {},
   "source": [
    "If you put an initial amount of money, $P$ (typically known as the *principal*) in a fixed-rate savings account with interest rate $r$, then after $t$ years, you'll have an final amount, $F$, given by the compound interest formula:\n",
    "\n",
    "$F = P(1 + r)^t$\n",
    "\n",
    "Write some code to calculate how much money you would have if you invested £20,000 in an account paying 5% interest and left it for 5 / 10 / 20 years. \n",
    "\n",
    "Next, write some code to calculate how long I'd have to leave my money invested before I had £100,000."
   ]
  },
  {
   "cell_type": "markdown",
   "id": "625451d5",
   "metadata": {},
   "source": [
    "## Exercise 2 - Collatz Conjecture"
   ]
  },
  {
   "cell_type": "markdown",
   "id": "5ef8d5a9",
   "metadata": {},
   "source": [
    "Starting from any integer n, apply the rules: if even divide by 2, if odd multiply by 3 and add 1. The Collatz conjecture states that if we follow this sequence, we will eventually reach one. Although this problem looks simple, mathematicians are yet to prove it's true. \n",
    "\n",
    "We can use Python to explore this question numerically, seeing that at least for small number it seems to hold.\n",
    "\n",
    "Write some code that counts the number of steps it takes a given starting number to reach one. Then write some additional code to see which starting number under 1000 takes the most steps to reach 1. "
   ]
  },
  {
   "cell_type": "markdown",
   "id": "f5e921c9",
   "metadata": {},
   "source": [
    "## Exercise 3 - Solving Kepler's equation"
   ]
  },
  {
   "cell_type": "markdown",
   "id": "9e8cab72",
   "metadata": {},
   "source": [
    "If you're trying to rendezvous with a space station, it helps to know where it is, at any given time.  Sadly that's not straightforward, as it's governed by Kepler's equation:\n",
    "\n",
    "$M = E - e sinE$\n",
    "\n",
    "$M = \\frac{2\\pi(t-t_0)}{T}$ is the _mean anomaly_ that takes time since lowest altitude and coverts it to an angle.  $E$ is the _eccentric anomaly_ that tells you where you actually are on the orbit ellipse... so you need to find $E$ given $M$.  But you can't re-arrange this to anything usable of the form $E=\\ldots$, so it needs solving numerically.\n",
    "\n",
    "Step forward _fixed point iteration_ which aims to find an $x$ such that $f(x)=x$ _i.e._ the fixed point of function $f$, where the \"output\" of $f$ is unchanged from its \"input\".  The algorithm is:\n",
    "1. Guess an $x$\n",
    "2. Calculate $f(x)$\n",
    "3. Set $x$ equal to $f(x)$.\n",
    "4. Repeat from 2.\n",
    "Think about it: if it ever converges such that $x$ stops changing, you have found a fixed point.\n",
    "\n",
    "Write some code using a `for` loop to solve Kepler's equation using fixed point iteration with 100 steps.\n",
    "Find the true anomaly $E$ for mean anomaly $M=1.54$ and eccentricity $e=0.3$.\n",
    "\n",
    "> Hint: re-arrange Kepler's equation into the form $E = f(E)$\n",
    "\n",
    "Add an early stopping criterion to end the iterations when Kepler's equation is satisfied to within $0.01\\%$ of the mean anomaly $M$.\n",
    "\n",
    "> You are provided with the starting layout below"
   ]
  },
  {
   "cell_type": "code",
   "execution_count": 1,
   "id": "e0ab23b1",
   "metadata": {},
   "outputs": [
    {
     "name": "stdout",
     "output_type": "stream",
     "text": [
      "Mean anomaly M is 1.54\n",
      "Eccentricity e is 0.3\n"
     ]
    }
   ],
   "source": [
    "# get access to the sin function\n",
    "from math import sin\n",
    "\n",
    "# set and print the known values\n",
    "M = 1.54\n",
    "e = 0.3\n",
    "print('Mean anomaly M is',M)\n",
    "print('Eccentricity e is',e)\n",
    "\n",
    "# guess\n",
    "E = M\n",
    "\n",
    "# replace '???' and extend with your own code from here \n",
    "for ii in '???':\n",
    "    '???'\n"
   ]
  },
  {
   "cell_type": "markdown",
   "id": "1d60703b",
   "metadata": {},
   "source": [
    "## Exercise 4 - Robot Exercise - Search Pattern\n"
   ]
  },
  {
   "cell_type": "markdown",
   "id": "aab51f55",
   "metadata": {},
   "source": [
    "This week we shall make our robot do a search pattern, known fancily as the boustrephedon or more colloquially as a lawnmower.\n",
    "\n",
    "<img src=\"https://raw.githubusercontent.com/engmaths/SEMT10002_2025/refs/heads/main/media/week_3/lawnmower.png\" width=\"35%\" align=\"right\" />"
   ]
  }
 ],
 "metadata": {
  "kernelspec": {
   "display_name": "Python 3",
   "language": "python",
   "name": "python3"
  },
  "language_info": {
   "codemirror_mode": {
    "name": "ipython",
    "version": 3
   },
   "file_extension": ".py",
   "mimetype": "text/x-python",
   "name": "python",
   "nbconvert_exporter": "python",
   "pygments_lexer": "ipython3",
   "version": "3.10.11"
  }
 },
 "nbformat": 4,
 "nbformat_minor": 5
}
