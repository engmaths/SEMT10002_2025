{
 "cells": [
  {
   "cell_type": "markdown",
   "id": "9ff59b3e",
   "metadata": {},
   "source": [
    "# Lab 3 - Loops"
   ]
  },
  {
   "cell_type": "markdown",
   "id": "2857887e",
   "metadata": {},
   "source": [
    "Previously, we saw how:\n",
    "- We can store information in the memory of a computer by assigning a value to a _variable_.\n",
    "- A variable has a name, a value and a data type (int, float, bool, etc).\n",
    "- We calculate values using _expressions_ that combine variables using operators\n",
    "- Operators can be used to perform arithmetic (+, -, /, //, etc) or comparison (>, >=, ==, etc) operations.\n",
    "- A computer program is a sequence of _instructions_ that are executed one after the other.\n",
    "- Instructions seen so far are the assignment instruction, that calculates an expression and stores the result, and the print instruction, that displays the value of an expression.\n",
    "- If-then-else statements can be used to control program flow.\n",
    "- Indentation is used to determine the scope of a statement.\n",
    "\n",
    "By the end of this week, you should:\n",
    "- Know how to use *iteration* to repeatedly execute some code.\n",
    "- Know the difference between a *for* loop and a *while* loop."
   ]
  },
  {
   "cell_type": "markdown",
   "id": "0517bbcd",
   "metadata": {},
   "source": [
    "## Introducing Loops"
   ]
  },
  {
   "cell_type": "markdown",
   "id": "76d6a88a",
   "metadata": {},
   "source": [
    "There are basically two types of loops:\n",
    "\n",
    "- `for` loops that repeat some statements for a defined number of times\n",
    "- `while` loops that repeat some statements as long as a given condition is `True`\n",
    "\n",
    "(This is a simplified categorization, as either Python syntax can be used for either purpose with a bit of working around... but it's ugly, and the division above is consistent with standard programming practice, and what you'll find in every language since programming began.)"
   ]
  },
  {
   "cell_type": "markdown",
   "id": "a7e3a693",
   "metadata": {},
   "source": [
    "## `for` loops - iterating a fixed number of times"
   ]
  },
  {
   "cell_type": "markdown",
   "id": "a4f67608",
   "metadata": {},
   "source": [
    "Maybe your robot has eight identical range sensors and you need to read each one in turn?  Or you want to run a fixed number of training steps on your neural network.  Typically this is the job of a `for` loop as shown in the example below:"
   ]
  },
  {
   "cell_type": "code",
   "execution_count": null,
   "id": "83fd15a7",
   "metadata": {},
   "outputs": [],
   "source": [
    "for ii in range(10):\n",
    "    print('Step')\n",
    "    print('ii is', ii)\n",
    "print('Finished')"
   ]
  },
  {
   "cell_type": "markdown",
   "id": "deb3215f",
   "metadata": {},
   "source": [
    "Comments on the anatomy of a `for `loop:\n",
    " - `ii` is the *loop counter* variable.  It keeps track of which iteration we are on.\n",
    " - The indented bit after the `for` statement identifies the statements that will be repeated.\n",
    " - You can read the loop counter in the loop, but don't change it, as that will mess up the count.\n",
    " - Python always counts from zero, so for 10 iterations, the counter goes from 0 to 9.\n",
    "\n",
    "(For historial reasons I often use `ii` and `jj` _etc._ as loop counters because algorithms are often presented with $i$ as the step index, and I use `ii` to avoid confusion with complex numbers.  You can use any variable name that suits your style.)"
   ]
  },
  {
   "cell_type": "markdown",
   "id": "db5b18b1",
   "metadata": {},
   "source": [
    "### Summation example"
   ]
  },
  {
   "cell_type": "markdown",
   "id": "f69e0c85",
   "metadata": {},
   "source": [
    "Now let's use a `for` loop to add up all the numbers from 1 to $n$."
   ]
  },
  {
   "cell_type": "code",
   "execution_count": null,
   "id": "43842f62",
   "metadata": {},
   "outputs": [],
   "source": [
    "max_num = 20 # change from 1 to 100\n",
    "my_sum = 0\n",
    "for ii in range(max_num):\n",
    "    # counter ii will run 0 to max_num\n",
    "    # so for 1 to 10, use ii+1\n",
    "    my_sum = my_sum + (ii+1)\n",
    "print('Sum from',1,'to',max_num,'is',my_sum)\n",
    "\n",
    "# check that with the formula\n",
    "sum_formula = 0.5*max_num*(max_num+1)\n",
    "print('Formula gives', sum_formula)"
   ]
  },
  {
   "cell_type": "markdown",
   "id": "47af2fda",
   "metadata": {},
   "source": [
    "Comments on this example:\n",
    "\n",
    "- No problem making the number of iterations a variable - the number of iterations is still known at the time you begin looping\n",
    "- Notice the new role of the variable `my_sum` which gets updated with each iteration but holds its value over to the next.  Think of this as an accummulator.  Notice you need to _initialize_ it with `my_sum=0` before the loop, so that the first iteration can read from it.  What happens if you comment out that line?"
   ]
  },
  {
   "cell_type": "markdown",
   "id": "c9cdc086",
   "metadata": {},
   "source": [
    "### Series example - approximating cosine"
   ]
  },
  {
   "cell_type": "markdown",
   "id": "877cf5ff",
   "metadata": {},
   "source": [
    "Time to make a loop do some work - the example below approximates the cosine function by using its Taylor series\n",
    "\n",
    "$\\cos(\\theta) \\approx 1 - \\frac{\\theta^2}{2!} + \\frac{\\theta^4}{4!} - \\frac{\\theta^6}{6!} \\ldots$\n",
    "\n",
    "or in more general terms\n",
    "\n",
    "$\\cos(\\theta) \\approx \\sum_i (-1)^i \\frac{\\theta^{2i}}{(2i)!}$\n",
    "\n",
    "The example below implements this series.\n",
    "\n",
    "**Comprehension Check** Play around with the number of iterations and see the effects."
   ]
  },
  {
   "cell_type": "code",
   "execution_count": null,
   "id": "4013c744",
   "metadata": {},
   "outputs": [],
   "source": [
    "theta = 1.6 # change to different values (in radians)\n",
    "\n",
    "cos_theta = 0\n",
    "for ii in range(10):\n",
    "    # first calculate the (2i)! factorial, noting the awkward 0!=1 case\n",
    "    if ii==0:\n",
    "        factorial = 1\n",
    "    else:\n",
    "        factorial = 1\n",
    "        for jj in range(2*ii):\n",
    "            factorial = factorial*(jj+1)\n",
    "    cos_theta = cos_theta + ((-1)**ii)*(theta**(2*ii))/factorial\n",
    "print('Estimate of cos theta is',cos_theta)\n",
    "\n",
    "from math import cos\n",
    "print('Checking against built-in value:',cos(theta))"
   ]
  },
  {
   "cell_type": "markdown",
   "id": "927e5982",
   "metadata": {},
   "source": [
    "Note you can nest `if`, `else` and `for` inside each other.  Here we have an `if` statement inside the outer `for` loop to catch the weird $0!=1$ case and then an inner `for` loop inside the `else` clause to calculate the other factorials. "
   ]
  },
  {
   "cell_type": "markdown",
   "id": "1b6090be",
   "metadata": {},
   "source": [
    "## `while` loops - iterating as long as needed"
   ]
  },
  {
   "cell_type": "markdown",
   "id": "8e337249",
   "metadata": {},
   "source": [
    "Imagine you're searching for the minimum value of some function or trying to refine an estimate of something to a given precision.  You probably won't know exactly how many iterations that will take.  Instead, you can use a `while` loop to keep going as long as some condition is `True`.\n",
    "\n",
    "(Of course, with this type of loop, we have to worry if that will _ever_ be true - will it finish, or will our code just run forever?  That's quite a big question, but happily with some practical solutions.  Watch this space.)"
   ]
  },
  {
   "cell_type": "markdown",
   "id": "843f168c",
   "metadata": {},
   "source": [
    "### Simple example"
   ]
  },
  {
   "cell_type": "code",
   "execution_count": null,
   "id": "ab650a33",
   "metadata": {},
   "outputs": [],
   "source": [
    "value = 0.3\n",
    "while value<100000: # try changing < for !=\n",
    "    value = value*2\n",
    "    print(value)\n",
    "print('Finished')"
   ]
  },
  {
   "cell_type": "markdown",
   "id": "c6473af3",
   "metadata": {},
   "source": [
    "Comments:\n",
    " - Again the indent defines the stuff to iterate.\n",
    " - We always need something like an accummulator to keep track of progress.  Unlike `for`, `while` doesn't give us a free counter.\n",
    "\n",
    " > Try changing the _less than_ to be _not equal to_ and see what happens.  Use the little square button to the left of the cell if you need to interrupt the code."
   ]
  },
  {
   "cell_type": "markdown",
   "id": "dff9cee6",
   "metadata": {},
   "source": [
    "### Bisection search - finding square roots with `while`"
   ]
  },
  {
   "cell_type": "markdown",
   "id": "848dde15",
   "metadata": {},
   "source": [
    "Bisection search is a simple way of finding roots of a function $f(x)=0$ by narrowing down on where the function crosses zero from either side.  To keep the code simple, we'll try and solve $x^2-z=0$ for $x$ given $z$, which means finding the square root of $z$.  The algorithm is:\n",
    "\n",
    "1. Choose an interval $[L,U]$ such that $L<U$ and $L^2<z<U^2$.  Then the square root $\\sqrt{z}$ is between $L$ and $U$.\n",
    "2. Evaluate new point in the middle of the interval $M=\\frac{1}{2}(L+U)$ and calculate $M^2$.\n",
    "3. - If $M^2>z$ then set $U$ equal to $M$, i.e. $M$ is a better upper bound.\n",
    "   - If $M^2<z$ then set $L$ equal to $M$, i.e. $M$ is a better lower bound.\n",
    "4. Now we have a smaller interval $[L,U]$ such that square root $\\sqrt{z}$ is between $L$ and $U$.  Repeat from 2.\n",
    "\n",
    "Here we'll use a `while` loop to run iterations until the interval is smaller than a given size, meaning that we have found the square root to a specified tolerance."
   ]
  },
  {
   "cell_type": "code",
   "execution_count": null,
   "id": "0b43e2c5",
   "metadata": {},
   "outputs": [],
   "source": [
    "z = 9\n",
    "tol = 1e-6\n",
    "\n",
    "# guesses\n",
    "lower_x = 0\n",
    "upper_x = 100\n",
    "\n",
    "while upper_x - lower_x > tol:\n",
    "    print('Interval is [',lower_x,',',upper_x,']')\n",
    "    new_x = 0.5*(upper_x+lower_x)\n",
    "    if new_x**2>z:\n",
    "        upper_x = new_x\n",
    "    else:\n",
    "        lower_x = new_x"
   ]
  },
  {
   "cell_type": "markdown",
   "id": "47536043",
   "metadata": {},
   "source": [
    "## Using `break` to have multiple stopping conditions"
   ]
  },
  {
   "cell_type": "markdown",
   "id": "0642796e",
   "metadata": {},
   "source": [
    "Recall the discussion earlier about searching for something that might not be there.  To combat this, many practical algorithm implementations have a mixture of stopping conditions: either you find what you're looking for, or you give up after an upper limit on iterations.\n",
    "\n",
    "The `break` statement will immediately stop and jump out of any loop.  A typical arrangement is shown below, using a `for` loop to implement a fixed number of iterations, but including an early termination option through `break` if you find what you want.  \n",
    "\n",
    "In the example below, we use a simple 1-D _steepest descent_ optimizer to search for the minimizing point of a function $f(x) = x^2 + 5$.  The algorithm in words is:\n",
    "1. Compute gradient $\\nabla f = \\frac{df}{dx}$\n",
    "2. If gradient is sufficiently small, stop\n",
    "2. Evaluate new trial value $x' = x - \\alpha \\nabla f$ where $\\alpha$ is a step length parameter\n",
    "3. Evaluate trial objective $f(x')$\n",
    "4. If objective improved _i.e._ $f(x')<f(x)$ then accept the new value $x'$, otherwise reject it and reduce step length $\\alpha$ by half. "
   ]
  },
  {
   "cell_type": "code",
   "execution_count": null,
   "id": "1e065ea3",
   "metadata": {},
   "outputs": [],
   "source": [
    "x = -30.0\n",
    "f_x = x**2 + 5.0\n",
    "\n",
    "step_length = 3\n",
    "stop_tol = 0.001\n",
    "\n",
    "for ii in range(100):\n",
    "    grad_x = 2*x\n",
    "    print('Iteration',ii,'\\tx is',x,'\\tf(x) is',f_x,'\\tgradient is',grad_x,'\\t step length is',step_length)\n",
    "    if grad_x < stop_tol and grad_x > -stop_tol:\n",
    "        print('Stopping')\n",
    "        break\n",
    "    new_x = x - step_length*grad_x\n",
    "    new_f = new_x**2 + 5.0\n",
    "    if new_f < f_x:\n",
    "        x = new_x\n",
    "        f_x = new_f\n",
    "    else:\n",
    "        step_length = 0.5*step_length"
   ]
  },
  {
   "cell_type": "markdown",
   "id": "f85592e7",
   "metadata": {},
   "source": []
  }
 ],
 "metadata": {
  "kernelspec": {
   "display_name": "base",
   "language": "python",
   "name": "python3"
  },
  "language_info": {
   "codemirror_mode": {
    "name": "ipython",
    "version": 3
   },
   "file_extension": ".py",
   "mimetype": "text/x-python",
   "name": "python",
   "nbconvert_exporter": "python",
   "pygments_lexer": "ipython3",
   "version": "3.9.10"
  }
 },
 "nbformat": 4,
 "nbformat_minor": 5
}
