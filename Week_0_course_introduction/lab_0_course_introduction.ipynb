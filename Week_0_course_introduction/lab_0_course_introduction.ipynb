{
 "cells": [
  {
   "cell_type": "markdown",
   "id": "adad94fd",
   "metadata": {},
   "source": [
    "# Computer Programming and Algorithms"
   ]
  },
  {
   "cell_type": "markdown",
   "id": "07ec7451",
   "metadata": {},
   "source": [
    "## Introductions"
   ]
  },
  {
   "cell_type": "markdown",
   "id": "3e7a8ce4",
   "metadata": {},
   "source": [
    "Welcome to the first content of SEMT10002 Computer Programming and Algorithms (\"CPA\"). \n",
    "\n",
    "In this very first session, we want to cover a large amount of \"housekeeping\" a.k.a the boring stuff you need to know about this course. We'll also try to help you to install everything you need on your own machines *and* begin to think about what an algorithm is, and how we can use computers to execute them. "
   ]
  },
  {
   "cell_type": "markdown",
   "id": "f73fc74f",
   "metadata": {},
   "source": [
    "### What is the course about?"
   ]
  },
  {
   "cell_type": "markdown",
   "id": "315cde7b",
   "metadata": {},
   "source": [
    "Learning to write Python code.\n"
   ]
  },
  {
   "cell_type": "markdown",
   "id": "24c9b68d",
   "metadata": {},
   "source": [
    "### Why do I need to learn to code?"
   ]
  },
  {
   "cell_type": "markdown",
   "id": "6ef3c891",
   "metadata": {},
   "source": [
    "+ It's fun.\n",
    "+ It's important.\n",
    "+ It helps you to think.\n",
    "\n",
    "Show some cool examples here.\n",
    "\n",
    "Note on AI & Force Multiplication."
   ]
  },
  {
   "cell_type": "markdown",
   "id": "8bb3b48b",
   "metadata": {},
   "source": [
    "### What should I already know?"
   ]
  },
  {
   "cell_type": "markdown",
   "id": "bddc31e2",
   "metadata": {},
   "source": [
    "Nothing!"
   ]
  },
  {
   "cell_type": "markdown",
   "id": "bc529797",
   "metadata": {},
   "source": [
    "### The Teaching Team"
   ]
  },
  {
   "cell_type": "markdown",
   "id": "67442b53",
   "metadata": {},
   "source": [
    "+ Dr. Martin Garrad\n",
    "+ Dr. Hemma Philamore\n",
    "+ Professor Arthur Richards"
   ]
  },
  {
   "cell_type": "markdown",
   "id": "8737a6ee",
   "metadata": {},
   "source": [
    "### Menti Activity - What do you already know?"
   ]
  },
  {
   "cell_type": "markdown",
   "id": "cab952f9",
   "metadata": {},
   "source": [
    "## Housekeeping"
   ]
  },
  {
   "cell_type": "markdown",
   "id": "4ba8a4af",
   "metadata": {},
   "source": [
    "### What will we learn"
   ]
  },
  {
   "cell_type": "markdown",
   "id": "353f3f78",
   "metadata": {},
   "source": [
    "On this unit, you will learn:\n",
    "+ What an algorithm is and how to start creating your own.\n",
    "+ How a computer can be used to execute algorithms\n",
    "+ The fundamentals of programming\n",
    "+ How to write computer code that is both correct and easily understood by others.\n",
    "\n",
    "These are the \"high-level\" learning objectives for the unit, and ultimately what we will be assessing you against at the end of the course. The syllabus below provides a more-detailed weekly breakdown of what we'll be covering in each week. \n",
    "\n",
    "<img src=\"../media/week_0/CPA_Syllabus.png\">\n",
    "\n",
    "Broadly, in the first 6 weeks, we aim to cover the core elements of computer programming (variables, data types, if-then-else, loops, lists and input/output). In later weeks, we'll mix things up a bit, alternating between *content* weeks (where we continue to introduce programming elements) and *consolidation* weeks, where the focus is on using what you've learnt to solve a programming task."
   ]
  },
  {
   "cell_type": "markdown",
   "id": "6c50a7d3",
   "metadata": {},
   "source": [
    "\n",
    "\n"
   ]
  },
  {
   "cell_type": "markdown",
   "id": "3a52f2cf",
   "metadata": {},
   "source": [
    "#### Python"
   ]
  },
  {
   "cell_type": "markdown",
   "id": "f558eb80",
   "metadata": {},
   "source": [
    "In this course, we will teach in Python. Python is a free, open source programming language that has in recent years emerged as the de-facto language of scientific computing and data science."
   ]
  },
  {
   "cell_type": "markdown",
   "id": "156e6fd9",
   "metadata": {},
   "source": [
    "### How will we learn"
   ]
  },
  {
   "cell_type": "markdown",
   "id": "a5d5f023",
   "metadata": {},
   "source": [
    "In CPA, you will learn by engaging with content in your own time (\"self-study\"), attending and participating in lab sessions (\"labs\"), attending bi-weekly seminars (\"seminars\") and attending drop-in sessions (\"dropins\").\n",
    "\n",
    "+ Lab sessions will be held on Tuesdays 1-3 pm in Queens Building 1.8\n",
    "+ Seminars will be Thursdays 11-12 am in Queens Bulding F1.03 (\"the stack room\")\n",
    "+ Drop-in sessions will be Fridays 3-5 pm in Queens Building 1.8\n",
    "\n",
    "Note that CPA is a 20-credit unit (equivalent to 200 hours of study time). We'll use ~ 50 of these hours in labs or seminars, meaning self-study time should be ~ 150 hours. Over a 24 week term, this equates to about 6 hours of self-study time per week. *Our expectation is that you will engage with the learning materials outside of labs and seminars*. CPA is not the sort of unit that can be ignored for most of the year and then \"crammed\" for immediately before an assessment, so our strong recommendation is that you get into the habit of self-study asap!\n",
    "\n",
    "Your learning in CPA is divided into weeks, and each week will consist of some self-study material (notes and videos), a lab session, and every other week a seminar. Self-study materials will be released on the *Friday* of the week before to give you time to review these materials."
   ]
  },
  {
   "cell_type": "markdown",
   "id": "e1508143",
   "metadata": {},
   "source": [
    "#### Self-study materials"
   ]
  },
  {
   "cell_type": "markdown",
   "id": "bb8a03f3",
   "metadata": {},
   "source": [
    "\n",
    "\n",
    "Self-study materials will consist of lecture notes and videos, introducing and explaining important programming concepts. The content will largely be the same (you can choose which format works best for your own learning). Videos will be posted on Blackboard (in the learning area for each week), and notes will be made available on Github. Lecture notes will be in the form of IPython notebooks. This allows us to embed runnable code within the lecture notes- **our expectation is that you will run / explore / play with the code we embed within the lecture notes.** Self-study materials will be accompanied with some short comprehension checking exercises. These will be available on Blackboard and have been designed for you to get quick feedback on your understanding of the self-study material. After completing the self-study materials, you should try the comprehension checks- if you get *any* of the comprehension checks wrong, then either re-visit the materials, or discuss the question during the lab sessions. Self-study materials will be released on the *Friday* of the week before to give you time to review these materials."
   ]
  },
  {
   "cell_type": "markdown",
   "id": "a78ce3e6",
   "metadata": {},
   "source": [
    "#### Labs"
   ]
  },
  {
   "cell_type": "markdown",
   "id": "524f891a",
   "metadata": {},
   "source": [
    "\n",
    "\n",
    "Each lab is a two-hour hands-on session where the focus will be on you writing your own code. You will sit in a group of 6 other students, with each group assigned a specific TA. Group and TA assignments are available on Blackboard, in the section titled \"Group and TA assignments\". You should sit with the same students and on the same table for every lab session throughout the year. "
   ]
  },
  {
   "cell_type": "markdown",
   "id": "7a8984cc",
   "metadata": {},
   "source": [
    "#### Seminars\n",
    "\n",
    "Seminars will be held every other week and the focus will be on thinking and talking about what makes good computer code."
   ]
  },
  {
   "cell_type": "markdown",
   "id": "4a8964fb",
   "metadata": {},
   "source": [
    "### Communications and Getting Help"
   ]
  },
  {
   "cell_type": "markdown",
   "id": "0c2ad732",
   "metadata": {},
   "source": [
    "Comms Policy"
   ]
  },
  {
   "cell_type": "markdown",
   "id": "ec1f867b",
   "metadata": {},
   "source": [
    "### Meet your TA\n"
   ]
  },
  {
   "cell_type": "markdown",
   "id": "2fcb3522",
   "metadata": {},
   "source": [
    "\n",
    "- Menti style activity"
   ]
  },
  {
   "cell_type": "markdown",
   "id": "6edab9b8",
   "metadata": {},
   "source": [
    "### Assessment and Feedback"
   ]
  },
  {
   "cell_type": "markdown",
   "id": "551a1110",
   "metadata": {},
   "source": [
    "#### Summative Assessment"
   ]
  },
  {
   "cell_type": "markdown",
   "id": "44a77fac",
   "metadata": {},
   "source": [
    "\n",
    "\n",
    "Summative assessment (i.e. assessment that leads to your final course mark) consists of two separate exercises.\n",
    "\n",
    "+ A code portfolio, consisting of solutions for 3 small programming challenges. This will be submitted towards the end of November, and will allow us to assess your ability to write basic Python programs.\n",
    "+ An individual programming project, consisting of a solution to a larger programming challenge. This will be submitted in March and assessed by an in-person code review. This will allow us to assess your ability to write larger programs, your ability to describe how and why they work and your ability to write code that is easily understood by others. "
   ]
  },
  {
   "cell_type": "markdown",
   "id": "841db15a",
   "metadata": {},
   "source": [
    "#### Formative Assessment"
   ]
  },
  {
   "cell_type": "markdown",
   "id": "5670d360",
   "metadata": {},
   "source": [
    "\n",
    "Formative assessment (i.e assessment that lets you and us know how much you've understood so far) will consist of regular (every two weeks) submission of programming exercises. In weeks 2, 4, and 6, you will submit first-draft solutions for the code portfolio exercises (one per week). In weeks 6, 8, 10, 14, 16 and 18 you will submit solutions to the consolidation exercises that we have been working on in class. These will be marked by your TA, who will provide individual feedback to you the following week. Separately, we will review a sample of these submissions and provide class level feedback."
   ]
  },
  {
   "cell_type": "markdown",
   "id": "cd1f92a7",
   "metadata": {},
   "source": [
    "### Menti Activity"
   ]
  },
  {
   "cell_type": "markdown",
   "id": "7592e01c",
   "metadata": {},
   "source": [
    "Spot quiz on details!"
   ]
  },
  {
   "cell_type": "markdown",
   "id": "1282ba72",
   "metadata": {},
   "source": [
    "## Getting Started"
   ]
  },
  {
   "cell_type": "markdown",
   "id": "b967f11f",
   "metadata": {},
   "source": [
    "Let's try our first piece of code."
   ]
  },
  {
   "cell_type": "markdown",
   "id": "4664a166",
   "metadata": {},
   "source": [
    "### The Terminal"
   ]
  },
  {
   "cell_type": "markdown",
   "id": "2228961f",
   "metadata": {},
   "source": [
    "What a terminal is and what it's for."
   ]
  },
  {
   "cell_type": "markdown",
   "id": "05e3d825",
   "metadata": {},
   "source": [
    "#### Installation"
   ]
  },
  {
   "cell_type": "markdown",
   "id": "f6e7e440",
   "metadata": {},
   "source": [
    "Details"
   ]
  },
  {
   "cell_type": "markdown",
   "id": "6239d718",
   "metadata": {},
   "source": [
    "#### Using the Terminal to navigate the filesystem"
   ]
  },
  {
   "cell_type": "markdown",
   "id": "2ad31979",
   "metadata": {},
   "source": [
    "Dtails"
   ]
  },
  {
   "cell_type": "markdown",
   "id": "61dc84f9",
   "metadata": {},
   "source": [
    "#### Running Python in the terminal (e.g the REPL)"
   ]
  },
  {
   "cell_type": "markdown",
   "id": "b1d49459",
   "metadata": {},
   "source": [
    "### Visual Studio Code"
   ]
  },
  {
   "cell_type": "markdown",
   "id": "ec55db9f",
   "metadata": {},
   "source": [
    "One line saying what it is."
   ]
  },
  {
   "cell_type": "markdown",
   "id": "a7b59931",
   "metadata": {},
   "source": [
    "#### Installation"
   ]
  },
  {
   "cell_type": "markdown",
   "id": "f562fc6e",
   "metadata": {},
   "source": [
    "Stuff."
   ]
  },
  {
   "cell_type": "markdown",
   "id": "857a5890",
   "metadata": {},
   "source": [
    "#### Running Python files in VS Code"
   ]
  },
  {
   "cell_type": "markdown",
   "id": "caed7dad",
   "metadata": {},
   "source": [
    "Stuff"
   ]
  },
  {
   "cell_type": "markdown",
   "id": "f1e97d74",
   "metadata": {},
   "source": [
    "#### Running Python files from the terminal"
   ]
  },
  {
   "cell_type": "markdown",
   "id": "55d12b61",
   "metadata": {},
   "source": [
    "Stuff"
   ]
  },
  {
   "cell_type": "markdown",
   "id": "64e1004e",
   "metadata": {},
   "source": [
    "## How to pass this course"
   ]
  },
  {
   "cell_type": "markdown",
   "id": "920865f7",
   "metadata": {},
   "source": [
    "### Keeping on top of the workload"
   ]
  },
  {
   "cell_type": "markdown",
   "id": "6e8dfb9e",
   "metadata": {},
   "source": [
    "suggestions"
   ]
  },
  {
   "cell_type": "markdown",
   "id": "cf553b5a",
   "metadata": {},
   "source": [
    "### Staying Motivated"
   ]
  },
  {
   "cell_type": "markdown",
   "id": "a82ff7e1",
   "metadata": {},
   "source": [
    "suggestions"
   ]
  },
  {
   "cell_type": "markdown",
   "id": "26d7cc33",
   "metadata": {},
   "source": [
    "### Getting Help"
   ]
  },
  {
   "cell_type": "markdown",
   "id": "23b6a1ed",
   "metadata": {},
   "source": [
    "#### Helping yourself\n",
    "+ built-in help functions\n",
    "+ read the docs\n",
    "+ google / stack_overflow\n",
    "\n",
    "#### Asking for help\n",
    "+ friends / others in your group\n",
    "+ your TA\n",
    "+ using the Blackboard forum\n",
    "\n",
    "#### AI-usage"
   ]
  },
  {
   "cell_type": "markdown",
   "id": "5d3e1afa",
   "metadata": {},
   "source": [
    "### Summary of Expectations"
   ]
  },
  {
   "cell_type": "markdown",
   "id": "f677ae31",
   "metadata": {},
   "source": [
    "You can expect us to:\n",
    "+ 1\n",
    "+ 2\n",
    "+ 3\n",
    "\n",
    "We expect you to: \n",
    "\n",
    "+ 1\n",
    "+ 2"
   ]
  }
 ],
 "metadata": {
  "language_info": {
   "name": "python"
  }
 },
 "nbformat": 4,
 "nbformat_minor": 5
}
