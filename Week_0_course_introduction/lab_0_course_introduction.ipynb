{
 "cells": [
  {
   "cell_type": "markdown",
   "id": "adad94fd",
   "metadata": {},
   "source": [
    "# Computer Programming and Algorithms"
   ]
  },
  {
   "cell_type": "markdown",
   "id": "f5de783e",
   "metadata": {},
   "source": [
    "Welcome to the first content of SEMT10002 Computer Programming and Algorithms (\"CPA\"). \n",
    "\n",
    "In this very first session, we will cover:\n",
    " + Introductions (to the course, your instructors and each other).\n",
    " + How the course will run.\n",
    " + How to install necessary software (Python, Git Bash, Visual Studio Code)\n",
    " + Run our first Python program.\n"
   ]
  },
  {
   "cell_type": "markdown",
   "id": "07ec7451",
   "metadata": {},
   "source": [
    "## Introductions"
   ]
  },
  {
   "cell_type": "markdown",
   "id": "f73fc74f",
   "metadata": {},
   "source": [
    "### What is the course about?"
   ]
  },
  {
   "cell_type": "markdown",
   "id": "315cde7b",
   "metadata": {},
   "source": [
    "By the end of your time here at UoB, we'd like you to be able to use mathemetics, data and programming to analyse and understand real-world problems. Using algorithms and programming to achieve this is a core part of the skillset we expect you to develop while your here.\n",
    "\n",
    "<img src=\"https://github.com/engmaths/SEMT10002_2025/blob/main/media/week_0/Course_overview_abs.png?raw=True\">\n",
    "\n",
    "For example, we may have a question about the feasability of drone delivery.\n",
    "\n",
    "<img src=\"https://github.com/engmaths/SEMT10002_2025/blob/main/media/week_0/Course_overview_example.png?raw=True\">\n",
    "\n",
    "In this course, we'll mostly focus on the middle step of this process; translating an algorithm into Python code, but we'll also touch a little bit on how to design and evaluate algorithms and their outputs.\n",
    "\n",
    "<img src=\"https://github.com/engmaths/SEMT10002_2025/blob/main/media/week_0/Course_overview.png?raw=True\">\n",
    "\n",
    "For example, last year's coursework was to implement some path planning algorithms.\n",
    "\n",
    "Given a map, a start position and an end position, how can we figure out a safe path for our robot to follow?\n",
    "\n",
    "We introduced students to two algorithms for achieving this (occupancy grid and randomly exploring trees), which they implemented for their assignment.\n",
    "\n",
    "<img src=\"https://github.com/engmaths/SEMT10002_2025/blob/main/media/week_0/occupancy_example.png?raw=True\" width=45%>\n",
    "<img src=\"https://github.com/engmaths/SEMT10002_2025/blob/main/media/week_0/rrt_example.png?raw=True\" width=45%>"
   ]
  },
  {
   "cell_type": "markdown",
   "id": "24c9b68d",
   "metadata": {},
   "source": [
    "### Why do I need to learn to code?"
   ]
  },
  {
   "cell_type": "markdown",
   "id": "6ef3c891",
   "metadata": {},
   "source": [
    "+ It's fun.\n",
    "+ It's important.\n",
    "+ It helps you to think.\n",
    "\n",
    "- Won't AI make learning to code obsolete?"
   ]
  },
  {
   "cell_type": "markdown",
   "id": "8bb3b48b",
   "metadata": {},
   "source": [
    "### What should I already know?"
   ]
  },
  {
   "cell_type": "markdown",
   "id": "bddc31e2",
   "metadata": {},
   "source": [
    "Nothing!\n",
    "\n",
    "For many of you, this will be your first exposure to programming. It's our strong belief that every person on this course is fully able to become a confident and capable programmer. However, programming (and especially learning to program) can also be incredibly frustrating- often our code won't work and sometimes we'll get confusing error messages or see syntax we don't understand. This can then be compounded by the fact that some of our peers may not seem to be struggling at all (i.e someone may have done A level Computing, or self-taught themselves as a hobby). Unfortunately, every year, we see students decide that programming \"just isn't for them\". While we don't need everybody here to love programming, to access many of the modules in the later years of your course, you will be expected to be able to write code. \n",
    "\n",
    "Also remember that computing is a huge subject and by necessity we've had to skip over many details to focus on the core things you need in this course. This means it's completely normal to occasionally feel unsure or frustrated about something. With time, and practice, this will turn into confidence and capability. But if you do find yourself struggling like this, please don't suffer in silence! Talk to us, your peers or your TA."
   ]
  },
  {
   "cell_type": "markdown",
   "id": "bc529797",
   "metadata": {},
   "source": [
    "### The Teaching Team"
   ]
  },
  {
   "cell_type": "markdown",
   "id": "67442b53",
   "metadata": {},
   "source": [
    "+ Dr. Martin Garrad (approx 1/2 the course)\n",
    "+ Dr. Hemma Philamore (approx 1/4 the course)\n",
    "+ Prof. Arthur Richards (approx 1/4 the course)\n",
    "+ and TAs (more on that to come).\n",
    "\n",
    "<img src=\"https://github.com/engmaths/SEMT10002_2025/blob/main/media/week_0/martin.png?raw=True\" width=19.3%>\n",
    "<img src=\"https://github.com/engmaths/SEMT10002_2025/blob/main/media/week_0/hemma.png?raw=True\" width=15.3%>\n",
    "<img src=\"https://github.com/engmaths/SEMT10002_2025/blob/main/media/week_0/arthur.jpg?raw=True\" width=15%>\n"
   ]
  },
  {
   "cell_type": "markdown",
   "id": "8737a6ee",
   "metadata": {},
   "source": [
    "### Group Activity (10 minutes) - First impressions of CPA"
   ]
  },
  {
   "cell_type": "markdown",
   "id": "688a9ca7",
   "metadata": {},
   "source": [
    "Pair up with somebody in your group and answer the following questions:\n",
    "\n",
    "1. How much prior programming experience do you have?\n",
    "2. What are you most excited about learning on this course?\n",
    "3. What are you worried about on this course?\n",
    "\n",
    "When you've finished, discuss your answers with the rest of your group and share your answers on Menti.com, using code 2171 3761."
   ]
  },
  {
   "cell_type": "markdown",
   "id": "cab952f9",
   "metadata": {},
   "source": [
    "## Housekeeping"
   ]
  },
  {
   "cell_type": "markdown",
   "id": "4ba8a4af",
   "metadata": {},
   "source": [
    "### What will we learn"
   ]
  },
  {
   "cell_type": "markdown",
   "id": "353f3f78",
   "metadata": {},
   "source": [
    "On this unit, you will learn:\n",
    "+ What an algorithm is and how to start designing them.\n",
    "+ How a computer can be used to execute algorithms.\n",
    "+ The fundamentals of programming (in any programming language).\n",
    "+ How to write Python code that is both correct and easily understood by others.\n",
    "\n",
    "These are the \"high-level\" learning objectives for the unit, and ultimately what we will be assessing you against at the end of the course. The syllabus below provides a more-detailed weekly breakdown of what we'll be covering in each week. \n",
    "\n",
    "<img src=\"https://github.com/engmaths/SEMT10002_2025/blob/main/media/week_0/CPA_Syllabus.png?raw=True\">\n",
    "\n",
    "Labs shown in red are *content* labs, where'll be introducing you to some new Python syntax.\n",
    "Labs shown in green are *consolidation* weeks, where you'll use the bits of syntax you know to implement an algorithm.\n",
    "\n",
    "Note that we start quite content heavy, shifting towards being more consolidation heavy as the academic year progresses."
   ]
  },
  {
   "cell_type": "markdown",
   "id": "156e6fd9",
   "metadata": {},
   "source": [
    "### How will we learn"
   ]
  },
  {
   "cell_type": "markdown",
   "id": "a5d5f023",
   "metadata": {},
   "source": [
    "In CPA, you will learn by engaging with content in your own time (\"self-study\"), attending and participating in lab sessions (\"labs\"), attending bi-weekly seminars (\"seminars\") and attending drop-in sessions (\"dropins\").\n",
    "\n",
    "+ Lab sessions will be held on Tuesdays 1-3 pm in MVB 2.11\n",
    "+ Seminars will be Thursdays 1-2pm in IVY GATE BUILDING G.01 \n",
    "+ Drop-in sessions will be Fridays 3-5 pm in Queens Building 1.8\n",
    "\n",
    "CPA is a 20-credit unit (equivalent to 200 hours of study time). We'll use ~ 50 of these hours in labs or seminars, meaning self-study time should be ~ 150 hours. Over a 24 week term, this equates to about 6 hours of self-study time per week. \n",
    "\n",
    "*Our expectation is that you will engage with the learning materials outside of labs and seminars*. \n",
    "\n",
    "CPA is not the sort of unit that can be ignored for most of the year and then \"crammed\" for immediately before an assessment, so our strong recommendation is that you get into the habit of self-study asap!\n",
    "\n",
    "Your learning in CPA is divided into weeks, and each week will consist of some self-study material, a lab session, and every other week a seminar. Self-study materials will be released on the *Friday* of the week before to give you time to review these materials.\n",
    "\n",
    "A week of studying for CPA might look like this (self-study times highlighted in yellow).\n",
    "\n",
    "<img src=\"https://github.com/engmaths/SEMT10002_2025/blob/main/media/week_0/CPA_week.png?raw=True\">"
   ]
  },
  {
   "cell_type": "markdown",
   "id": "e1508143",
   "metadata": {},
   "source": [
    "#### Self-study materials"
   ]
  },
  {
   "cell_type": "markdown",
   "id": "bb8a03f3",
   "metadata": {},
   "source": [
    "Self-study materials will consist of lecture notes , introducing and explaining important programming concepts. Lecture notes will be in the form of IPython notebooks. This allows us to embed runnable code within the lecture notes- **our expectation is that you will run / explore / play with the code we embed within the lecture notes.** \n",
    "\n",
    "Self-study materials will be accompanied with some short **comprehension checking exercises**. These will be available on Blackboard and have been designed for you to get quick feedback on your understanding of the self-study material. Each question will consist of a short snippet of code and four possible outputs from that piece of code. All you have to do is select the correct one. Please try the comprehension checks after reviewing the lecture notes- if you get *any* of the comprehension checks wrong, then either re-visit the materials, or discuss the question during the lab sessions. \n",
    "\n",
    "Self-study materials will be released on the *Friday* of the week before to give you time to review these materials."
   ]
  },
  {
   "cell_type": "markdown",
   "id": "a78ce3e6",
   "metadata": {},
   "source": [
    "#### Labs"
   ]
  },
  {
   "cell_type": "markdown",
   "id": "524f891a",
   "metadata": {},
   "source": [
    "Each lab is a two-hour hands-on session where the focus will be on you writing your own code. You will sit in a group of 6 other students, with each group assigned a specific TA. Group and TA assignments are available on Blackboard, in the section titled \"Group and TA assignments\". You should sit with the same students and on the same table for every lab session throughout the year. \n",
    "\n",
    "You should begin each lab session with the **comprehension review**. These will be available on Blackboard (in the lab folder, called lab_n_exercises.py). Comprehension reviews will be very similar to the comprehension checking exercises- you will have a series of code snippets (this time in IPython notebooks). In pairs, you should discuss each snippet, predicting the output. Once you've made your prediction, run the cell and see if you are correct. If not, please discuss with other members of your group or your TA. Our expectation is that you will begin the comprehension review immediately upon entering the lab- don't wait for us to tell you to get started!\n",
    "\n",
    "Once you've finished the comprehension review, you should begin working through the lab exercises. Labs will have 5 exercises, with the level of difficulty increasing from 1-5. We expect that a student who can pass this course will complete at least 3 of these exercises. Please also use your own judgement about which exercise to start with- if you are feeling confident, then by all means skip exercises 1 and 2. "
   ]
  },
  {
   "cell_type": "markdown",
   "id": "7a8984cc",
   "metadata": {},
   "source": [
    "#### Seminars"
   ]
  },
  {
   "cell_type": "markdown",
   "id": "83b623ba",
   "metadata": {},
   "source": [
    "Seminars will be held every other week and the focus will be on thinking and talking about what makes good computer code. Here you will also learn some key aspects of software *engineering*."
   ]
  },
  {
   "cell_type": "markdown",
   "id": "40f04fa1",
   "metadata": {},
   "source": [
    "#### Dropins"
   ]
  },
  {
   "cell_type": "markdown",
   "id": "c8e4ab77",
   "metadata": {},
   "source": [
    "Dropin sessions will be every Friday 3-5 pm. These sessions will be supported by TAs only. If you have not been able to complete at least 3 of the lab exercises (in lab time and with independent study), then you should attend the dropin to receive additional support."
   ]
  },
  {
   "cell_type": "markdown",
   "id": "4a8964fb",
   "metadata": {},
   "source": [
    "### Communications and Getting Help"
   ]
  },
  {
   "cell_type": "markdown",
   "id": "0c2ad732",
   "metadata": {},
   "source": [
    "It's completely normal to need help when your learning to program. There's a tonne of information that you need to get your head around and errors and bugs are both common and frustrating. However, it's also important that you start to develop resilience and independence when it comes to dealing with setbacks like these.\n",
    "\n",
    "Fortunately, there's an absolute wealth of sources of information (websites, AI tools, official documentation) relating to programming that you can use. You can also ask for help from the people in your study group. Our expectation is that you will engage with these sources of help **first**. Only once you've tried to solve a problem yourself, should you then ask either a TA or academic for support, and don't be surprised if our first question is \"What have you tried already?\" We're here to support you, but it's not our job to \"fix the bugs in your code\" or \"make it work\"!\n",
    "\n",
    "Outside of contact time, if you have a question about the course materials, please post it on the Blackboard forum. This will allow us to provide a single answere that all students can benefit from. Emailed questions about course materials will either be ignored or politely re-directed to the Blackboard forum. \n",
    "\n",
    "If you have a question about a personal matter, then please do email directly."
   ]
  },
  {
   "cell_type": "markdown",
   "id": "6edab9b8",
   "metadata": {},
   "source": [
    "### Assessment and Feedback"
   ]
  },
  {
   "cell_type": "markdown",
   "id": "551a1110",
   "metadata": {},
   "source": [
    "#### Summative Assessment"
   ]
  },
  {
   "cell_type": "markdown",
   "id": "44a77fac",
   "metadata": {},
   "source": [
    "\n",
    "\n",
    "Summative assessment (i.e. assessment that leads to your final course mark) consists of two separate exercises.\n",
    "\n",
    "+ A code portfolio, consisting of solutions for 3 small programming challenges. This will be submitted towards the start of December, and will allow us to assess your ability to write basic Python programs.\n",
    "+ An individual programming project, consisting of a solution to a larger programming challenge. This will be submitted in March and assessed by an in-person code review. This will allow us to assess your ability to write larger programs, your ability to describe how and why they work and your ability to write code that is easily understood by others. "
   ]
  },
  {
   "cell_type": "markdown",
   "id": "841db15a",
   "metadata": {},
   "source": [
    "#### Formative Assessment"
   ]
  },
  {
   "cell_type": "markdown",
   "id": "5670d360",
   "metadata": {},
   "source": [
    "\n",
    "Formative assessment (i.e assessment that lets you and us know how much you've understood so far) will consist of regular (every two weeks) submission of programming exercises. In weeks 2, 4, and 8, you will submit first-draft solutions for the code portfolio exercises. In weeks 6, 10, 14, 16 and 18 you will submit solutions to the consolidation exercises that we have been working on in class. These will be marked by your TA, who will provide individual feedback to you the following week. Separately, we will review a sample of these submissions and provide class level feedback. \n",
    "\n",
    "You've all been engaging with formative work throughout your entire educational careers (i.e everything you did at college other than sitting your actual exams was formative!). Typically at school your not given a choice over whether to engage with formative work, but at University your expected to be mature enough to manage your own learning. Often we see students use this freedom to engage less with formative work at university-**this is a mistake**\n",
    "\n",
    "Engagement with formative assessment is *highly* correlated with success in higher education.\n",
    "\n",
    "<img src=\"https://github.com/engmaths/SEMT10002_2025/blob/main/media/week_0/formative1.png?raw=True\" width=45%>\n",
    "<img src=\"https://github.com/engmaths/SEMT10002_2025/blob/main/media/week_0/formative2.png?raw=True\" width=45%>\n",
    "\n",
    " Do your homework!"
   ]
  },
  {
   "cell_type": "markdown",
   "id": "cd1f92a7",
   "metadata": {},
   "source": [
    "### Menti Activity"
   ]
  },
  {
   "cell_type": "markdown",
   "id": "7592e01c",
   "metadata": {},
   "source": [
    "That was quite a lot of information dumped on you in a relatively short amount of time- did you catch the key points? Go to menti.com and input code 6437 9999 to check."
   ]
  },
  {
   "cell_type": "markdown",
   "id": "1282ba72",
   "metadata": {},
   "source": [
    "## Getting Started"
   ]
  },
  {
   "cell_type": "markdown",
   "id": "b967f11f",
   "metadata": {},
   "source": [
    "Let's try to run our first piece of code. First, we'll need to install some things. For this course, you'll need:\n",
    "\n",
    "1. Python 3\n",
    "2. Git Bash \n",
    "3. Visual Studio Code\n",
    "4. Key Python libraries (matplotlib, numpy) \n",
    "\n",
    "We've put a separate document up explaining how to install each of these things on Blackboard. You can find it in the week 0 course content folder, titled \"Software installation\". Please follow the instructions there, asking your TA for additional support if necessary."
   ]
  },
  {
   "cell_type": "markdown",
   "id": "4664a166",
   "metadata": {},
   "source": [
    "### Navigating a file system with a terminal"
   ]
  },
  {
   "cell_type": "markdown",
   "id": "2228961f",
   "metadata": {},
   "source": [
    "A \"terminal\" is a text based way of interacting with files on your computer. At first, it may feel cumbersome or frustrating- graphical user interfaces that we're familiar with work pretty well. With time and experience, you'll see that in fact the Terminal is a far more powerful way of interacting with a computer.\n",
    "\n",
    "Now that you have your Terminal installed and setup, let's see what you can do with it. Start by opening a Terminal. You should see a screen like the image below (Mac and Linux users may appear slightly different):\n",
    "\n",
    "<img src=\"https://github.com/engmaths/SEMT10002_2024/blob/main/img/BlankTerminal.png?raw=true\" width=\"60%\">\n",
    "\n",
    "\n",
    "The $ symbol here is the bash prompt, indicating that you can enter bash commands. When you first open a terminal, it will by default open looking at a specific directory. You can find out which directory you are in by typing *pwd*, which stands for \"print working directory\". You can also see the contents of the directory you are in by typing *ls*. The image below shows what happens when I type these commands on my machine- as your files and folders are different to mine, your output will also be slightly different. \n",
    "\n",
    "<img src=\"https://github.com/engmaths/SEMT10002_2024/blob/main/img/TerminalImage2.png?raw=true\" width=\"60%\">\n",
    "\n",
    "\n",
    "If you compare the list we get from terminal, to the files shown in File Explorer you should see they are the same- as explained above, the terminal is a text-based interface, that allows us to do many of the same (and more!) tasks we can do with a graphical user interface. To start navigating the file system with the terminal, we can use the command *cd \\<name of folder>* (which stands for change directory). For example, if I want to see what's in the *Lab* folder, I would type:\n",
    "\n",
    "```bash\n",
    "$ cd Lab\n",
    "```\n",
    "\n",
    "A few things that can speed up file system navigation are:\n",
    "\n",
    "1. Bash uses \"..\" to represent the directory that contains the one I am currently in. If I wanted to return from the **Lab** folder to the previous folder, I can just type **cd ..**\n",
    "2. Bash has \"Tab autocompletion\". Rather than typing the entire name of the directory I want to enter, I can simply type the first letter and then hit the *Tab* key on my keyboard. If the directory I want is the only option with that letter, Bash will autocomplete the path for me. \n",
    "3. You can cycle through old commands by pressing the up arrow. Hitting enter will then run the previous command. To see a list of previously entered commands, you can type *history* and then hit enter. This will give you a list of previous commands with a number next to them. e.g. \n",
    "\n",
    "```bash\n",
    "$ history\n",
    "  121 rm some_rubbish.txt\n",
    "  122 cd homework_solutions P\n",
    "  123 ls\n",
    "  124 cd engmaths/week13\n",
    "```\n",
    "\n",
    "Typing *!122* and hitting enter will run \"cd homework_solutions\"\n",
    "\n",
    "<h4> Basic Terminal commands </h4>\n",
    "We have already seen 3 examples of terminal commands. These are:\n",
    "\n",
    "1. *ls*  (list) - lists the contents of a directory\n",
    "2. *pwd* (print working directory) - prints the name of the current directory you are in\n",
    "3. *cd \\<name of directory\\>* (change directory) - navigates to a new directory\n",
    "\n",
    "We will now introduce some further commands that will allow you to manipulate the files on your computer. Note that I'm using angle brackets *\\<>* to show where a command requires a parameter, and curly brackets *()* to give the name of the command. Some further useful Bash commands are:\n",
    "\n",
    "4. *mkdir \\<name of directory\\>* (make directory) - makes a new directory\n",
    "5. *touch \\<name of file\\>* (touch) - makes a new (empty) file\n",
    "6. *cp \\<source file\\> \\<destination file\\>* (copy) - copies a file from source to destination\n",
    "7. *mv \\<source file\\> \\<destination file\\>* (move) - moves a file from source to destination\n",
    "8. *rm \\<name of file\\>* (remove) - deletes a file\n",
    "9. *cat \\<name of file\\>* (concatenate) - displays the contents of a file\n",
    "10. *rmdir \\<name of directory\\>* (remove directory) - deletes a directory\n",
    "\n",
    "**Exercise:** Using these commands, make a new directory called \"CPA\", with a subdirectory called \"Week 0\" inside it. Inside \"Week 0\", create an empty file called \"Exercise 1.py\"\n",
    "When completing this exercise, notice how the *cd* command handles directory and file names with a space in them. The *cd* command interprets a name containing a space as two separate names. You can get around this by using quotation marks, e.g. ```cd \"Week 0\"```. However, it's good practice to avoid using spaces in the directory names- using a dash(-) or an underscore(\\_) to represent spaces instead. \n",
    "\n",
    "**Exercise:** Now create a second directory inside your CPA folder called \"Week_1\". Copy the file \"Exercise 1.py\" from the folder \"Week 0\" into folder \"Week_1\". Now delete the original file from \"Week 0\"\n",
    "\n",
    "**Exercise:** Delete the two directories, and file, then make a new directory \"Week_0\", and make a new file inside it called \"Exercise_1.py\"\n",
    "\n",
    "Each of the commands we have introduced can be modified by the addition of one or more *flags*. For example, if we type ```rm -i \\<name of file>``` then we will be prompted prior to the deletion of each file. To find out more about the various options available for these commands, you can usually type the name of the command followed by --help. \n"
   ]
  },
  {
   "cell_type": "markdown",
   "id": "61dc84f9",
   "metadata": {},
   "source": [
    "#### Running Python code via the terminal\n",
    "\n",
    "A terminal not only allows us to use the built-in commands that we have seen, but also lets us run code that we have written.\n",
    "\n",
    "**Exercise:** Open the text file you previously created (\"Exercise1.py\") and type in the following code:\n",
    "\n",
    "```python\n",
    "print(\"Hello, World!\")\n",
    "```\n",
    "\n",
    "Save the file (in the directory \"CPA/Week 0\"), and then run it through the terminal by typing \n",
    "\n",
    "```bash\n",
    "python3 Exercise1.py\n",
    "```\n",
    "\n",
    "You should see `Hello, World!` displayed in the terminal.\n",
    "\n",
    "\n",
    "**Exercise:** Check that you have correctly installed all the necessary software for this course by typing in and running the following code. \n",
    "\n",
    "First try typing the lines into Exercise1.py and running the file.\n",
    "\n",
    "Next try typing `python3` into the terminal and pressing enter. The command prompt `>>>` will appear. You can now type the lines of Python code into the terminal and press enter. Type `quit()` to exit the Python shell and return to the bash shell\n",
    "\n",
    "```python\n",
    "#Import the numpy library\n",
    "import numpy as np \n",
    "#Import the matplotlib library\n",
    "import matplotlib.pyplot as plt \n",
    "\n",
    "xs = np.linspace(0, 100)\n",
    "ys = np.sin(xs)\n",
    "plt.plot(xs, ys)\n",
    "plt.show()\n",
    "```\n",
    "\n"
   ]
  },
  {
   "cell_type": "markdown",
   "id": "7984297e",
   "metadata": {},
   "source": []
  },
  {
   "cell_type": "markdown",
   "id": "b1d49459",
   "metadata": {},
   "source": [
    "### Visual Studio Code"
   ]
  },
  {
   "cell_type": "markdown",
   "id": "ec55db9f",
   "metadata": {},
   "source": [
    "Visual studio code is an Integrated Development Environment (IDE) created by Microsoft. There are many other IDEs available (we encourage you to check some of the others out in your own time), but in this course we will primarily use VS code. An IDE combines a text editor (where you write the code), with a number of other tools in a single software package. Visual studio code can be used to:\n",
    "\n",
    "1. Write Python Code.\n",
    "2. Run Python Code.\n",
    "3. Render notebook files.\n",
    "4. Execute code blocks in notebook files.\n",
    "5. Navigate the file system with the built-in terminal.\n",
    "\n",
    "When you first open VS code, you'll be presented with the Welcome screen. To make a new Python file, click \"New file\" and select \"Python file\" from the drop-down window.\n",
    "\n",
    "<img src=\"https://github.com/engmaths/SEMT10002_2025/blob/main/media/week_0/vs_code_1.png?raw=True\" width=60%>\n",
    "<img src=\"https://github.com/engmaths/SEMT10002_2025/blob/main/media/week_0/vs_code_2.png?raw=True\" width=60%>\n",
    "\n",
    "This will open a new tab that will look as shown.\n",
    "\n",
    "<img src=\"https://github.com/engmaths/SEMT10002_2025/blob/main/media/week_0/vs_code_3.png?raw=True\" width=60%>\n",
    "\n",
    "This is where you will write your Python code. For our first piece of Python code, please type in the following:\n",
    "\n",
    "```python\n",
    "print(\"hello world!\")\n",
    "```\n",
    "\n",
    "Your VS code should look like the image below.\n",
    "\n",
    "<img src=\"https://github.com/engmaths/SEMT10002_2025/blob/main/media/week_0/vs_code_4.png?raw=True\" width=60%>\n",
    "\n",
    "Save this code with a reasonable file name (e.g. \"hello.py\"). You can then run this code by clicking the \"Play\" button in the top right hand corner of the screen.\n",
    "\n",
    "<img src=\"https://github.com/engmaths/SEMT10002_2025/blob/main/media/week_0/vs_code_5.png?raw=True\" width=60%>\n",
    "\n",
    "When you run the code, you should see a window at the bottom appear. It'll have a number of tabs (please explore these later in your own time!), with the \"terminal\" tab selected by default. The output of the code (if any) will appear in this window. For the code we've written, you should see something like\n",
    "\n",
    "<img src=\"https://github.com/engmaths/SEMT10002_2025/blob/main/media/week_0/vs_code_6.png?raw=True\" width=60%>\n",
    "\n",
    "You can run the same code in a stand-alone terminal (e.g.) Git bash by navigating to the file and running it as we did before. \n",
    "\n",
    "**Exercise** Run the code we've just written (\"hello.py\") using Git bash. \n",
    "\n",
    "Often in CPA, we will provide you with some starter code or comments to explain the exercise. These files will be available on Blackboard and named \"ExN.py\" where N is the exercise number. When working with these files, you will need to download them to your computer and open them by clicking \"Open\" on the welcome screen. For example, the first exercise for lab 1 should look like\n",
    "\n",
    "<img src=\"https://github.com/engmaths/SEMT10002_2025/blob/main/media/week_0/ex1.png?raw=True\" width=60%>\n"
   ]
  },
  {
   "cell_type": "markdown",
   "id": "b500fd4a",
   "metadata": {},
   "source": [
    "### Recap"
   ]
  },
  {
   "cell_type": "markdown",
   "id": "c2497f40",
   "metadata": {},
   "source": [
    "That's all for today. In this session, we've covered. \n",
    "\n",
    "+ Understand what we'll be covering in CPA how it fits in with the rest of your degree program.\n",
    "+ Understand what you can expect of us and what we expect of you.\n",
    "+ Understand the importance of developing a self-study habit for CPA.\n",
    "+ Have installed the necessary software on your personal laptop. \n",
    "+ Used the terminal to navigate the file system on your computer.\n",
    "+ Ran your first piece of Python code with both VS code and Git bash.\n",
    "\n",
    "Please let us know how you got on. Go to menti.com and use the code XXXX to let us know how far you got and to ask any questions about things we didn't cover today."
   ]
  },
  {
   "cell_type": "markdown",
   "id": "8a53d1ba",
   "metadata": {},
   "source": []
  }
 ],
 "metadata": {
  "language_info": {
   "name": "python"
  }
 },
 "nbformat": 4,
 "nbformat_minor": 5
}
