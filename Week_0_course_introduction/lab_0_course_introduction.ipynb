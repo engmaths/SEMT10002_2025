{
 "cells": [
  {
   "cell_type": "markdown",
   "id": "adad94fd",
   "metadata": {},
   "source": [
    "# Computer Programming and Algorithms"
   ]
  },
  {
   "cell_type": "markdown",
   "id": "07ec7451",
   "metadata": {},
   "source": [
    "## Introductions"
   ]
  },
  {
   "cell_type": "markdown",
   "id": "3e7a8ce4",
   "metadata": {},
   "source": [
    "Welcome to the first content of SEMT10002 Computer Programming and Algorithms (\"CPA\"). \n",
    "\n",
    "In this very first session, we will cover:\n",
    " + Introductions (to the course, your instructors and each other).\n",
    " + How the course will run.\n",
    " + How to install necessary software (Python, Git Bash, Visual Studio Code)\n",
    " + Run our first Python program.\n"
   ]
  },
  {
   "cell_type": "markdown",
   "id": "f73fc74f",
   "metadata": {},
   "source": [
    "### What is the course about?"
   ]
  },
  {
   "cell_type": "markdown",
   "id": "315cde7b",
   "metadata": {},
   "source": [
    "By the end of your time here at UoB, we'd like you to be able to use mathemetics, data and programming to analyse and understand real-world problems. Using algorithms and programming to achieve this is a core part of the skillset we expect you to develop while your here.\n",
    "\n",
    "<img src=\"https://github.com/engmaths/SEMT10002_2025/blob/main/media/week_0/Course_overview_abs.png?raw=True\">\n",
    "\n",
    "For example, we may have a question about the feasability of drone delivery.\n",
    "\n",
    "<img src=\"https://github.com/engmaths/SEMT10002_2025/blob/main/media/week_0/Course_overview_example.png?raw=True\">\n",
    "\n",
    "In this course, we'll mostly focus on the middle step of this process; translating an algorithm into Python code, but we'll also touch a little bit on how to design and evaluate algorithms and their outputs.\n",
    "\n",
    "<img src=\"https://github.com/engmaths/SEMT10002_2025/blob/main/media/week_0/Course_overview.png?raw=True\">\n",
    "\n",
    "For example, last year's coursework was to implement some path planning algorithms.\n",
    "\n",
    "Given a map, a start position and an end position, how can we figure out a safe path for our robot to follow?\n",
    "\n",
    "We introduced students to two algorithms for achieving this (occupancy grid and randomly exploring trees), which they implemented for their assignment.\n",
    "\n",
    "<img src=\"https://github.com/engmaths/SEMT10002_2025/blob/main/media/week_0/occupancy_example.png?raw=True\" width=45%>\n",
    "<img src=\"https://github.com/engmaths/SEMT10002_2025/blob/main/media/week_0/rrt_example.png?raw=True\" width=45%>"
   ]
  },
  {
   "cell_type": "markdown",
   "id": "24c9b68d",
   "metadata": {},
   "source": [
    "### Why do I need to learn to code?"
   ]
  },
  {
   "cell_type": "markdown",
   "id": "6ef3c891",
   "metadata": {},
   "source": [
    "+ It's fun.\n",
    "+ It's important.\n",
    "+ It helps you to think.\n",
    "\n",
    "- Won't AI make learning to code obsolete?"
   ]
  },
  {
   "cell_type": "markdown",
   "id": "8bb3b48b",
   "metadata": {},
   "source": [
    "### What should I already know?"
   ]
  },
  {
   "cell_type": "markdown",
   "id": "bddc31e2",
   "metadata": {},
   "source": [
    "Nothing!"
   ]
  },
  {
   "cell_type": "markdown",
   "id": "bc529797",
   "metadata": {},
   "source": [
    "### The Teaching Team"
   ]
  },
  {
   "cell_type": "markdown",
   "id": "67442b53",
   "metadata": {},
   "source": [
    "+ Dr. Martin Garrad (approx 1/2 the course)\n",
    "+ Dr. Hemma Philamore (approx 1/4 the course)\n",
    "+ Prof. Arthur Richards (approx 1/4 the course)\n",
    "+ and TAs (more on that to come).\n",
    "\n",
    "<img src=\"https://github.com/engmaths/SEMT10002_2025/blob/main/media/week_0/martin.png?raw=True\" width=19.3%>\n",
    "<img src=\"https://github.com/engmaths/SEMT10002_2025/blob/main/media/week_0/hemma.png?raw=True\" width=15.3%>\n",
    "<img src=\"https://github.com/engmaths/SEMT10002_2025/blob/main/media/week_0/arthur.jpg?raw=True\" width=15%>\n"
   ]
  },
  {
   "cell_type": "markdown",
   "id": "8737a6ee",
   "metadata": {},
   "source": [
    "### Group Activity (10 minutes) - First impressions of CPA"
   ]
  },
  {
   "cell_type": "markdown",
   "id": "688a9ca7",
   "metadata": {},
   "source": [
    "Pair up with somebody in your group and answer the following questions:\n",
    "\n",
    "1. How much prior programming experience do you have?\n",
    "2. What are you most excited about learning on this course?\n",
    "3. What are you worried about on this course?\n",
    "\n",
    "When you've finished, discuss your answers with the rest of your group and share your answers on Menti.com, using code 2171 3761."
   ]
  },
  {
   "cell_type": "markdown",
   "id": "cab952f9",
   "metadata": {},
   "source": [
    "## Housekeeping"
   ]
  },
  {
   "cell_type": "markdown",
   "id": "4ba8a4af",
   "metadata": {},
   "source": [
    "### What will we learn"
   ]
  },
  {
   "cell_type": "markdown",
   "id": "353f3f78",
   "metadata": {},
   "source": [
    "On this unit, you will learn:\n",
    "+ What an algorithm is and how to start designing them.\n",
    "+ How a computer can be used to execute algorithms.\n",
    "+ The fundamentals of programming (in any programming language).\n",
    "+ How to write Python code that is both correct and easily understood by others.\n",
    "\n",
    "These are the \"high-level\" learning objectives for the unit, and ultimately what we will be assessing you against at the end of the course. The syllabus below provides a more-detailed weekly breakdown of what we'll be covering in each week. \n",
    "\n",
    "<img src=\"https://github.com/engmaths/SEMT10002_2025/blob/main/media/week_0/CPA_Syllabus.png?raw=True\">\n",
    "\n",
    "Labs shown in red are *content* labs, where'll be introducing you to some new Python syntax.\n",
    "Labs shown in green are *consolidation* weeks, where you'll use the bits of syntax you know to implement an algorithm.\n",
    "\n",
    "Note that we start quite content heavy, shifting towards being more consolidation heavy as the academic year progresses."
   ]
  },
  {
   "cell_type": "markdown",
   "id": "156e6fd9",
   "metadata": {},
   "source": [
    "### How will we learn"
   ]
  },
  {
   "cell_type": "markdown",
   "id": "a5d5f023",
   "metadata": {},
   "source": [
    "In CPA, you will learn by engaging with content in your own time (\"self-study\"), attending and participating in lab sessions (\"labs\"), attending bi-weekly seminars (\"seminars\") and attending drop-in sessions (\"dropins\").\n",
    "\n",
    "+ Lab sessions will be held on Tuesdays 1-3 pm in Queens Building 1.8\n",
    "+ Seminars will be Thursdays 11-12 am in Queens Bulding F1.03 (\"the stack room\")\n",
    "+ Drop-in sessions will be Fridays 3-5 pm in Queens Building 1.8\n",
    "\n",
    "CPA is a 20-credit unit (equivalent to 200 hours of study time). We'll use ~ 50 of these hours in labs or seminars, meaning self-study time should be ~ 150 hours. Over a 24 week term, this equates to about 6 hours of self-study time per week. \n",
    "\n",
    "*Our expectation is that you will engage with the learning materials outside of labs and seminars*. \n",
    "\n",
    "CPA is not the sort of unit that can be ignored for most of the year and then \"crammed\" for immediately before an assessment, so our strong recommendation is that you get into the habit of self-study asap!\n",
    "\n",
    "Your learning in CPA is divided into weeks, and each week will consist of some self-study material, a lab session, and every other week a seminar. Self-study materials will be released on the *Friday* of the week before to give you time to review these materials.\n",
    "\n",
    "A week of studying for CPA might look like this (self-study times highlighted in yellow).\n",
    "\n",
    "<img src=\"https://github.com/engmaths/SEMT10002_2025/blob/main/media/week_0/CPA_week.png?raw=True\">"
   ]
  },
  {
   "cell_type": "markdown",
   "id": "e1508143",
   "metadata": {},
   "source": [
    "#### Self-study materials"
   ]
  },
  {
   "cell_type": "markdown",
   "id": "bb8a03f3",
   "metadata": {},
   "source": [
    "Self-study materials will consist of lecture notes , introducing and explaining important programming concepts. Lecture notes will be in the form of IPython notebooks. This allows us to embed runnable code within the lecture notes- **our expectation is that you will run / explore / play with the code we embed within the lecture notes.** \n",
    "\n",
    "Self-study materials will be accompanied with some short **comprehension checking exercises**. These will be available on Blackboard and have been designed for you to get quick feedback on your understanding of the self-study material. Each question will consist of a short snippet of code and four possible outputs from that piece of code. All you have to do is select the correct one. Please try the comprehension checks after reviewing the lecture notes- if you get *any* of the comprehension checks wrong, then either re-visit the materials, or discuss the question during the lab sessions. \n",
    "\n",
    "Self-study materials will be released on the *Friday* of the week before to give you time to review these materials."
   ]
  },
  {
   "cell_type": "markdown",
   "id": "a78ce3e6",
   "metadata": {},
   "source": [
    "#### Labs"
   ]
  },
  {
   "cell_type": "markdown",
   "id": "524f891a",
   "metadata": {},
   "source": [
    "Each lab is a two-hour hands-on session where the focus will be on you writing your own code. You will sit in a group of 6 other students, with each group assigned a specific TA. Group and TA assignments are available on Blackboard, in the section titled \"Group and TA assignments\". You should sit with the same students and on the same table for every lab session throughout the year. \n",
    "\n",
    "You should begin each lab session with the **comprehension review**. These will be available on Blackboard (in the lab folder, called lab_n_exercises.py). Comprehension reviews will be very similar to the comprehension checking exercises- you will have a series of code snippets (this time in IPython notebooks). In pairs, you should discuss each snippet, predicting the output. Once you've made your prediction, run the cell and see if you are correct. If not, please discuss with other members of your group or your TA. Our expectation is that you will begin the comprehension review immediately upon entering the lab- don't wait for us to tell you to get started!\n",
    "\n",
    "Once you've finished the comprehension review, you should begin working through the lab exercises. Labs will have 5 exercises, with the level of difficulty increasing from 1-5. We expect that a student who can pass this course will complete at least 3 of these exercises. Please also use your own judgement about which exercise to start with- if you are feeling confident, then by all means skip exercises 1 and 2. "
   ]
  },
  {
   "cell_type": "markdown",
   "id": "7a8984cc",
   "metadata": {},
   "source": [
    "#### Seminars"
   ]
  },
  {
   "cell_type": "markdown",
   "id": "83b623ba",
   "metadata": {},
   "source": [
    "Seminars will be held every other week and the focus will be on thinking and talking about what makes good computer code."
   ]
  },
  {
   "cell_type": "markdown",
   "id": "d29f08d2",
   "metadata": {},
   "source": [
    "#### Dropins"
   ]
  },
  {
   "cell_type": "markdown",
   "id": "c8e4ab77",
   "metadata": {},
   "source": [
    "Dropin sessions will be every Friday 3-5 pm. These sessions will be supported by TAs only. If you have not been able to complete at least 3 of the lab exercises (in lab time and with independent study), then you should attend the dropin to receive additional support."
   ]
  },
  {
   "cell_type": "markdown",
   "id": "4a8964fb",
   "metadata": {},
   "source": [
    "### Communications and Getting Help"
   ]
  },
  {
   "cell_type": "markdown",
   "id": "0c2ad732",
   "metadata": {},
   "source": [
    "It's completely normal to need help when your learning to program. There's a tonne of information that you need to get your head around and errors and bugs are both common and frustrating. However, it's also important that you start to develop resilience and independence when it comes to dealing with setbacks like these.\n",
    "\n",
    "Fortunately, there's an absolute wealth of sources of information (websites, AI tools, official documentation) relating to programming that you can use. You can also ask for help from the people in your study group. Our expectation is that you will engage with these sources of help **first**. Only once you've tried to solve a problem yourself, should you then ask either a TA or academic for support, and don't be surprised if our first question is \"What have you tried already?\" We're here to support you, but it's not our job to \"fix the bugs in your code\" or \"make it work\"!\n",
    "\n",
    "Outside of contact time, if you have a question about the course materials, please post it on the Blackboard forum. This will allow us to provide a single answere that all students can benefit from. Emailed questions about course materials will either be ignored or politely re-directed to the Blackboard forum. \n",
    "\n",
    "If you have a question about a personal matter, then please do email directly."
   ]
  },
  {
   "cell_type": "markdown",
   "id": "6edab9b8",
   "metadata": {},
   "source": [
    "### Assessment and Feedback"
   ]
  },
  {
   "cell_type": "markdown",
   "id": "551a1110",
   "metadata": {},
   "source": [
    "#### Summative Assessment"
   ]
  },
  {
   "cell_type": "markdown",
   "id": "44a77fac",
   "metadata": {},
   "source": [
    "\n",
    "\n",
    "Summative assessment (i.e. assessment that leads to your final course mark) consists of two separate exercises.\n",
    "\n",
    "+ A code portfolio, consisting of solutions for 3 small programming challenges. This will be submitted towards the start of December, and will allow us to assess your ability to write basic Python programs.\n",
    "+ An individual programming project, consisting of a solution to a larger programming challenge. This will be submitted in March and assessed by an in-person code review. This will allow us to assess your ability to write larger programs, your ability to describe how and why they work and your ability to write code that is easily understood by others. "
   ]
  },
  {
   "cell_type": "markdown",
   "id": "841db15a",
   "metadata": {},
   "source": [
    "#### Formative Assessment"
   ]
  },
  {
   "cell_type": "markdown",
   "id": "5670d360",
   "metadata": {},
   "source": [
    "\n",
    "Formative assessment (i.e assessment that lets you and us know how much you've understood so far) will consist of regular (every two weeks) submission of programming exercises. In weeks 2, 4, and 8, you will submit first-draft solutions for the code portfolio exercises. In weeks 6, 10, 14, 16 and 18 you will submit solutions to the consolidation exercises that we have been working on in class. These will be marked by your TA, who will provide individual feedback to you the following week. Separately, we will review a sample of these submissions and provide class level feedback. \n",
    "\n",
    "You've all been engaging with formative work throughout your entire educational careers (i.e everything you did at college other than sitting your actual exams was formative!). Often we see students engage less with formative work at university-**this is a mistake**\n",
    "\n",
    "Engagement with formative assessment is *highly* correlated with success in higher education.\n",
    "\n",
    "<img src=\"https://github.com/engmaths/SEMT10002_2025/blob/main/media/week_0/formative1.png?raw=True\">\n",
    "<img src=\"https://github.com/engmaths/SEMT10002_2025/blob/main/media/week_0/formative2.png?raw=True\">"
   ]
  },
  {
   "cell_type": "markdown",
   "id": "cd1f92a7",
   "metadata": {},
   "source": [
    "### Menti Activity"
   ]
  },
  {
   "cell_type": "markdown",
   "id": "7592e01c",
   "metadata": {},
   "source": [
    "Spot quiz on details!"
   ]
  },
  {
   "cell_type": "markdown",
   "id": "1282ba72",
   "metadata": {},
   "source": [
    "## Getting Started"
   ]
  },
  {
   "cell_type": "markdown",
   "id": "b967f11f",
   "metadata": {},
   "source": [
    "Let's try our first piece of code."
   ]
  },
  {
   "cell_type": "markdown",
   "id": "4664a166",
   "metadata": {},
   "source": [
    "### The Terminal"
   ]
  },
  {
   "cell_type": "markdown",
   "id": "2228961f",
   "metadata": {},
   "source": [
    "What a terminal is and what it's for."
   ]
  },
  {
   "cell_type": "markdown",
   "id": "05e3d825",
   "metadata": {},
   "source": [
    "#### Installation"
   ]
  },
  {
   "cell_type": "markdown",
   "id": "f6e7e440",
   "metadata": {},
   "source": [
    "Details"
   ]
  },
  {
   "cell_type": "markdown",
   "id": "6239d718",
   "metadata": {},
   "source": [
    "#### Using the Terminal to navigate the filesystem"
   ]
  },
  {
   "cell_type": "markdown",
   "id": "2ad31979",
   "metadata": {},
   "source": [
    "Dtails"
   ]
  },
  {
   "cell_type": "markdown",
   "id": "61dc84f9",
   "metadata": {},
   "source": [
    "#### Running Python in the terminal (e.g the REPL)"
   ]
  },
  {
   "cell_type": "markdown",
   "id": "b1d49459",
   "metadata": {},
   "source": [
    "### Visual Studio Code"
   ]
  },
  {
   "cell_type": "markdown",
   "id": "ec55db9f",
   "metadata": {},
   "source": [
    "One line saying what it is."
   ]
  },
  {
   "cell_type": "markdown",
   "id": "a7b59931",
   "metadata": {},
   "source": [
    "#### Installation"
   ]
  },
  {
   "cell_type": "markdown",
   "id": "f562fc6e",
   "metadata": {},
   "source": [
    "Stuff."
   ]
  },
  {
   "cell_type": "markdown",
   "id": "857a5890",
   "metadata": {},
   "source": [
    "#### Running Python files in VS Code"
   ]
  },
  {
   "cell_type": "markdown",
   "id": "caed7dad",
   "metadata": {},
   "source": [
    "Stuff"
   ]
  },
  {
   "cell_type": "markdown",
   "id": "f1e97d74",
   "metadata": {},
   "source": [
    "#### Running Python files from the terminal"
   ]
  },
  {
   "cell_type": "markdown",
   "id": "55d12b61",
   "metadata": {},
   "source": [
    "Stuff"
   ]
  },
  {
   "cell_type": "markdown",
   "id": "64e1004e",
   "metadata": {},
   "source": [
    "## How to pass this course"
   ]
  },
  {
   "cell_type": "markdown",
   "id": "920865f7",
   "metadata": {},
   "source": [
    "### Keeping on top of the workload"
   ]
  },
  {
   "cell_type": "markdown",
   "id": "6e8dfb9e",
   "metadata": {},
   "source": [
    "suggestions"
   ]
  },
  {
   "cell_type": "markdown",
   "id": "cf553b5a",
   "metadata": {},
   "source": [
    "### Staying Motivated"
   ]
  },
  {
   "cell_type": "markdown",
   "id": "a82ff7e1",
   "metadata": {},
   "source": [
    "suggestions"
   ]
  },
  {
   "cell_type": "markdown",
   "id": "26d7cc33",
   "metadata": {},
   "source": [
    "### Getting Help"
   ]
  },
  {
   "cell_type": "markdown",
   "id": "23b6a1ed",
   "metadata": {},
   "source": [
    "#### Helping yourself\n",
    "+ built-in help functions\n",
    "+ read the docs\n",
    "+ google / stack_overflow\n",
    "\n",
    "#### Asking for help\n",
    "+ friends / others in your group\n",
    "+ your TA\n",
    "+ using the Blackboard forum\n",
    "+ going to dropins\n",
    "\n",
    "#### AI-usage"
   ]
  },
  {
   "cell_type": "markdown",
   "id": "5d3e1afa",
   "metadata": {},
   "source": [
    "### Summary of Expectations"
   ]
  },
  {
   "cell_type": "markdown",
   "id": "f677ae31",
   "metadata": {},
   "source": [
    "You can expect us to:\n",
    "+ 1\n",
    "+ 2\n",
    "+ 3\n",
    "\n",
    "We expect you to: \n",
    "\n",
    "+ 1\n",
    "+ 2"
   ]
  }
 ],
 "metadata": {
  "language_info": {
   "name": "python"
  }
 },
 "nbformat": 4,
 "nbformat_minor": 5
}
