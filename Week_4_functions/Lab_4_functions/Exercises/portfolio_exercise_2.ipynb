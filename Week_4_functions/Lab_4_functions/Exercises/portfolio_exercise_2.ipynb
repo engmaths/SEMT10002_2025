{
 "cells": [
  {
   "cell_type": "markdown",
   "id": "4953e7f2",
   "metadata": {},
   "source": [
    "# Portfolio exercise P1"
   ]
  },
  {
   "cell_type": "markdown",
   "id": "9c44fcbf",
   "metadata": {},
   "source": [
    "This is your first assessed exercise to go in your portfolio.  We're continuing to build code that can simulates a two-wheeled mobile robot. \n",
    "\n",
    "<img src=\"https://github.com/engmaths/SEMT10002_2025/blob/main/media/week_1/romi.jpg?raw=true\" width=\"25%\" />\n",
    "<img src=\"https://github.com/engmaths/SEMT10002_2025/blob/main/media/week_1/robot_kinematics_2.png?raw=true\" width=\"30%\" style=\"background-color: white;\" />\n",
    "\n",
    "Recall you calculate the angle it would turn through if you asked it to move for period `delta_t` with left wheel turning at `ang_speed_left` and right wheel at `ang_speed_right`."
   ]
  },
  {
   "cell_type": "markdown",
   "id": "fd9a1743",
   "metadata": {},
   "source": [
    "> If you've not yet completed all the previous robot exercises, work with your TA to get them up and running quickly and catch up."
   ]
  },
  {
   "cell_type": "markdown",
   "id": "44af7f3f",
   "metadata": {},
   "source": [
    "## Making a Library"
   ]
  },
  {
   "cell_type": "markdown",
   "id": "2e6a45bc",
   "metadata": {},
   "source": [
    "Your submission for this assignment should be a Python _library_.  In short, this should mean that all it does is define functions, so we can `import` it and test it using our marking code.  A typical library file looks like this:   "
   ]
  },
  {
   "cell_type": "markdown",
   "id": "0ff5c762",
   "metadata": {},
   "source": [
    "```python\n",
    "# comment describing the library\n",
    "\n",
    "# define some constants\n",
    "a = 6\n",
    "b = 12\n",
    "# you can use these in your functions, despite what we've said about scope - just don't change their values\n",
    "\n",
    "def my_func(in1, in2):\n",
    "    # a function that does something\n",
    "    '???'\n",
    "\n",
    "def my_next_func(in1, in2):\n",
    "    # another function that does something\n",
    "    return '???'\n",
    "\n",
    "def my_main_func():\n",
    "    # a big function that does nearly all the work\n",
    "\n",
    "# what to do if called as a script\n",
    "if __name__=='__main__':\n",
    "    my_main_func()\n",
    "```"
   ]
  },
  {
   "cell_type": "markdown",
   "id": "8e40d382",
   "metadata": {},
   "source": [
    "The last bit - `if __name__` etc - is a bit of Python magic that checks if the file is being executed as a script, i.e. you typed `python <this_file>.py`.\n",
    "\n",
    "With the library above, supposing you'd saved it as `my_new_library.py`, you could also use it in another Python file, like this:"
   ]
  },
  {
   "cell_type": "markdown",
   "id": "5a513570",
   "metadata": {},
   "source": [
    "```python\n",
    "# an example using the new library\n",
    "from my_new_library import my_next_func\n",
    "\n",
    "# call one of the functions\n",
    "p = my_next_func(0.2)\n",
    "```\n"
   ]
  },
  {
   "cell_type": "markdown",
   "id": "1343511b",
   "metadata": {},
   "source": [
    "This does not run the `my_main_func` but does let you use the parts you want to, in this case `my_next_func`."
   ]
  },
  {
   "cell_type": "markdown",
   "id": "58f3436a",
   "metadata": {},
   "source": [
    "## Task\n",
    "\n",
    "Write a program that simulates a robot driving the lawnmower search pattern from Week 3.  Your robot should stop when it gets within 100mm distance of the point (1200,-400), representing collision with an obstacle.\n",
    "\n",
    "Use functions where appropriate to make your code managable and clear.\n",
    "\n",
    "> A good function does one job, well.\n",
    "\n",
    "You have all the pieces to do this already, stretching back to Week 1.  The task here is to assemble and test them.  A tidy structure with functions will make it easy to test and debug as you go.\n",
    "\n",
    "Make your file a library called `ExerciseP2.py`, including a function called `main` that runs the simulation described.  Use the `if __name__` trick so that the simulation also runs if you invoke your file as a script.  _The template will help you with this._\n",
    "\n",
    "> Use the script `test_P2.py` to test your library: running `test_P2.py` should run your simulation."
   ]
  }
 ],
 "metadata": {
  "language_info": {
   "name": "python"
  }
 },
 "nbformat": 4,
 "nbformat_minor": 5
}
