{
 "cells": [
  {
   "cell_type": "markdown",
   "id": "4953e7f2",
   "metadata": {},
   "source": [
    "# Portfolio exercise P1"
   ]
  },
  {
   "cell_type": "markdown",
   "id": "9c44fcbf",
   "metadata": {},
   "source": [
    "This is your first assessed exercise to go in your portfolio.  We're continuing to build code that can simulates a two-wheeled mobile robot. \n",
    "\n",
    "<img src=\"https://github.com/engmaths/SEMT10002_2025/blob/main/media/week_1/romi.jpg?raw=true\" width=\"25%\" />\n",
    "<img src=\"https://github.com/engmaths/SEMT10002_2025/blob/main/media/week_1/robot_kinematics_2.png?raw=true\" width=\"30%\" style=\"background-color: white;\" />\n",
    "\n",
    "Recall you calculate the angle it would turn through if you asked it to move for period `delta_t` with left wheel turning at `ang_speed_left` and right wheel at `ang_speed_right`."
   ]
  },
  {
   "cell_type": "markdown",
   "id": "fd9a1743",
   "metadata": {},
   "source": [
    "> If you've not yet completed all the previous robot exercises, work with your TA to get them up and running quickly and catch up."
   ]
  },
  {
   "cell_type": "markdown",
   "id": "58f3436a",
   "metadata": {},
   "source": [
    "## Task\n",
    "\n",
    "Write a program that simulates a robot driving the lawnmower search pattern from Week 3.  Your robot should stop when it gets within 100mm distance of the point (1200,-400), representing collision with an obstacle.\n",
    "\n",
    "Use functions where appropriate to make your code managable and clear.\n",
    "\n",
    "> A good function does one job, well.\n",
    "\n",
    "You have all the pieces to do this already, stretching back to Week 1.  The task here is to assemble and test them.  A tidy structure with functions will make it easy to test and degug as you go."
   ]
  }
 ],
 "metadata": {
  "language_info": {
   "name": "python"
  }
 },
 "nbformat": 4,
 "nbformat_minor": 5
}
