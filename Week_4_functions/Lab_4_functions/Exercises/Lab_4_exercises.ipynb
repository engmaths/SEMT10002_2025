{
 "cells": [
  {
   "cell_type": "markdown",
   "id": "34c82074",
   "metadata": {},
   "source": [
    "# Week 4 exercises"
   ]
  },
  {
   "cell_type": "markdown",
   "id": "ff408a09",
   "metadata": {},
   "source": [
    "## Comprehension checks\n",
    "\n",
    "Usual deal - make sure you know why these do what they do (even if it's to throw an error)"
   ]
  },
  {
   "cell_type": "code",
   "execution_count": null,
   "id": "5e2917da",
   "metadata": {},
   "outputs": [],
   "source": [
    "def print_with_exclamations(message):\n",
    "    message = message.upper()\n",
    "    print(message + \"!!!\")"
   ]
  },
  {
   "cell_type": "code",
   "execution_count": null,
   "id": "5d201453",
   "metadata": {},
   "outputs": [],
   "source": [
    "def print_with_exclamations(message):\n",
    "    message = message.upper()\n",
    "    print(message + \"!!!\")\n",
    "\n",
    "print_with_exclamations(\"Hello\")"
   ]
  },
  {
   "cell_type": "code",
   "execution_count": null,
   "id": "6766e295",
   "metadata": {},
   "outputs": [],
   "source": [
    "def print_with_exclamations(message):\n",
    "message = message.upper()\n",
    "print(message + \"!!!\")\n",
    "\n",
    "print_with_exclamations(\"Hello\")"
   ]
  },
  {
   "cell_type": "code",
   "execution_count": null,
   "id": "ffc52cce",
   "metadata": {},
   "outputs": [],
   "source": [
    "def print_with_exclamations(message):\n",
    "    message = message.upper()\n",
    "print(message + \"!!!\")\n",
    "\n",
    "print_with_exclamations(\"Hello\")"
   ]
  },
  {
   "cell_type": "code",
   "execution_count": null,
   "id": "9addabfe",
   "metadata": {},
   "outputs": [],
   "source": [
    "def print_with_exclamations(message):\n",
    "    message = message.upper()\n",
    "    print(message + \"!!!\")\n",
    "\n",
    "print_with_exclamations(5)"
   ]
  },
  {
   "cell_type": "code",
   "execution_count": null,
   "id": "0c7aec12",
   "metadata": {},
   "outputs": [],
   "source": [
    "def print_with_exclamations(message):\n",
    "    message = message.upper()\n",
    "    print(message + \"!!!\")\n",
    "\n",
    "print_with_exclamations()"
   ]
  },
  {
   "cell_type": "code",
   "execution_count": null,
   "id": "9efc1e94",
   "metadata": {},
   "outputs": [],
   "source": [
    "def print_with_exclamations(message, number):\n",
    "    message = message.upper()\n",
    "    for i in range(number):\n",
    "        message += \"!\"\n",
    "\n",
    "    print(message)\n",
    "    \n",
    "print_with_exclamations(\"Hi\", 2)"
   ]
  },
  {
   "cell_type": "code",
   "execution_count": null,
   "id": "be69ce2e",
   "metadata": {},
   "outputs": [],
   "source": [
    "message = \"hello\"\n",
    "\n",
    "def capitalise_message(message):\n",
    "    \n",
    "    new_message = message[0].upper()\n",
    "    for letter in message[1:]:\n",
    "        new_message += letter\n",
    "    return message\n",
    "\n",
    "print(capitalise_message(message))"
   ]
  },
  {
   "cell_type": "code",
   "execution_count": null,
   "id": "520fe3d8",
   "metadata": {},
   "outputs": [],
   "source": [
    "message = \"hello\"\n",
    "\n",
    "def capitalise_message(message):\n",
    "    \n",
    "    new_message = message[0].upper()\n",
    "    for letter in message[1:]:\n",
    "        new_message += letter\n",
    "    return new_message\n",
    "\n",
    "print(capitalise_message(message))"
   ]
  },
  {
   "cell_type": "code",
   "execution_count": null,
   "id": "6cb6e15a",
   "metadata": {},
   "outputs": [],
   "source": [
    "message = \"hello\"\n",
    "\n",
    "def capitalise_message(message):\n",
    "    \n",
    "    new_message = message[0].upper()\n",
    "    for letter in message[1:]:\n",
    "        new_message += letter\n",
    "    return new_message\n",
    "\n",
    "capitalise_message(message)\n",
    "print(new_message)"
   ]
  },
  {
   "cell_type": "code",
   "execution_count": null,
   "id": "cb293a21",
   "metadata": {},
   "outputs": [],
   "source": [
    "def negate_number(number):\n",
    "    print(x)\n",
    "    return -number\n",
    "\n",
    "x = 5\n",
    "result = negate_number(10)"
   ]
  },
  {
   "cell_type": "code",
   "execution_count": null,
   "id": "79bf1ce8",
   "metadata": {},
   "outputs": [],
   "source": [
    "def negate_number(number):\n",
    "    print(y)\n",
    "    return -number\n",
    "\n",
    "result = negate_number(10)\n",
    "y = 5"
   ]
  },
  {
   "cell_type": "code",
   "execution_count": null,
   "id": "0c73a8e9",
   "metadata": {},
   "outputs": [],
   "source": [
    "def negate_number(number):\n",
    "    y += 1\n",
    "    print(y)\n",
    "    return -number\n",
    "\n",
    "y = 5\n",
    "result = negate_number(10)"
   ]
  },
  {
   "cell_type": "markdown",
   "id": "9d35046a",
   "metadata": {},
   "source": [
    "## Exercise 1"
   ]
  },
  {
   "cell_type": "markdown",
   "id": "b7c54357",
   "metadata": {},
   "source": [
    "Here's a function I have written to take the average of two numbers.  It's also written into your answer template.  Use the function to find the average of 19,315 and 22,664."
   ]
  },
  {
   "cell_type": "code",
   "execution_count": null,
   "id": "95d213c7",
   "metadata": {},
   "outputs": [],
   "source": [
    "def average(m,n):\n",
    "    return 0.5*(m+n)"
   ]
  },
  {
   "cell_type": "markdown",
   "id": "6a0cb000",
   "metadata": {},
   "source": [
    "## Exercise 2"
   ]
  },
  {
   "cell_type": "markdown",
   "id": "c4b7082b",
   "metadata": {},
   "source": [
    "Write a saturation function that limits or clips a value if it goes outside the range -1 to 1.\n",
    "\n",
    "$ y = \\left\\{ \\begin{align} -1 && x < -1 \\nonumber \\\\ x && -1 \\leq x \\leq 1 \\nonumber \\\\ 1 && x > 1 \\nonumber \\end{align} \\right. $\n",
    "\n",
    "Test it in all three cases and print results."
   ]
  },
  {
   "cell_type": "markdown",
   "id": "b73b9643",
   "metadata": {},
   "source": [
    "## Exercise 3"
   ]
  },
  {
   "cell_type": "markdown",
   "id": "b3e5ad12",
   "metadata": {},
   "source": [
    "Find the solution of the equation below numerically.\n",
    "\n",
    "$ 10e^{\\frac{x}{10}} + x - 11 = 0$\n",
    "\n",
    "Suggested approach:\n",
    " - Implement the expression above as a function\n",
    " - You'll need `from math import exp` before you can use the exponential function\n",
    " - Write a function to find the lowest integer $x$ such that the solution is in the interval $x$ and $x+1$\n",
    " - Write a function that reduces the interval further using a bisection search, i.e. halving it at every step"
   ]
  },
  {
   "cell_type": "markdown",
   "id": "25266c59",
   "metadata": {},
   "source": []
  }
 ],
 "metadata": {
  "kernelspec": {
   "display_name": "base",
   "language": "python",
   "name": "python3"
  },
  "language_info": {
   "codemirror_mode": {
    "name": "ipython",
    "version": 3
   },
   "file_extension": ".py",
   "mimetype": "text/x-python",
   "name": "python",
   "nbconvert_exporter": "python",
   "pygments_lexer": "ipython3",
   "version": "3.9.10"
  }
 },
 "nbformat": 4,
 "nbformat_minor": 5
}
