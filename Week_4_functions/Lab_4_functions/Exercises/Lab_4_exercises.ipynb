{
 "cells": [
  {
   "cell_type": "markdown",
   "id": "34c82074",
   "metadata": {},
   "source": [
    "# Week 4 exercises"
   ]
  },
  {
   "cell_type": "code",
   "execution_count": null,
   "id": "ff408a09",
   "metadata": {},
   "outputs": [],
   "source": [
    "## Comprehension checks\n",
    "\n",
    "Usual deal - make sure you know whay these do what they do (even if it's to throw an error)"
   ]
  },
  {
   "cell_type": "code",
   "execution_count": null,
   "id": "5e2917da",
   "metadata": {},
   "outputs": [],
   "source": []
  },
  {
   "cell_type": "markdown",
   "id": "9d35046a",
   "metadata": {},
   "source": [
    "## Exercise 1"
   ]
  },
  {
   "cell_type": "markdown",
   "id": "b7c54357",
   "metadata": {},
   "source": [
    "Here's a function I have written to take the average of two numbers.  It's also written into your answer template.  Use the function to find the average of 19,315 and 22,664."
   ]
  },
  {
   "cell_type": "code",
   "execution_count": null,
   "id": "95d213c7",
   "metadata": {},
   "outputs": [],
   "source": [
    "def average(m,n):\n",
    "    return 0.5*(m+n)"
   ]
  },
  {
   "cell_type": "markdown",
   "id": "6a0cb000",
   "metadata": {},
   "source": [
    "## Exercise 2"
   ]
  },
  {
   "cell_type": "markdown",
   "id": "c4b7082b",
   "metadata": {},
   "source": [
    "Write a saturation function that limits or clips a value if it goes outside the range -1 to 1.\n",
    "\n",
    "$ y = \\left\\{ \\begin{align} -1 && x < -1 \\nonumber \\\\ x && -1 \\leq x \\leq 1 \\nonumber \\\\ 1 && x > 1 \\nonumber \\end{align} \\right. $\n",
    "\n",
    "Test it in all three cases and print results."
   ]
  },
  {
   "cell_type": "markdown",
   "id": "b73b9643",
   "metadata": {},
   "source": [
    "## Exercise 3"
   ]
  },
  {
   "cell_type": "markdown",
   "id": "b3e5ad12",
   "metadata": {},
   "source": [
    "Find the solution of the equation below numerically.\n",
    "\n",
    "$ 10e^{\\frac{x}{10}} + x - 11 = 0$\n",
    "\n",
    "Suggested approach:\n",
    " - Implement the expression above as a function\n",
    " - You'll need `from math import exp` before you can use the exponential function\n",
    " - Write a function to find the lowest integer $x$ such that the solution is between $x$ and $x+1$\n",
    " - Write a function that reduces the interval using a bisection search"
   ]
  }
 ],
 "metadata": {
  "kernelspec": {
   "display_name": "Python 3",
   "language": "python",
   "name": "python3"
  },
  "language_info": {
   "codemirror_mode": {
    "name": "ipython",
    "version": 3
   },
   "file_extension": ".py",
   "mimetype": "text/x-python",
   "name": "python",
   "nbconvert_exporter": "python",
   "pygments_lexer": "ipython3",
   "version": "3.10.11"
  }
 },
 "nbformat": 4,
 "nbformat_minor": 5
}
