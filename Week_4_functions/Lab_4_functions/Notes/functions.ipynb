{
 "cells": [
  {
   "cell_type": "markdown",
   "id": "945e0f9f",
   "metadata": {},
   "source": [
    "# Functions"
   ]
  },
  {
   "cell_type": "markdown",
   "id": "e83216d1",
   "metadata": {},
   "source": [
    "A function allows you to take a set of operations and package them for repeated use.  Functions are extremely powerful for dividing a problem into a set of smaller activities.  They should become a regular part of your programming habits."
   ]
  },
  {
   "cell_type": "markdown",
   "id": "1e7c0632",
   "metadata": {},
   "source": [
    "## Using functions"
   ]
  },
  {
   "cell_type": "markdown",
   "id": "f5ca0bd7",
   "metadata": {},
   "source": [
    "Have already used built-in functions"
   ]
  },
  {
   "cell_type": "code",
   "execution_count": 1,
   "id": "6d948c64",
   "metadata": {},
   "outputs": [
    {
     "name": "stdout",
     "output_type": "stream",
     "text": [
      "0.5891447579422695\n"
     ]
    }
   ],
   "source": [
    "from math import sin\n",
    "x = 0.63\n",
    "y = sin(x)\n",
    "print(y)"
   ]
  },
  {
   "cell_type": "markdown",
   "id": "3d8c7d61",
   "metadata": {},
   "source": [
    "Remember our processor knows how to do basic arithmetic: add, multiply, etc.  Calculating a sine value needs a bit more work, probably using a series approximation.  Happily, Python has packaged that up for us so we can invoke that work in a single keyword - a _function_."
   ]
  },
  {
   "cell_type": "markdown",
   "id": "1adc6185",
   "metadata": {},
   "source": [
    "### Interfaces"
   ]
  },
  {
   "cell_type": "markdown",
   "id": "1a4603a9",
   "metadata": {},
   "source": [
    "Look again at the example `y=sin(x)`.\n",
    "* `x` is an _argument_, meaning that the function code is passed `x` for use in its calculations.  You can think of these as inputs to the function.\n",
    "* `y` is the variable where the _return value_ is stored.  You can think of this value as the output.\n",
    "\n",
    "That's the basic concept of the function _interface_: we give it arguments, and it returns values. "
   ]
  },
  {
   "cell_type": "markdown",
   "id": "1d425bed",
   "metadata": {},
   "source": [
    "Functions do not always return values, as their purpose might be to take some other action, e.g. `print`."
   ]
  },
  {
   "cell_type": "markdown",
   "id": "f33cfaa6",
   "metadata": {},
   "source": [
    "Functions also might not need arguments, as they might not need to use our data, e.g. getting the time."
   ]
  },
  {
   "cell_type": "code",
   "execution_count": 4,
   "id": "c5db8d42",
   "metadata": {},
   "outputs": [
    {
     "name": "stdout",
     "output_type": "stream",
     "text": [
      "1759959013.950746\n"
     ]
    }
   ],
   "source": [
    "from time import time\n",
    "t = time()\n",
    "print(t)"
   ]
  },
  {
   "cell_type": "markdown",
   "id": "46867ae8",
   "metadata": {},
   "source": [
    "Finally, functions can have multiple arguments and return values."
   ]
  },
  {
   "cell_type": "code",
   "execution_count": 6,
   "id": "dcf6e761",
   "metadata": {},
   "outputs": [
    {
     "name": "stdout",
     "output_type": "stream",
     "text": [
      "-135.0\n"
     ]
    }
   ],
   "source": [
    "from math import atan2, degrees\n",
    "angle = atan2(-1,-1)\n",
    "print(degrees(angle))"
   ]
  },
  {
   "cell_type": "markdown",
   "id": "4161bd23",
   "metadata": {},
   "source": [
    "> I don't have a good example of multiple return values yet.  Wait until we write our own..."
   ]
  },
  {
   "cell_type": "markdown",
   "id": "bfbbe1dc",
   "metadata": {},
   "source": [
    "## Writing functions"
   ]
  },
  {
   "cell_type": "markdown",
   "id": "fa71bea0",
   "metadata": {},
   "source": [
    "We can arrange our own code into functions as well.  Before showing examples, let's discuss why."
   ]
  },
  {
   "cell_type": "markdown",
   "id": "146af053",
   "metadata": {},
   "source": [
    "### Why functions?"
   ]
  },
  {
   "cell_type": "markdown",
   "id": "e6208a3b",
   "metadata": {},
   "source": [
    "Consider the following code for finding the distance between two points."
   ]
  },
  {
   "cell_type": "code",
   "execution_count": 7,
   "id": "7e643fbd",
   "metadata": {},
   "outputs": [
    {
     "name": "stdout",
     "output_type": "stream",
     "text": [
      "Distance from 1 , 1 to 2 , 2 is 1.4142135623730951\n"
     ]
    }
   ],
   "source": [
    "xa = 1\n",
    "ya = 1\n",
    "xb = 2\n",
    "yb = 2\n",
    "from math import sqrt\n",
    "distance_ab = sqrt((xb-xa)**2 + (yb-ya)**2)\n",
    "print('Distance from',xa,',',ya,'to',xb,',',yb,'is',distance_ab)"
   ]
  },
  {
   "cell_type": "markdown",
   "id": "a53d72a4",
   "metadata": {},
   "source": [
    "If we want to do the same job twice, it's not too hard to copy and paste:"
   ]
  },
  {
   "cell_type": "code",
   "execution_count": 8,
   "id": "19f155e1",
   "metadata": {},
   "outputs": [
    {
     "name": "stdout",
     "output_type": "stream",
     "text": [
      "Distance from 1 , 1 to 2 , 2 is 1.4142135623730951\n",
      "Distance from 1 , 1 to 1 , 3 is 1.0\n"
     ]
    }
   ],
   "source": [
    "xa = 1\n",
    "ya = 1\n",
    "xb = 2\n",
    "yb = 2\n",
    "from math import sqrt\n",
    "distance_ab = sqrt((xb-xa)**2 + (yb-ya)**2)\n",
    "print('Distance from',xa,',',ya,'to',xb,',',yb,'is',distance_ab)\n",
    "xc = 1\n",
    "yc = 3\n",
    "distance_ac = sqrt((xc-xa)**2 + (yb-yc)**2)\n",
    "print('Distance from',xa,',',ya,'to',xc,',',yc,'is',distance_ac)\n"
   ]
  },
  {
   "cell_type": "markdown",
   "id": "63c7f8ba",
   "metadata": {},
   "source": [
    "> Is this right?  What's gone wrong?"
   ]
  },
  {
   "cell_type": "markdown",
   "id": "1fb1e5fd",
   "metadata": {},
   "source": [
    "Generally speaking, do not copy and paste code.  It invites errors when you tweak it.  Better, package this job using a function, and call the function twice."
   ]
  },
  {
   "cell_type": "code",
   "execution_count": 9,
   "id": "12ec81cd",
   "metadata": {},
   "outputs": [
    {
     "name": "stdout",
     "output_type": "stream",
     "text": [
      "Distance from 1 , 1 to 2 , 2 is 1.4142135623730951\n",
      "Distance from 1 , 1 to 1 , 3 is 2.0\n"
     ]
    }
   ],
   "source": [
    "from math import sqrt\n",
    "\n",
    "def distance(x1,y1,x2,y2):\n",
    "    d12 = sqrt((x1-x2)**2 + (y1-y2)**2)\n",
    "    return d12\n",
    "\n",
    "xa = 1\n",
    "ya = 1\n",
    "xb = 2\n",
    "yb = 2\n",
    "distance_ab = distance(xa,ya,xb,yb)\n",
    "print('Distance from',xa,',',ya,'to',xb,',',yb,'is',distance_ab)\n",
    "xc = 1\n",
    "yc = 3\n",
    "distance_ac = distance(xa,ya,xc,yc)\n",
    "print('Distance from',xa,',',ya,'to',xc,',',yc,'is',distance_ac)"
   ]
  },
  {
   "cell_type": "markdown",
   "id": "6cb36b15",
   "metadata": {},
   "source": [
    "Better - the calculation is coded once, and we re-use it by calling the function with different arguments."
   ]
  },
  {
   "cell_type": "markdown",
   "id": "38e2ae09",
   "metadata": {},
   "source": [
    "### Function syntax"
   ]
  },
  {
   "cell_type": "markdown",
   "id": "65d11bd7",
   "metadata": {},
   "source": [
    "In the example below, the keyword `def` marks the start of the function, and then we give it a name, and specify some arguments."
   ]
  },
  {
   "cell_type": "code",
   "execution_count": null,
   "id": "25e3de59",
   "metadata": {},
   "outputs": [],
   "source": [
    "def distance(x1,y1,x2,y2):\n",
    "    d12 = sqrt((x1-x2)**2 + (y1-y2)**2)\n",
    "    return d12"
   ]
  },
  {
   "cell_type": "markdown",
   "id": "e60733fa",
   "metadata": {},
   "source": [
    "The body of the function is the indented bit, and it will terminate when it gets to a `return` statement, giving the value of the expression after `return` as the return value of the function."
   ]
  },
  {
   "cell_type": "markdown",
   "id": "6232d7d4",
   "metadata": {},
   "source": [
    "The arguments are identified by _order_, so the first argument will become x1, the second argument y1, and so on.  Change the order of what you provide when you call the function, and you'll get a different answer.\n",
    "\n",
    "> Python also allows identifying arguments by name, but that's beyond our scope today."
   ]
  },
  {
   "cell_type": "code",
   "execution_count": 12,
   "id": "c4cd894a",
   "metadata": {},
   "outputs": [
    {
     "name": "stdout",
     "output_type": "stream",
     "text": [
      "Hello\n",
      "x is 1\n",
      "y is 2\n",
      "The End\n",
      "Hello\n",
      "x is 2\n",
      "y is 1\n",
      "The End\n"
     ]
    }
   ],
   "source": [
    "def print_me(x,y):\n",
    "    print('Hello')\n",
    "    print('x is',x)\n",
    "    print('y is',y)\n",
    "    print('The End')\n",
    "\n",
    "a = 1\n",
    "b = 2\n",
    "print_me(a,b)\n",
    "print_me(b,a)"
   ]
  },
  {
   "cell_type": "markdown",
   "id": "f3769432",
   "metadata": {},
   "source": [
    "Things to notice:\n",
    " - We changed the order that we put the arguments in, and the values of x and y inside the function changed.\n",
    " - This function does not have a return value.  It has no `return` statement.  The function ends when the indent stops."
   ]
  },
  {
   "cell_type": "markdown",
   "id": "f6bc5613",
   "metadata": {},
   "source": [
    "Here is an example with two inputs and two outputs.  Its goal is to sort two numbers into ascending order."
   ]
  },
  {
   "cell_type": "code",
   "execution_count": 14,
   "id": "34917e49",
   "metadata": {},
   "outputs": [
    {
     "name": "stdout",
     "output_type": "stream",
     "text": [
      "1 3\n",
      "3 100\n"
     ]
    }
   ],
   "source": [
    "def in_ascending_order(x,y):\n",
    "    if x>y:\n",
    "        largest = x\n",
    "        smallest = y\n",
    "    else:\n",
    "        largest = y\n",
    "        smallest = x\n",
    "    return smallest, largest\n",
    "\n",
    "lo,hi = in_ascending_order(3,1)\n",
    "print(lo,hi)\n",
    "lo,hi = in_ascending_order(3,100)\n",
    "print(lo,hi)\n"
   ]
  },
  {
   "cell_type": "markdown",
   "id": "0d327bd7",
   "metadata": {},
   "source": [
    "Things to notice:\n",
    "- I can return two values by putting them, comma separated, after `return`\n",
    "- If two values come back, I store them in two different places\n",
    "- We can use `if`, `else` and indeed other flow control like `for` or `while` inside a function, ending up with nested indents."
   ]
  },
  {
   "cell_type": "markdown",
   "id": "b2f798f7",
   "metadata": {},
   "source": [
    "### When functions go wrong"
   ]
  },
  {
   "cell_type": "markdown",
   "id": "600e655f",
   "metadata": {},
   "source": [
    "If you provide too many or two few arguments, Python will normally tell you."
   ]
  },
  {
   "cell_type": "code",
   "execution_count": 15,
   "id": "acef4cd1",
   "metadata": {},
   "outputs": [
    {
     "ename": "TypeError",
     "evalue": "double_me() takes 1 positional argument but 2 were given",
     "output_type": "error",
     "traceback": [
      "\u001b[1;31m---------------------------------------------------------------------------\u001b[0m",
      "\u001b[1;31mTypeError\u001b[0m                                 Traceback (most recent call last)",
      "Cell \u001b[1;32mIn[15], line 4\u001b[0m\n\u001b[0;32m      1\u001b[0m \u001b[38;5;28;01mdef\u001b[39;00m \u001b[38;5;21mdouble_me\u001b[39m(x):\n\u001b[0;32m      2\u001b[0m     \u001b[38;5;28;01mreturn\u001b[39;00m(\u001b[38;5;241m2\u001b[39m\u001b[38;5;241m*\u001b[39mx)\n\u001b[1;32m----> 4\u001b[0m y \u001b[38;5;241m=\u001b[39m \u001b[43mdouble_me\u001b[49m\u001b[43m(\u001b[49m\u001b[38;5;241;43m5\u001b[39;49m\u001b[43m,\u001b[49m\u001b[38;5;241;43m12\u001b[39;49m\u001b[43m)\u001b[49m\n",
      "\u001b[1;31mTypeError\u001b[0m: double_me() takes 1 positional argument but 2 were given"
     ]
    }
   ],
   "source": [
    "def double_me(x):\n",
    "    return(2*x)\n",
    "\n",
    "y = double_me(5,12)"
   ]
  },
  {
   "cell_type": "code",
   "execution_count": 16,
   "id": "b9b88780",
   "metadata": {},
   "outputs": [
    {
     "ename": "TypeError",
     "evalue": "double_me() missing 1 required positional argument: 'x'",
     "output_type": "error",
     "traceback": [
      "\u001b[1;31m---------------------------------------------------------------------------\u001b[0m",
      "\u001b[1;31mTypeError\u001b[0m                                 Traceback (most recent call last)",
      "Cell \u001b[1;32mIn[16], line 1\u001b[0m\n\u001b[1;32m----> 1\u001b[0m y \u001b[38;5;241m=\u001b[39m \u001b[43mdouble_me\u001b[49m\u001b[43m(\u001b[49m\u001b[43m)\u001b[49m\n",
      "\u001b[1;31mTypeError\u001b[0m: double_me() missing 1 required positional argument: 'x'"
     ]
    }
   ],
   "source": [
    "y = double_me()"
   ]
  },
  {
   "cell_type": "markdown",
   "id": "fd17793a",
   "metadata": {},
   "source": [
    "Quirkily, you can get away with getting the number of outputs wrong, but what you get back is a little weird."
   ]
  },
  {
   "cell_type": "code",
   "execution_count": 18,
   "id": "37e711ec",
   "metadata": {},
   "outputs": [
    {
     "name": "stdout",
     "output_type": "stream",
     "text": [
      "(6, 9)\n"
     ]
    }
   ],
   "source": [
    "def double_and_triple(x):\n",
    "    return 2*x, 3*x\n",
    "\n",
    "a = double_and_triple(3)\n",
    "print(a)"
   ]
  },
  {
   "cell_type": "markdown",
   "id": "2cd2a168",
   "metadata": {},
   "source": [
    "> Aside: this is because it's really returning a _tuple_ which will turn up later.  It's a Python oddity, powerful, but beyond scope for early steps in programming."
   ]
  },
  {
   "cell_type": "markdown",
   "id": "1164672f",
   "metadata": {},
   "source": [
    "### Scope"
   ]
  },
  {
   "cell_type": "markdown",
   "id": "58e6cac1",
   "metadata": {},
   "source": [
    "Mostly, the variables inside a function aren't the same as those outside.  Confused?  Believe me, this is a good thing, as it prevents accidental conflicts if you've used the same name for something elsewhere.  This is the concept of _scope_ of a variable - from where in the programme it can be accessed.\n",
    "\n",
    "> Imagine the function as its own private little world.  It knows the values of its arguments, but nothing else.  It has its own little memory and can make its own variables, quite separate from the world outside that called it.\n",
    "\n",
    "> This topic is more intricate in Python than there is time here to cover.  The interpretation above is safest."
   ]
  },
  {
   "cell_type": "markdown",
   "id": "78a233a0",
   "metadata": {},
   "source": [
    "An illustrative example.  Watch what happens to variable `a`."
   ]
  },
  {
   "cell_type": "code",
   "execution_count": 21,
   "id": "ec484fe7",
   "metadata": {},
   "outputs": [
    {
     "name": "stdout",
     "output_type": "stream",
     "text": [
      "a is 3\n",
      "About to call quadruple_me\n",
      "Starting quadruple_me.  x is 2\n",
      "Finishing quadruple_me.  a is 8\n",
      "Just called quadruple_me\n",
      "a is 3\n"
     ]
    }
   ],
   "source": [
    "def quadruple_me(x):\n",
    "    print('Starting quadruple_me.  x is',x)\n",
    "    a = 4*x\n",
    "    print('Finishing quadruple_me.  a is',a)\n",
    "    return a\n",
    "\n",
    "a = 3\n",
    "print('a is',a)\n",
    "print('About to call quadruple_me')\n",
    "b = quadruple_me(2)\n",
    "print('Just called quadruple_me')\n",
    "print('a is',a)"
   ]
  },
  {
   "cell_type": "markdown",
   "id": "82886e1a",
   "metadata": {},
   "source": [
    "Eh? What? Why does `a` change back to 3?  There's no line that does that?"
   ]
  },
  {
   "cell_type": "markdown",
   "id": "a0e4a874",
   "metadata": {},
   "source": [
    "No there isn't - but there are _two_ variables called `a`.\n",
    "* One is in the _global_ scope, and that one is set to 3 at the start, and is still set to 3 at the end.\n",
    "* The other is in the _local_ scope of the function `quadruple_me`.  It is set to 4*2 when the function runs.  It lives in a different bit of memory than the `a` outside.\n"
   ]
  }
 ],
 "metadata": {
  "kernelspec": {
   "display_name": "Python 3",
   "language": "python",
   "name": "python3"
  },
  "language_info": {
   "codemirror_mode": {
    "name": "ipython",
    "version": 3
   },
   "file_extension": ".py",
   "mimetype": "text/x-python",
   "name": "python",
   "nbconvert_exporter": "python",
   "pygments_lexer": "ipython3",
   "version": "3.10.11"
  }
 },
 "nbformat": 4,
 "nbformat_minor": 5
}
